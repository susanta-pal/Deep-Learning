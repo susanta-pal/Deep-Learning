{
  "nbformat": 4,
  "nbformat_minor": 0,
  "metadata": {
    "colab": {
      "provenance": []
    },
    "kernelspec": {
      "name": "python3",
      "display_name": "Python 3"
    },
    "language_info": {
      "name": "python"
    }
  },
  "cells": [
    {
      "cell_type": "markdown",
      "source": [
        "**Import:**\n",
        "Import and load the dataset required libraries to perform the sentiment analysis tasks."
      ],
      "metadata": {
        "id": "vqACykL9BZWT"
      }
    },
    {
      "cell_type": "code",
      "source": [
        "import tensorflow as tf\n",
        "import matplotlib.pyplot as plt\n",
        "import numpy as np\n",
        "# Load the IMDB Reviews dataset\n",
        "(x_train, y_train), (x_test, y_test) = tf.keras.datasets.imdb.load_data(num_words=10000)\n"
      ],
      "metadata": {
        "colab": {
          "base_uri": "https://localhost:8080/"
        },
        "id": "jOEjCULSdg6T",
        "outputId": "123a8347-62b4-4119-a734-cfb05e110960"
      },
      "execution_count": 2,
      "outputs": [
        {
          "output_type": "stream",
          "name": "stdout",
          "text": [
            "Downloading data from https://storage.googleapis.com/tensorflow/tf-keras-datasets/imdb.npz\n",
            "17464789/17464789 [==============================] - 1s 0us/step\n"
          ]
        }
      ]
    },
    {
      "cell_type": "markdown",
      "source": [
        "This is a dataset of 25,000 movies reviews from IMDB, labeled by sentiment (positive/negative). Reviews have been preprocessed, and each review is encoded as a list of word indexes (integers). For convenience, words are indexed by overall frequency in the dataset, so that for instance the integer \"3\" encodes the 3rd most frequent word in the data. This allows for quick filtering operations such as: \"only consider the top 10,000 most common words, but eliminate the top 20 most common words\".\n",
        "\n",
        "As a convention, \"0\" does not stand for a specific word, but instead is used to encode the pad token."
      ],
      "metadata": {
        "id": "g6BgnRpwFdgM"
      }
    },
    {
      "cell_type": "markdown",
      "source": [
        "**x_train, x_test:** lists of sequences, which are lists of indexes (integers). If the num_words argument was specific, the maximum possible index value is num_words - 1. If the maxlen argument was specified, the largest possible sequence length is maxlen.\n",
        "\n",
        "**y_train, y_test:** lists of integer labels (1 or 0)."
      ],
      "metadata": {
        "id": "TPFYDtXoJgTo"
      }
    },
    {
      "cell_type": "markdown",
      "source": [
        "**Padding:** Padding is a common technique used in natural language processing (NLP) to ensure all input sequences have the same length. This is often necessary because many NLP models, such as neural networks, require fixed-length input sequences."
      ],
      "metadata": {
        "id": "I1lmzBXjCEJZ"
      }
    },
    {
      "cell_type": "code",
      "source": [
        "# Pad the sequences to have equal length\n",
        "max_len = 500\n",
        "x_train = tf.keras.preprocessing.sequence.pad_sequences(x_train, maxlen=max_len)\n",
        "x_test = tf.keras.preprocessing.sequence.pad_sequences(x_test, maxlen=max_len)"
      ],
      "metadata": {
        "id": "FYbn1b_Ido-V"
      },
      "execution_count": 3,
      "outputs": []
    },
    {
      "cell_type": "markdown",
      "source": [
        "**Build the Model**"
      ],
      "metadata": {
        "id": "1CO2lgDFCUE0"
      }
    },
    {
      "cell_type": "code",
      "source": [
        "# Set the input and output dimensions\n",
        "input_dim = 10000\n",
        "output_dim = 1\n",
        "# Create the input layer\n",
        "inputs = tf.keras.Input(shape=(None,), dtype=\"int32\")\n",
        "\n",
        "# Create the model\n",
        "x = tf.keras.layers.Embedding(input_dim, 128)(inputs)\n",
        "x = tf.keras.layers.Bidirectional(tf.keras.layers.LSTM(64, return_sequences=True))(x)\n",
        "x = tf.keras.layers.Bidirectional(tf.keras.layers.LSTM(64))(x)\n",
        "outputs = tf.keras.layers.Dense(output_dim, activation=\"sigmoid\")(x)\n",
        "model = tf.keras.Model(inputs, outputs)\n",
        "\n",
        "# Compile the model\n",
        "model.compile(\"adam\", \"binary_crossentropy\", metrics=[\"accuracy\"])\n"
      ],
      "metadata": {
        "id": "OSvMpkPcdzEE"
      },
      "execution_count": 4,
      "outputs": []
    },
    {
      "cell_type": "markdown",
      "source": [
        "**Train**"
      ],
      "metadata": {
        "id": "dphtcAtcLiJu"
      }
    },
    {
      "cell_type": "code",
      "source": [
        "# Train the model\n",
        "batch_size = 32\n",
        "epochs = 5\n",
        "history = model.fit(x_train, y_train, batch_size=batch_size, epochs=epochs, validation_data=(x_test, y_test))"
      ],
      "metadata": {
        "colab": {
          "base_uri": "https://localhost:8080/"
        },
        "id": "FYLKQOvkd3-D",
        "outputId": "1b995784-ed1d-4ae3-9f60-79fd4c13898b"
      },
      "execution_count": 5,
      "outputs": [
        {
          "output_type": "stream",
          "name": "stdout",
          "text": [
            "Epoch 1/5\n",
            "782/782 [==============================] - 1365s 2s/step - loss: 0.4145 - accuracy: 0.8118 - val_loss: 0.6733 - val_accuracy: 0.6890\n",
            "Epoch 2/5\n",
            "782/782 [==============================] - 1333s 2s/step - loss: 0.3234 - accuracy: 0.8643 - val_loss: 0.3172 - val_accuracy: 0.8664\n",
            "Epoch 3/5\n",
            "782/782 [==============================] - 1326s 2s/step - loss: 0.2145 - accuracy: 0.9191 - val_loss: 0.3087 - val_accuracy: 0.8705\n",
            "Epoch 4/5\n",
            "782/782 [==============================] - 1291s 2s/step - loss: 0.1674 - accuracy: 0.9378 - val_loss: 0.2824 - val_accuracy: 0.8882\n",
            "Epoch 5/5\n",
            "782/782 [==============================] - 1286s 2s/step - loss: 0.1353 - accuracy: 0.9528 - val_loss: 0.3047 - val_accuracy: 0.8878\n"
          ]
        }
      ]
    },
    {
      "cell_type": "markdown",
      "source": [
        "**Accuracy**"
      ],
      "metadata": {
        "id": "C8oyrRStLSTw"
      }
    },
    {
      "cell_type": "code",
      "source": [
        "# Plot the accuracy\n",
        "fig = plt.plot(history.history['accuracy'])\n",
        "title = plt.title(\"History\")\n",
        "xlabel = plt.xlabel(\"Epochs\")\n",
        "ylabel = plt.ylabel(\"Accuracy\")"
      ],
      "metadata": {
        "colab": {
          "base_uri": "https://localhost:8080/",
          "height": 472
        },
        "id": "dTqf_okZeLYC",
        "outputId": "c9d89a8e-280d-44d1-c06b-4af513df3284"
      },
      "execution_count": 6,
      "outputs": [
        {
          "output_type": "display_data",
          "data": {
            "text/plain": [
              "<Figure size 640x480 with 1 Axes>"
            ],
            "image/png": "[encoded data removed]"
          },
          "metadata": {}
        }
      ]
    },
    {
      "cell_type": "markdown",
      "source": [
        "**Predict**"
      ],
      "metadata": {
        "id": "OkXGDN5mC1qy"
      }
    },
    {
      "cell_type": "code",
      "source": [
        "predictions = model.predict(x_test[:4])\n",
        "for pred in predictions:\n",
        "    print(np.argmax(pred))"
      ],
      "metadata": {
        "colab": {
          "base_uri": "https://localhost:8080/"
        },
        "id": "MawZjYwkJAXb",
        "outputId": "0a3d4045-ac83-4274-b6ac-f743e17d7d70"
      },
      "execution_count": 35,
      "outputs": [
        {
          "output_type": "stream",
          "name": "stdout",
          "text": [
            "1/1 [==============================] - 0s 147ms/step\n",
            "0\n",
            "0\n",
            "0\n",
            "0\n"
          ]
        }
      ]
    }
  ]
}