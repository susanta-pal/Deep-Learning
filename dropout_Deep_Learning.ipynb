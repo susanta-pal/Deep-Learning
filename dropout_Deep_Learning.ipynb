{
  "cells": [
    {
      "cell_type": "markdown",
      "metadata": {
        "origin_pos": 0,
        "id": "pVvO3fWQOH5-"
      },
      "source": [
        "# Dropout\n",
        "We know about the classical approach\n",
        "of regularizing statistical models\n",
        "by penalizing the $L_2$ norm of the weights.\n",
        "In probabilistic terms, we could justify this technique\n",
        "by arguing that we have assumed a prior belief\n",
        "that weights take values from\n",
        "a Gaussian distribution with mean zero.\n",
        "More intuitively, we might argue\n",
        "that we encouraged the model to spread out its weights\n",
        "among many features rather than depending too much\n",
        "on a small number of potentially spurious associations.\n",
        "\n",
        "## Overfitting Revisited\n",
        "\n",
        "Faced with more features than examples,\n",
        "linear models tend to overfit.\n",
        "But given more examples than features,\n",
        "we can generally count on linear models not to overfit.\n",
        "Unfortunately, the reliability with which\n",
        "linear models generalize comes at a cost.\n",
        "Naively applied, linear models do not take\n",
        "into account interactions among features.\n",
        "For every feature, a linear model must assign\n",
        "either a positive or a negative weight, ignoring context.\n",
        "\n",
        "In traditional texts, this fundamental tension\n",
        "between generalizability and flexibility\n",
        "is described as the *bias-variance tradeoff*.\n",
        "Linear models have high bias: they can only represent a small class of functions.\n",
        "However, these models have low variance: they give similar results\n",
        "across different random samples of the data.\n",
        "\n",
        "Deep neural networks inhabit the opposite\n",
        "end of the bias-variance spectrum.\n",
        "Unlike linear models, neural networks\n",
        "are not confined to looking at each feature individually.\n",
        "They can learn interactions among groups of features.\n",
        "For example, they might infer that\n",
        "“Nigeria” and “Western Union” appearing\n",
        "together in an email indicates spam\n",
        "but that separately they do not.\n",
        "\n",
        "Even when we have far more examples than features,\n",
        "deep neural networks are capable of overfitting.\n",
        "In 2017, a group of researchers demonstrated\n",
        "the extreme flexibility of neural networks\n",
        "by training deep nets on randomly-labeled images.\n",
        "Despite the absence of any true pattern\n",
        "linking the inputs to the outputs,\n",
        "they found that the neural network optimized by stochastic gradient descent\n",
        "could label every image in the training set perfectly.\n",
        "Consider what this means.\n",
        "If the labels are assigned uniformly\n",
        "at random and there are 10 classes,\n",
        "then no classifier can do better\n",
        "than 10% accuracy on holdout data.\n",
        "The generalization gap here is a whopping 90%.\n",
        "If our models are so expressive that they\n",
        "can overfit this badly, then when should\n",
        "we expect them not to overfit?\n",
        "\n",
        "The mathematical foundations for\n",
        "the puzzling generalization properties\n",
        "of deep networks remain open research questions,\n",
        "and we encourage the theoretically-oriented\n",
        "reader to dig deeper into the topic.\n",
        "For now, we turn to the investigation of\n",
        "practical tools that tend to\n",
        "empirically improve the generalization of deep nets.\n",
        "\n",
        "## Robustness through Perturbations\n",
        "\n",
        "Let us think briefly about what we\n",
        "expect from a good predictive model.\n",
        "We want it to peform well on unseen data.\n",
        "Classical generalization theory\n",
        "suggests that to close the gap between\n",
        "train and test performance,\n",
        "we should aim for a simple model.\n",
        "Simplicity can come in the form\n",
        "of a small number of dimensions.\n",
        "\n",
        "In 1995, Christopher Bishop formalized\n",
        "this idea when he proved that training with input noise\n",
        "is equivalent to Tikhonov regularization :cite:`Bishop.1995`.\n",
        "This work drew a clear mathematical connection\n",
        "between the requirement that a function be smooth (and thus simple),\n",
        "and the requirement that it be resilient\n",
        "to perturbations in the input.\n",
        "\n",
        "Then, in 2014, Srivastava et al. :cite:`Srivastava.Hinton.Krizhevsky.ea.2014`\n",
        "developed a clever idea for how to apply Bishop's idea\n",
        "to the internal layers of a network, too.\n",
        "Namely, they proposed to inject noise\n",
        "into each layer of the network\n",
        "before calculating the subsequent layer during training.\n",
        "They realized that when training\n",
        "a deep network with many layers,\n",
        "injecting noise enforces smoothness just on the input-output mapping.\n",
        "\n",
        "Their idea, called *dropout*, involves\n",
        "injecting noise while computing\n",
        "each internal layer during forward propagation,\n",
        "and it has become a standard technique\n",
        "for training neural networks.\n",
        "The method is called *dropout* because we literally\n",
        "*drop out* some neurons during training.\n",
        "Throughout training, on each iteration,\n",
        "standard dropout consists of zeroing out\n",
        "some fraction of the nodes in each layer\n",
        "before calculating the subsequent layer.\n",
        "\n",
        "To be clear, we are imposing\n",
        "our own narrative with the link to Bishop.\n",
        "The original paper on dropout\n",
        "offers intuition through a surprising\n",
        "analogy to sexual reproduction.\n",
        "The authors argue that neural network overfitting\n",
        "is characterized by a state in which\n",
        "each layer relies on a specifc\n",
        "pattern of activations in the previous layer,\n",
        "calling this condition *co-adaptation*.\n",
        "Dropout, they claim, breaks up co-adaptation\n",
        "just as sexual reproduction is argued to\n",
        "break up co-adapted genes.\n",
        "\n",
        "The key challenge then is how to inject this noise.\n",
        "One idea is to inject the noise in an *unbiased* manner\n",
        "so that the expected value of each layer---while fixing\n",
        "the others---equals to the value it would have taken absent noise.\n",
        "\n",
        "In Bishop's work, he added Gaussian noise\n",
        "to the inputs to a linear model.\n",
        "At each training iteration, he added noise\n",
        "sampled from a distribution with mean zero\n",
        "$\\epsilon \\sim \\mathcal{N}(0,\\sigma^2)$ to the input $\\mathbf{x}$,\n",
        "yielding a perturbed point $\\mathbf{x}' = \\mathbf{x} + \\epsilon$.\n",
        "In expectation, $E[\\mathbf{x}'] = \\mathbf{x}$.\n",
        "\n",
        "In standard dropout regularization,\n",
        "one debiases each layer by normalizing\n",
        "by the fraction of nodes that were retained (not dropped out).\n",
        "In other words,\n",
        "with *dropout probability* $p$,\n",
        "each intermediate activation $h$ is replaced by\n",
        "a random variable $h'$ as follows:\n",
        "\n",
        "$$\n",
        "\\begin{aligned}\n",
        "h' =\n",
        "\\begin{cases}\n",
        "    0 & \\text{ with probability } p \\\\\n",
        "    \\frac{h}{1-p} & \\text{ otherwise}\n",
        "\\end{cases}\n",
        "\\end{aligned}\n",
        "$$\n",
        "\n",
        "By design, the expectation remains unchanged, i.e., $E[h'] = h$.\n",
        "\n",
        "## Dropout in Practice\n",
        "\n",
        "Recall the MLP with a hidden layer and 5 hidden units.\n",
        "When we apply dropout to a hidden layer,\n",
        "zeroing out each hidden unit with probability $p$,\n",
        "the result can be viewed as a network\n",
        "containing only a subset of the original neurons.\n",
        "In the following figure, $h_2$ and $h_5$ are removed.\n",
        "Consequently, the calculation of the outputs\n",
        "no longer depends on $h_2$ or $h_5$\n",
        "and their respective gradient also vanishes\n",
        "when performing backpropagation.\n",
        "In this way, the calculation of the output layer\n",
        "cannot be overly dependent on any\n",
        "one element of $h_1, \\ldots, h_5$.\n",
        "\n",
        "Typically, we disable dropout at test time.\n",
        "Given a trained model and a new example,\n",
        "we do not drop out any nodes\n",
        "and thus do not need to normalize.\n",
        "However, there are some exceptions:\n",
        "some researchers use dropout at test time as a heuristic\n",
        "for estimating the *uncertainty* of neural network predictions:\n",
        "if the predictions agree across many different dropout masks,\n",
        "then we might say that the network is more confident.\n",
        "\n",
        "## Implementation from Scratch\n",
        "\n",
        "To implement the dropout function for a single layer,\n",
        "we must draw as many samples\n",
        "from a Bernoulli (binary) random variable\n",
        "as our layer has dimensions,\n",
        "where the random variable takes value $1$ (keep)\n",
        "with probability $1-p$ and $0$ (drop) with probability $p$.\n",
        "One easy way to implement this is to first draw samples\n",
        "from the uniform distribution $U[0, 1]$.\n",
        "Then we can keep those nodes for which the corresponding\n",
        "sample is greater than $p$, dropping the rest.\n",
        "\n",
        "In the following code, we (**implement a `dropout_layer` function\n",
        "that drops out the elements in the tensor input `X`\n",
        "with probability `dropout`**),\n",
        "rescaling the remainder as described above:\n",
        "dividing the survivors by `1.0-dropout`.\n"
      ]
    },
    {
      "cell_type": "markdown",
      "source": [
        "![Drop Out.PNG](data:image/png;base64,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)"
      ],
      "metadata": {
        "id": "Nke-LW_zZhDV"
      }
    },
    {
      "cell_type": "code",
      "execution_count": 1,
      "metadata": {
        "origin_pos": 1,
        "tab": [
          "mxnet"
        ],
        "colab": {
          "base_uri": "https://localhost:8080/",
          "height": 1000
        },
        "id": "ZUNft6YhOH6F",
        "outputId": "bc9b4e49-c231-434a-be4d-7749b7c07272"
      },
      "outputs": [
        {
          "output_type": "stream",
          "name": "stdout",
          "text": [
            "Collecting mxnet\n",
            "  Downloading mxnet-1.9.0-py3-none-manylinux2014_x86_64.whl (47.3 MB)\n",
            "\u001b[K     |████████████████████████████████| 47.3 MB 1.7 MB/s \n",
            "\u001b[?25hCollecting graphviz<0.9.0,>=0.8.1\n",
            "  Downloading graphviz-0.8.4-py2.py3-none-any.whl (16 kB)\n",
            "Requirement already satisfied: numpy<2.0.0,>1.16.0 in /usr/local/lib/python3.7/dist-packages (from mxnet) (1.19.5)\n",
            "Requirement already satisfied: requests<3,>=2.20.0 in /usr/local/lib/python3.7/dist-packages (from mxnet) (2.23.0)\n",
            "Requirement already satisfied: urllib3!=1.25.0,!=1.25.1,<1.26,>=1.21.1 in /usr/local/lib/python3.7/dist-packages (from requests<3,>=2.20.0->mxnet) (1.24.3)\n",
            "Requirement already satisfied: idna<3,>=2.5 in /usr/local/lib/python3.7/dist-packages (from requests<3,>=2.20.0->mxnet) (2.10)\n",
            "Requirement already satisfied: certifi>=2017.4.17 in /usr/local/lib/python3.7/dist-packages (from requests<3,>=2.20.0->mxnet) (2021.10.8)\n",
            "Requirement already satisfied: chardet<4,>=3.0.2 in /usr/local/lib/python3.7/dist-packages (from requests<3,>=2.20.0->mxnet) (3.0.4)\n",
            "Installing collected packages: graphviz, mxnet\n",
            "  Attempting uninstall: graphviz\n",
            "    Found existing installation: graphviz 0.10.1\n",
            "    Uninstalling graphviz-0.10.1:\n",
            "      Successfully uninstalled graphviz-0.10.1\n",
            "Successfully installed graphviz-0.8.4 mxnet-1.9.0\n",
            "Collecting d2l\n",
            "  Downloading d2l-0.17.3-py3-none-any.whl (82 kB)\n",
            "\u001b[K     |████████████████████████████████| 82 kB 400 kB/s \n",
            "\u001b[?25hCollecting requests==2.25.1\n",
            "  Downloading requests-2.25.1-py2.py3-none-any.whl (61 kB)\n",
            "\u001b[K     |████████████████████████████████| 61 kB 4.6 MB/s \n",
            "\u001b[?25hCollecting pandas==1.2.2\n",
            "  Downloading pandas-1.2.2-cp37-cp37m-manylinux1_x86_64.whl (9.9 MB)\n",
            "\u001b[K     |████████████████████████████████| 9.9 MB 22.3 MB/s \n",
            "\u001b[?25hRequirement already satisfied: jupyter==1.0.0 in /usr/local/lib/python3.7/dist-packages (from d2l) (1.0.0)\n",
            "Collecting numpy==1.18.5\n",
            "  Downloading numpy-1.18.5-cp37-cp37m-manylinux1_x86_64.whl (20.1 MB)\n",
            "\u001b[K     |████████████████████████████████| 20.1 MB 32.3 MB/s \n",
            "\u001b[?25hCollecting matplotlib==3.3.3\n",
            "  Downloading matplotlib-3.3.3-cp37-cp37m-manylinux1_x86_64.whl (11.6 MB)\n",
            "\u001b[K     |████████████████████████████████| 11.6 MB 50.5 MB/s \n",
            "\u001b[?25hRequirement already satisfied: ipykernel in /usr/local/lib/python3.7/dist-packages (from jupyter==1.0.0->d2l) (4.10.1)\n",
            "Requirement already satisfied: nbconvert in /usr/local/lib/python3.7/dist-packages (from jupyter==1.0.0->d2l) (5.6.1)\n",
            "Requirement already satisfied: ipywidgets in /usr/local/lib/python3.7/dist-packages (from jupyter==1.0.0->d2l) (7.6.5)\n",
            "Requirement already satisfied: notebook in /usr/local/lib/python3.7/dist-packages (from jupyter==1.0.0->d2l) (5.3.1)\n",
            "Requirement already satisfied: qtconsole in /usr/local/lib/python3.7/dist-packages (from jupyter==1.0.0->d2l) (5.2.2)\n",
            "Requirement already satisfied: jupyter-console in /usr/local/lib/python3.7/dist-packages (from jupyter==1.0.0->d2l) (5.2.0)\n",
            "Requirement already satisfied: pyparsing!=2.0.4,!=2.1.2,!=2.1.6,>=2.0.3 in /usr/local/lib/python3.7/dist-packages (from matplotlib==3.3.3->d2l) (3.0.7)\n",
            "Requirement already satisfied: kiwisolver>=1.0.1 in /usr/local/lib/python3.7/dist-packages (from matplotlib==3.3.3->d2l) (1.3.2)\n",
            "Requirement already satisfied: python-dateutil>=2.1 in /usr/local/lib/python3.7/dist-packages (from matplotlib==3.3.3->d2l) (2.8.2)\n",
            "Requirement already satisfied: cycler>=0.10 in /usr/local/lib/python3.7/dist-packages (from matplotlib==3.3.3->d2l) (0.11.0)\n",
            "Requirement already satisfied: pillow>=6.2.0 in /usr/local/lib/python3.7/dist-packages (from matplotlib==3.3.3->d2l) (7.1.2)\n",
            "Requirement already satisfied: pytz>=2017.3 in /usr/local/lib/python3.7/dist-packages (from pandas==1.2.2->d2l) (2018.9)\n",
            "Requirement already satisfied: certifi>=2017.4.17 in /usr/local/lib/python3.7/dist-packages (from requests==2.25.1->d2l) (2021.10.8)\n",
            "Requirement already satisfied: urllib3<1.27,>=1.21.1 in /usr/local/lib/python3.7/dist-packages (from requests==2.25.1->d2l) (1.24.3)\n",
            "Requirement already satisfied: idna<3,>=2.5 in /usr/local/lib/python3.7/dist-packages (from requests==2.25.1->d2l) (2.10)\n",
            "Requirement already satisfied: chardet<5,>=3.0.2 in /usr/local/lib/python3.7/dist-packages (from requests==2.25.1->d2l) (3.0.4)\n",
            "Requirement already satisfied: six>=1.5 in /usr/local/lib/python3.7/dist-packages (from python-dateutil>=2.1->matplotlib==3.3.3->d2l) (1.15.0)\n",
            "Requirement already satisfied: traitlets>=4.1.0 in /usr/local/lib/python3.7/dist-packages (from ipykernel->jupyter==1.0.0->d2l) (5.1.1)\n",
            "Requirement already satisfied: tornado>=4.0 in /usr/local/lib/python3.7/dist-packages (from ipykernel->jupyter==1.0.0->d2l) (5.1.1)\n",
            "Requirement already satisfied: ipython>=4.0.0 in /usr/local/lib/python3.7/dist-packages (from ipykernel->jupyter==1.0.0->d2l) (5.5.0)\n",
            "Requirement already satisfied: jupyter-client in /usr/local/lib/python3.7/dist-packages (from ipykernel->jupyter==1.0.0->d2l) (5.3.5)\n",
            "Requirement already satisfied: pygments in /usr/local/lib/python3.7/dist-packages (from ipython>=4.0.0->ipykernel->jupyter==1.0.0->d2l) (2.6.1)\n",
            "Requirement already satisfied: setuptools>=18.5 in /usr/local/lib/python3.7/dist-packages (from ipython>=4.0.0->ipykernel->jupyter==1.0.0->d2l) (57.4.0)\n",
            "Requirement already satisfied: decorator in /usr/local/lib/python3.7/dist-packages (from ipython>=4.0.0->ipykernel->jupyter==1.0.0->d2l) (4.4.2)\n",
            "Requirement already satisfied: simplegeneric>0.8 in /usr/local/lib/python3.7/dist-packages (from ipython>=4.0.0->ipykernel->jupyter==1.0.0->d2l) (0.8.1)\n",
            "Requirement already satisfied: prompt-toolkit<2.0.0,>=1.0.4 in /usr/local/lib/python3.7/dist-packages (from ipython>=4.0.0->ipykernel->jupyter==1.0.0->d2l) (1.0.18)\n",
            "Requirement already satisfied: pexpect in /usr/local/lib/python3.7/dist-packages (from ipython>=4.0.0->ipykernel->jupyter==1.0.0->d2l) (4.8.0)\n",
            "Requirement already satisfied: pickleshare in /usr/local/lib/python3.7/dist-packages (from ipython>=4.0.0->ipykernel->jupyter==1.0.0->d2l) (0.7.5)\n",
            "Requirement already satisfied: wcwidth in /usr/local/lib/python3.7/dist-packages (from prompt-toolkit<2.0.0,>=1.0.4->ipython>=4.0.0->ipykernel->jupyter==1.0.0->d2l) (0.2.5)\n",
            "Requirement already satisfied: ipython-genutils~=0.2.0 in /usr/local/lib/python3.7/dist-packages (from ipywidgets->jupyter==1.0.0->d2l) (0.2.0)\n",
            "Requirement already satisfied: nbformat>=4.2.0 in /usr/local/lib/python3.7/dist-packages (from ipywidgets->jupyter==1.0.0->d2l) (5.1.3)\n",
            "Requirement already satisfied: widgetsnbextension~=3.5.0 in /usr/local/lib/python3.7/dist-packages (from ipywidgets->jupyter==1.0.0->d2l) (3.5.2)\n",
            "Requirement already satisfied: jupyterlab-widgets>=1.0.0 in /usr/local/lib/python3.7/dist-packages (from ipywidgets->jupyter==1.0.0->d2l) (1.0.2)\n",
            "Requirement already satisfied: jupyter-core in /usr/local/lib/python3.7/dist-packages (from nbformat>=4.2.0->ipywidgets->jupyter==1.0.0->d2l) (4.9.1)\n",
            "Requirement already satisfied: jsonschema!=2.5.0,>=2.4 in /usr/local/lib/python3.7/dist-packages (from nbformat>=4.2.0->ipywidgets->jupyter==1.0.0->d2l) (4.3.3)\n",
            "Requirement already satisfied: typing-extensions in /usr/local/lib/python3.7/dist-packages (from jsonschema!=2.5.0,>=2.4->nbformat>=4.2.0->ipywidgets->jupyter==1.0.0->d2l) (3.10.0.2)\n",
            "Requirement already satisfied: attrs>=17.4.0 in /usr/local/lib/python3.7/dist-packages (from jsonschema!=2.5.0,>=2.4->nbformat>=4.2.0->ipywidgets->jupyter==1.0.0->d2l) (21.4.0)\n",
            "Requirement already satisfied: importlib-resources>=1.4.0 in /usr/local/lib/python3.7/dist-packages (from jsonschema!=2.5.0,>=2.4->nbformat>=4.2.0->ipywidgets->jupyter==1.0.0->d2l) (5.4.0)\n",
            "Requirement already satisfied: importlib-metadata in /usr/local/lib/python3.7/dist-packages (from jsonschema!=2.5.0,>=2.4->nbformat>=4.2.0->ipywidgets->jupyter==1.0.0->d2l) (4.10.1)\n",
            "Requirement already satisfied: pyrsistent!=0.17.0,!=0.17.1,!=0.17.2,>=0.14.0 in /usr/local/lib/python3.7/dist-packages (from jsonschema!=2.5.0,>=2.4->nbformat>=4.2.0->ipywidgets->jupyter==1.0.0->d2l) (0.18.1)\n",
            "Requirement already satisfied: zipp>=3.1.0 in /usr/local/lib/python3.7/dist-packages (from importlib-resources>=1.4.0->jsonschema!=2.5.0,>=2.4->nbformat>=4.2.0->ipywidgets->jupyter==1.0.0->d2l) (3.7.0)\n",
            "Requirement already satisfied: jinja2 in /usr/local/lib/python3.7/dist-packages (from notebook->jupyter==1.0.0->d2l) (2.11.3)\n",
            "Requirement already satisfied: Send2Trash in /usr/local/lib/python3.7/dist-packages (from notebook->jupyter==1.0.0->d2l) (1.8.0)\n",
            "Requirement already satisfied: terminado>=0.8.1 in /usr/local/lib/python3.7/dist-packages (from notebook->jupyter==1.0.0->d2l) (0.12.1)\n",
            "Requirement already satisfied: pyzmq>=13 in /usr/local/lib/python3.7/dist-packages (from jupyter-client->ipykernel->jupyter==1.0.0->d2l) (22.3.0)\n",
            "Requirement already satisfied: ptyprocess in /usr/local/lib/python3.7/dist-packages (from terminado>=0.8.1->notebook->jupyter==1.0.0->d2l) (0.7.0)\n",
            "Requirement already satisfied: MarkupSafe>=0.23 in /usr/local/lib/python3.7/dist-packages (from jinja2->notebook->jupyter==1.0.0->d2l) (2.0.1)\n",
            "Requirement already satisfied: entrypoints>=0.2.2 in /usr/local/lib/python3.7/dist-packages (from nbconvert->jupyter==1.0.0->d2l) (0.3)\n",
            "Requirement already satisfied: defusedxml in /usr/local/lib/python3.7/dist-packages (from nbconvert->jupyter==1.0.0->d2l) (0.7.1)\n",
            "Requirement already satisfied: pandocfilters>=1.4.1 in /usr/local/lib/python3.7/dist-packages (from nbconvert->jupyter==1.0.0->d2l) (1.5.0)\n",
            "Requirement already satisfied: testpath in /usr/local/lib/python3.7/dist-packages (from nbconvert->jupyter==1.0.0->d2l) (0.5.0)\n",
            "Requirement already satisfied: bleach in /usr/local/lib/python3.7/dist-packages (from nbconvert->jupyter==1.0.0->d2l) (4.1.0)\n",
            "Requirement already satisfied: mistune<2,>=0.8.1 in /usr/local/lib/python3.7/dist-packages (from nbconvert->jupyter==1.0.0->d2l) (0.8.4)\n",
            "Requirement already satisfied: webencodings in /usr/local/lib/python3.7/dist-packages (from bleach->nbconvert->jupyter==1.0.0->d2l) (0.5.1)\n",
            "Requirement already satisfied: packaging in /usr/local/lib/python3.7/dist-packages (from bleach->nbconvert->jupyter==1.0.0->d2l) (21.3)\n",
            "Requirement already satisfied: qtpy in /usr/local/lib/python3.7/dist-packages (from qtconsole->jupyter==1.0.0->d2l) (2.0.0)\n",
            "Installing collected packages: numpy, requests, pandas, matplotlib, d2l\n",
            "  Attempting uninstall: numpy\n",
            "    Found existing installation: numpy 1.19.5\n",
            "    Uninstalling numpy-1.19.5:\n",
            "      Successfully uninstalled numpy-1.19.5\n",
            "  Attempting uninstall: requests\n",
            "    Found existing installation: requests 2.23.0\n",
            "    Uninstalling requests-2.23.0:\n",
            "      Successfully uninstalled requests-2.23.0\n",
            "  Attempting uninstall: pandas\n",
            "    Found existing installation: pandas 1.1.5\n",
            "    Uninstalling pandas-1.1.5:\n",
            "      Successfully uninstalled pandas-1.1.5\n",
            "  Attempting uninstall: matplotlib\n",
            "    Found existing installation: matplotlib 3.2.2\n",
            "    Uninstalling matplotlib-3.2.2:\n",
            "      Successfully uninstalled matplotlib-3.2.2\n",
            "\u001b[31mERROR: pip's dependency resolver does not currently take into account all the packages that are installed. This behaviour is the source of the following dependency conflicts.\n",
            "google-colab 1.0.0 requires pandas~=1.1.0; python_version >= \"3.0\", but you have pandas 1.2.2 which is incompatible.\n",
            "google-colab 1.0.0 requires requests~=2.23.0, but you have requests 2.25.1 which is incompatible.\n",
            "datascience 0.10.6 requires folium==0.2.1, but you have folium 0.8.3 which is incompatible.\n",
            "albumentations 0.1.12 requires imgaug<0.2.7,>=0.2.5, but you have imgaug 0.2.9 which is incompatible.\u001b[0m\n",
            "Successfully installed d2l-0.17.3 matplotlib-3.3.3 numpy-1.18.5 pandas-1.2.2 requests-2.25.1\n"
          ]
        },
        {
          "output_type": "display_data",
          "data": {
            "application/vnd.colab-display-data+json": {
              "pip_warning": {
                "packages": [
                  "matplotlib",
                  "mpl_toolkits",
                  "numpy",
                  "pandas"
                ]
              }
            }
          },
          "metadata": {}
        }
      ],
      "source": [
        "!pip install mxnet\n",
        "!pip install d2l\n",
        "from mxnet import autograd, gluon, init, np, npx\n",
        "from mxnet.gluon import nn\n",
        "from d2l import mxnet as d2l\n",
        "\n",
        "npx.set_np()\n",
        "\n",
        "def dropout_layer(X, dropout):\n",
        "    assert 0 <= dropout <= 1\n",
        "    # In this case, all elements are dropped out\n",
        "    if dropout == 1:\n",
        "        return np.zeros_like(X)\n",
        "    # In this case, all elements are kept\n",
        "    if dropout == 0:\n",
        "        return X\n",
        "    mask = np.random.uniform(0, 1, X.shape) > dropout\n",
        "    return mask.astype(np.float32) * X / (1.0 - dropout)"
      ]
    },
    {
      "cell_type": "markdown",
      "metadata": {
        "origin_pos": 4,
        "id": "yVlUGr1sOH6H"
      },
      "source": [
        "We can [**test out the `dropout_layer` function on a few examples**].\n",
        "In the following lines of code,\n",
        "we pass our input `X` through the dropout operation,\n",
        "with probabilities 0, 0.5, and 1, respectively.\n"
      ]
    },
    {
      "cell_type": "code",
      "execution_count": 2,
      "metadata": {
        "origin_pos": 5,
        "tab": [
          "mxnet"
        ],
        "colab": {
          "base_uri": "https://localhost:8080/"
        },
        "id": "90vA4uCWOH6H",
        "outputId": "dfa90a7c-21ef-4d3b-b0e7-904b04ef87c2"
      },
      "outputs": [
        {
          "output_type": "stream",
          "name": "stdout",
          "text": [
            "[[ 0.  1.  2.  3.  4.  5.  6.  7.]\n",
            " [ 8.  9. 10. 11. 12. 13. 14. 15.]]\n",
            "[[ 0.  2.  4.  6.  8. 10. 12. 14.]\n",
            " [ 0. 18. 20.  0.  0.  0. 28.  0.]]\n",
            "[[0. 0. 0. 0. 0. 0. 0. 0.]\n",
            " [0. 0. 0. 0. 0. 0. 0. 0.]]\n"
          ]
        }
      ],
      "source": [
        "X = np.arange(16).reshape(2, 8)\n",
        "print(dropout_layer(X, 0))\n",
        "print(dropout_layer(X, 0.5))\n",
        "print(dropout_layer(X, 1))"
      ]
    },
    {
      "cell_type": "markdown",
      "metadata": {
        "origin_pos": 8,
        "id": "FV6MRDzhOH6I"
      },
      "source": [
        "### Defining Model Parameters\n",
        "\n",
        "Again, we are working with the Fashion-MNIST dataset.\n",
        "We [**define an MLP with\n",
        "two hidden layers containing 256 units each.**]\n"
      ]
    },
    {
      "cell_type": "code",
      "execution_count": 3,
      "metadata": {
        "origin_pos": 9,
        "tab": [
          "mxnet"
        ],
        "id": "aVgQJo1QOH6I"
      },
      "outputs": [],
      "source": [
        "num_inputs, num_outputs, num_hiddens1, num_hiddens2 = 784, 10, 256, 256\n",
        "\n",
        "W1 = np.random.normal(scale=0.01, size=(num_inputs, num_hiddens1))\n",
        "b1 = np.zeros(num_hiddens1)\n",
        "W2 = np.random.normal(scale=0.01, size=(num_hiddens1, num_hiddens2))\n",
        "b2 = np.zeros(num_hiddens2)\n",
        "W3 = np.random.normal(scale=0.01, size=(num_hiddens2, num_outputs))\n",
        "b3 = np.zeros(num_outputs)\n",
        "\n",
        "params = [W1, b1, W2, b2, W3, b3]\n",
        "for param in params:\n",
        "    param.attach_grad()"
      ]
    },
    {
      "cell_type": "markdown",
      "metadata": {
        "origin_pos": 12,
        "id": "VftsLIEMOH6J"
      },
      "source": [
        "### Defining the Model\n",
        "\n",
        "The model below applies dropout to the output\n",
        "of each hidden layer (following the activation function).\n",
        "We can set dropout probabilities for each layer separately.\n",
        "A common trend is to set\n",
        "a lower dropout probability closer to the input layer.\n",
        "Below we set it to 0.2 and 0.5 for the first\n",
        "and second hidden layers, respectively.\n",
        "We ensure that dropout is only active during training.\n"
      ]
    },
    {
      "cell_type": "code",
      "execution_count": 4,
      "metadata": {
        "origin_pos": 13,
        "tab": [
          "mxnet"
        ],
        "id": "kEsttg6OOH6J"
      },
      "outputs": [],
      "source": [
        "dropout1, dropout2 = 0.2, 0.5\n",
        "\n",
        "def net(X):\n",
        "    X = X.reshape(-1, num_inputs)\n",
        "    H1 = npx.relu(np.dot(X, W1) + b1)\n",
        "    # Use dropout only when training the model\n",
        "    if autograd.is_training():\n",
        "        # Add a dropout layer after the first fully connected layer\n",
        "        H1 = dropout_layer(H1, dropout1)\n",
        "    H2 = npx.relu(np.dot(H1, W2) + b2)\n",
        "    if autograd.is_training():\n",
        "        # Add a dropout layer after the second fully connected layer\n",
        "        H2 = dropout_layer(H2, dropout2)\n",
        "    return np.dot(H2, W3) + b3"
      ]
    },
    {
      "cell_type": "markdown",
      "metadata": {
        "origin_pos": 16,
        "id": "cN39oGsDOH6K"
      },
      "source": [
        "### [**Training and Testing**]\n",
        "\n",
        "This is similar to the training and testing of MLPs described previously.\n"
      ]
    },
    {
      "cell_type": "code",
      "execution_count": 7,
      "metadata": {
        "origin_pos": 17,
        "tab": [
          "mxnet"
        ],
        "colab": {
          "base_uri": "https://localhost:8080/",
          "height": 262
        },
        "id": "zWrkT129OH6K",
        "outputId": "e6d03cd7-95d0-475b-cb55-2fa236ee4f7f"
      },
      "outputs": [
        {
          "output_type": "display_data",
          "data": {
            "text/plain": [
              "<Figure size 252x180 with 1 Axes>"
            ],
            "image/svg+xml": "<?xml version=\"1.0\" encoding=\"utf-8\" standalone=\"no\"?>\n<!DOCTYPE svg PUBLIC \"-//W3C//DTD SVG 1.1//EN\"\n  \"http://www.w3.org/Graphics/SVG/1.1/DTD/svg11.dtd\">\n<!-- Created with matplotlib (https://matplotlib.org/) -->\n<svg height=\"180.65625pt\" version=\"1.1\" viewBox=\"0 0 238.965625 180.65625\" width=\"238.965625pt\" xmlns=\"http://www.w3.org/2000/svg\" xmlns:xlink=\"http://www.w3.org/1999/xlink\">\n <defs>\n  <style type=\"text/css\">\n*{stroke-linecap:butt;stroke-linejoin:round;}\n  </style>\n </defs>\n <g id=\"figure_1\">\n  <g id=\"patch_1\">\n   <path d=\"M 0 180.65625 \nL 238.965625 180.65625 \nL 238.965625 0 \nL 0 0 \nz\n\" style=\"fill:none;\"/>\n  </g>\n  <g id=\"axes_1\">\n   <g id=\"patch_2\">\n    <path d=\"M 30.103125 143.1 \nL 225.403125 143.1 \nL 225.403125 7.2 \nL 30.103125 7.2 \nz\n\" style=\"fill:#ffffff;\"/>\n   </g>\n   <g id=\"matplotlib.axis_1\">\n    <g id=\"xtick_1\">\n     <g id=\"line2d_1\">\n      <path clip-path=\"url(#p859dbf46dc)\" d=\"M 51.803125 143.1 \nL 51.803125 7.2 \n\" style=\"fill:none;stroke:#b0b0b0;stroke-linecap:square;stroke-width:0.8;\"/>\n     </g>\n     <g id=\"line2d_2\">\n      <defs>\n       <path d=\"M 0 0 \nL 0 3.5 \n\" id=\"mc1a575c713\" style=\"stroke:#000000;stroke-width:0.8;\"/>\n      </defs>\n      <g>\n       <use style=\"stroke:#000000;stroke-width:0.8;\" x=\"51.803125\" xlink:href=\"#mc1a575c713\" y=\"143.1\"/>\n      </g>\n     </g>\n     <g id=\"text_1\">\n      <!-- 2 -->\n      <defs>\n       <path d=\"M 19.1875 8.296875 \nL 53.609375 8.296875 \nL 53.609375 0 \nL 7.328125 0 \nL 7.328125 8.296875 \nQ 12.9375 14.109375 22.625 23.890625 \nQ 32.328125 33.6875 34.8125 36.53125 \nQ 39.546875 41.84375 41.421875 45.53125 \nQ 43.3125 49.21875 43.3125 52.78125 \nQ 43.3125 58.59375 39.234375 62.25 \nQ 35.15625 65.921875 28.609375 65.921875 \nQ 23.96875 65.921875 18.8125 64.3125 \nQ 13.671875 62.703125 7.8125 59.421875 \nL 7.8125 69.390625 \nQ 13.765625 71.78125 18.9375 73 \nQ 24.125 74.21875 28.421875 74.21875 \nQ 39.75 74.21875 46.484375 68.546875 \nQ 53.21875 62.890625 53.21875 53.421875 \nQ 53.21875 48.921875 51.53125 44.890625 \nQ 49.859375 40.875 45.40625 35.40625 \nQ 44.1875 33.984375 37.640625 27.21875 \nQ 31.109375 20.453125 19.1875 8.296875 \nz\n\" id=\"DejaVuSans-50\"/>\n      </defs>\n      <g transform=\"translate(48.621875 157.698438)scale(0.1 -0.1)\">\n       <use xlink:href=\"#DejaVuSans-50\"/>\n      </g>\n     </g>\n    </g>\n    <g id=\"xtick_2\">\n     <g id=\"line2d_3\">\n      <path clip-path=\"url(#p859dbf46dc)\" d=\"M 95.203125 143.1 \nL 95.203125 7.2 \n\" style=\"fill:none;stroke:#b0b0b0;stroke-linecap:square;stroke-width:0.8;\"/>\n     </g>\n     <g id=\"line2d_4\">\n      <g>\n       <use style=\"stroke:#000000;stroke-width:0.8;\" x=\"95.203125\" xlink:href=\"#mc1a575c713\" y=\"143.1\"/>\n      </g>\n     </g>\n     <g id=\"text_2\">\n      <!-- 4 -->\n      <defs>\n       <path d=\"M 37.796875 64.3125 \nL 12.890625 25.390625 \nL 37.796875 25.390625 \nz\nM 35.203125 72.90625 \nL 47.609375 72.90625 \nL 47.609375 25.390625 \nL 58.015625 25.390625 \nL 58.015625 17.1875 \nL 47.609375 17.1875 \nL 47.609375 0 \nL 37.796875 0 \nL 37.796875 17.1875 \nL 4.890625 17.1875 \nL 4.890625 26.703125 \nz\n\" id=\"DejaVuSans-52\"/>\n      </defs>\n      <g transform=\"translate(92.021875 157.698438)scale(0.1 -0.1)\">\n       <use xlink:href=\"#DejaVuSans-52\"/>\n      </g>\n     </g>\n    </g>\n    <g id=\"xtick_3\">\n     <g id=\"line2d_5\">\n      <path clip-path=\"url(#p859dbf46dc)\" d=\"M 138.603125 143.1 \nL 138.603125 7.2 \n\" style=\"fill:none;stroke:#b0b0b0;stroke-linecap:square;stroke-width:0.8;\"/>\n     </g>\n     <g id=\"line2d_6\">\n      <g>\n       <use style=\"stroke:#000000;stroke-width:0.8;\" x=\"138.603125\" xlink:href=\"#mc1a575c713\" y=\"143.1\"/>\n      </g>\n     </g>\n     <g id=\"text_3\">\n      <!-- 6 -->\n      <defs>\n       <path d=\"M 33.015625 40.375 \nQ 26.375 40.375 22.484375 35.828125 \nQ 18.609375 31.296875 18.609375 23.390625 \nQ 18.609375 15.53125 22.484375 10.953125 \nQ 26.375 6.390625 33.015625 6.390625 \nQ 39.65625 6.390625 43.53125 10.953125 \nQ 47.40625 15.53125 47.40625 23.390625 \nQ 47.40625 31.296875 43.53125 35.828125 \nQ 39.65625 40.375 33.015625 40.375 \nz\nM 52.59375 71.296875 \nL 52.59375 62.3125 \nQ 48.875 64.0625 45.09375 64.984375 \nQ 41.3125 65.921875 37.59375 65.921875 \nQ 27.828125 65.921875 22.671875 59.328125 \nQ 17.53125 52.734375 16.796875 39.40625 \nQ 19.671875 43.65625 24.015625 45.921875 \nQ 28.375 48.1875 33.59375 48.1875 \nQ 44.578125 48.1875 50.953125 41.515625 \nQ 57.328125 34.859375 57.328125 23.390625 \nQ 57.328125 12.15625 50.6875 5.359375 \nQ 44.046875 -1.421875 33.015625 -1.421875 \nQ 20.359375 -1.421875 13.671875 8.265625 \nQ 6.984375 17.96875 6.984375 36.375 \nQ 6.984375 53.65625 15.1875 63.9375 \nQ 23.390625 74.21875 37.203125 74.21875 \nQ 40.921875 74.21875 44.703125 73.484375 \nQ 48.484375 72.75 52.59375 71.296875 \nz\n\" id=\"DejaVuSans-54\"/>\n      </defs>\n      <g transform=\"translate(135.421875 157.698438)scale(0.1 -0.1)\">\n       <use xlink:href=\"#DejaVuSans-54\"/>\n      </g>\n     </g>\n    </g>\n    <g id=\"xtick_4\">\n     <g id=\"line2d_7\">\n      <path clip-path=\"url(#p859dbf46dc)\" d=\"M 182.003125 143.1 \nL 182.003125 7.2 \n\" style=\"fill:none;stroke:#b0b0b0;stroke-linecap:square;stroke-width:0.8;\"/>\n     </g>\n     <g id=\"line2d_8\">\n      <g>\n       <use style=\"stroke:#000000;stroke-width:0.8;\" x=\"182.003125\" xlink:href=\"#mc1a575c713\" y=\"143.1\"/>\n      </g>\n     </g>\n     <g id=\"text_4\">\n      <!-- 8 -->\n      <defs>\n       <path d=\"M 31.78125 34.625 \nQ 24.75 34.625 20.71875 30.859375 \nQ 16.703125 27.09375 16.703125 20.515625 \nQ 16.703125 13.921875 20.71875 10.15625 \nQ 24.75 6.390625 31.78125 6.390625 \nQ 38.8125 6.390625 42.859375 10.171875 \nQ 46.921875 13.96875 46.921875 20.515625 \nQ 46.921875 27.09375 42.890625 30.859375 \nQ 38.875 34.625 31.78125 34.625 \nz\nM 21.921875 38.8125 \nQ 15.578125 40.375 12.03125 44.71875 \nQ 8.5 49.078125 8.5 55.328125 \nQ 8.5 64.0625 14.71875 69.140625 \nQ 20.953125 74.21875 31.78125 74.21875 \nQ 42.671875 74.21875 48.875 69.140625 \nQ 55.078125 64.0625 55.078125 55.328125 \nQ 55.078125 49.078125 51.53125 44.71875 \nQ 48 40.375 41.703125 38.8125 \nQ 48.828125 37.15625 52.796875 32.3125 \nQ 56.78125 27.484375 56.78125 20.515625 \nQ 56.78125 9.90625 50.3125 4.234375 \nQ 43.84375 -1.421875 31.78125 -1.421875 \nQ 19.734375 -1.421875 13.25 4.234375 \nQ 6.78125 9.90625 6.78125 20.515625 \nQ 6.78125 27.484375 10.78125 32.3125 \nQ 14.796875 37.15625 21.921875 38.8125 \nz\nM 18.3125 54.390625 \nQ 18.3125 48.734375 21.84375 45.5625 \nQ 25.390625 42.390625 31.78125 42.390625 \nQ 38.140625 42.390625 41.71875 45.5625 \nQ 45.3125 48.734375 45.3125 54.390625 \nQ 45.3125 60.0625 41.71875 63.234375 \nQ 38.140625 66.40625 31.78125 66.40625 \nQ 25.390625 66.40625 21.84375 63.234375 \nQ 18.3125 60.0625 18.3125 54.390625 \nz\n\" id=\"DejaVuSans-56\"/>\n      </defs>\n      <g transform=\"translate(178.821875 157.698438)scale(0.1 -0.1)\">\n       <use xlink:href=\"#DejaVuSans-56\"/>\n      </g>\n     </g>\n    </g>\n    <g id=\"xtick_5\">\n     <g id=\"line2d_9\">\n      <path clip-path=\"url(#p859dbf46dc)\" d=\"M 225.403125 143.1 \nL 225.403125 7.2 \n\" style=\"fill:none;stroke:#b0b0b0;stroke-linecap:square;stroke-width:0.8;\"/>\n     </g>\n     <g id=\"line2d_10\">\n      <g>\n       <use style=\"stroke:#000000;stroke-width:0.8;\" x=\"225.403125\" xlink:href=\"#mc1a575c713\" y=\"143.1\"/>\n      </g>\n     </g>\n     <g id=\"text_5\">\n      <!-- 10 -->\n      <defs>\n       <path d=\"M 12.40625 8.296875 \nL 28.515625 8.296875 \nL 28.515625 63.921875 \nL 10.984375 60.40625 \nL 10.984375 69.390625 \nL 28.421875 72.90625 \nL 38.28125 72.90625 \nL 38.28125 8.296875 \nL 54.390625 8.296875 \nL 54.390625 0 \nL 12.40625 0 \nz\n\" id=\"DejaVuSans-49\"/>\n       <path d=\"M 31.78125 66.40625 \nQ 24.171875 66.40625 20.328125 58.90625 \nQ 16.5 51.421875 16.5 36.375 \nQ 16.5 21.390625 20.328125 13.890625 \nQ 24.171875 6.390625 31.78125 6.390625 \nQ 39.453125 6.390625 43.28125 13.890625 \nQ 47.125 21.390625 47.125 36.375 \nQ 47.125 51.421875 43.28125 58.90625 \nQ 39.453125 66.40625 31.78125 66.40625 \nz\nM 31.78125 74.21875 \nQ 44.046875 74.21875 50.515625 64.515625 \nQ 56.984375 54.828125 56.984375 36.375 \nQ 56.984375 17.96875 50.515625 8.265625 \nQ 44.046875 -1.421875 31.78125 -1.421875 \nQ 19.53125 -1.421875 13.0625 8.265625 \nQ 6.59375 17.96875 6.59375 36.375 \nQ 6.59375 54.828125 13.0625 64.515625 \nQ 19.53125 74.21875 31.78125 74.21875 \nz\n\" id=\"DejaVuSans-48\"/>\n      </defs>\n      <g transform=\"translate(219.040625 157.698438)scale(0.1 -0.1)\">\n       <use xlink:href=\"#DejaVuSans-49\"/>\n       <use x=\"63.623047\" xlink:href=\"#DejaVuSans-48\"/>\n      </g>\n     </g>\n    </g>\n    <g id=\"text_6\">\n     <!-- epoch -->\n     <defs>\n      <path d=\"M 56.203125 29.59375 \nL 56.203125 25.203125 \nL 14.890625 25.203125 \nQ 15.484375 15.921875 20.484375 11.0625 \nQ 25.484375 6.203125 34.421875 6.203125 \nQ 39.59375 6.203125 44.453125 7.46875 \nQ 49.3125 8.734375 54.109375 11.28125 \nL 54.109375 2.78125 \nQ 49.265625 0.734375 44.1875 -0.34375 \nQ 39.109375 -1.421875 33.890625 -1.421875 \nQ 20.796875 -1.421875 13.15625 6.1875 \nQ 5.515625 13.8125 5.515625 26.8125 \nQ 5.515625 40.234375 12.765625 48.109375 \nQ 20.015625 56 32.328125 56 \nQ 43.359375 56 49.78125 48.890625 \nQ 56.203125 41.796875 56.203125 29.59375 \nz\nM 47.21875 32.234375 \nQ 47.125 39.59375 43.09375 43.984375 \nQ 39.0625 48.390625 32.421875 48.390625 \nQ 24.90625 48.390625 20.390625 44.140625 \nQ 15.875 39.890625 15.1875 32.171875 \nz\n\" id=\"DejaVuSans-101\"/>\n      <path d=\"M 18.109375 8.203125 \nL 18.109375 -20.796875 \nL 9.078125 -20.796875 \nL 9.078125 54.6875 \nL 18.109375 54.6875 \nL 18.109375 46.390625 \nQ 20.953125 51.265625 25.265625 53.625 \nQ 29.59375 56 35.59375 56 \nQ 45.5625 56 51.78125 48.09375 \nQ 58.015625 40.1875 58.015625 27.296875 \nQ 58.015625 14.40625 51.78125 6.484375 \nQ 45.5625 -1.421875 35.59375 -1.421875 \nQ 29.59375 -1.421875 25.265625 0.953125 \nQ 20.953125 3.328125 18.109375 8.203125 \nz\nM 48.6875 27.296875 \nQ 48.6875 37.203125 44.609375 42.84375 \nQ 40.53125 48.484375 33.40625 48.484375 \nQ 26.265625 48.484375 22.1875 42.84375 \nQ 18.109375 37.203125 18.109375 27.296875 \nQ 18.109375 17.390625 22.1875 11.75 \nQ 26.265625 6.109375 33.40625 6.109375 \nQ 40.53125 6.109375 44.609375 11.75 \nQ 48.6875 17.390625 48.6875 27.296875 \nz\n\" id=\"DejaVuSans-112\"/>\n      <path d=\"M 30.609375 48.390625 \nQ 23.390625 48.390625 19.1875 42.75 \nQ 14.984375 37.109375 14.984375 27.296875 \nQ 14.984375 17.484375 19.15625 11.84375 \nQ 23.34375 6.203125 30.609375 6.203125 \nQ 37.796875 6.203125 41.984375 11.859375 \nQ 46.1875 17.53125 46.1875 27.296875 \nQ 46.1875 37.015625 41.984375 42.703125 \nQ 37.796875 48.390625 30.609375 48.390625 \nz\nM 30.609375 56 \nQ 42.328125 56 49.015625 48.375 \nQ 55.71875 40.765625 55.71875 27.296875 \nQ 55.71875 13.875 49.015625 6.21875 \nQ 42.328125 -1.421875 30.609375 -1.421875 \nQ 18.84375 -1.421875 12.171875 6.21875 \nQ 5.515625 13.875 5.515625 27.296875 \nQ 5.515625 40.765625 12.171875 48.375 \nQ 18.84375 56 30.609375 56 \nz\n\" id=\"DejaVuSans-111\"/>\n      <path d=\"M 48.78125 52.59375 \nL 48.78125 44.1875 \nQ 44.96875 46.296875 41.140625 47.34375 \nQ 37.3125 48.390625 33.40625 48.390625 \nQ 24.65625 48.390625 19.8125 42.84375 \nQ 14.984375 37.3125 14.984375 27.296875 \nQ 14.984375 17.28125 19.8125 11.734375 \nQ 24.65625 6.203125 33.40625 6.203125 \nQ 37.3125 6.203125 41.140625 7.25 \nQ 44.96875 8.296875 48.78125 10.40625 \nL 48.78125 2.09375 \nQ 45.015625 0.34375 40.984375 -0.53125 \nQ 36.96875 -1.421875 32.421875 -1.421875 \nQ 20.0625 -1.421875 12.78125 6.34375 \nQ 5.515625 14.109375 5.515625 27.296875 \nQ 5.515625 40.671875 12.859375 48.328125 \nQ 20.21875 56 33.015625 56 \nQ 37.15625 56 41.109375 55.140625 \nQ 45.0625 54.296875 48.78125 52.59375 \nz\n\" id=\"DejaVuSans-99\"/>\n      <path d=\"M 54.890625 33.015625 \nL 54.890625 0 \nL 45.90625 0 \nL 45.90625 32.71875 \nQ 45.90625 40.484375 42.875 44.328125 \nQ 39.84375 48.1875 33.796875 48.1875 \nQ 26.515625 48.1875 22.3125 43.546875 \nQ 18.109375 38.921875 18.109375 30.90625 \nL 18.109375 0 \nL 9.078125 0 \nL 9.078125 75.984375 \nL 18.109375 75.984375 \nL 18.109375 46.1875 \nQ 21.34375 51.125 25.703125 53.5625 \nQ 30.078125 56 35.796875 56 \nQ 45.21875 56 50.046875 50.171875 \nQ 54.890625 44.34375 54.890625 33.015625 \nz\n\" id=\"DejaVuSans-104\"/>\n     </defs>\n     <g transform=\"translate(112.525 171.376563)scale(0.1 -0.1)\">\n      <use xlink:href=\"#DejaVuSans-101\"/>\n      <use x=\"61.523438\" xlink:href=\"#DejaVuSans-112\"/>\n      <use x=\"125\" xlink:href=\"#DejaVuSans-111\"/>\n      <use x=\"186.181641\" xlink:href=\"#DejaVuSans-99\"/>\n      <use x=\"241.162109\" xlink:href=\"#DejaVuSans-104\"/>\n     </g>\n    </g>\n   </g>\n   <g id=\"matplotlib.axis_2\">\n    <g id=\"ytick_1\">\n     <g id=\"line2d_11\">\n      <path clip-path=\"url(#p859dbf46dc)\" d=\"M 30.103125 120.45 \nL 225.403125 120.45 \n\" style=\"fill:none;stroke:#b0b0b0;stroke-linecap:square;stroke-width:0.8;\"/>\n     </g>\n     <g id=\"line2d_12\">\n      <defs>\n       <path d=\"M 0 0 \nL -3.5 0 \n\" id=\"mf0417b17a8\" style=\"stroke:#000000;stroke-width:0.8;\"/>\n      </defs>\n      <g>\n       <use style=\"stroke:#000000;stroke-width:0.8;\" x=\"30.103125\" xlink:href=\"#mf0417b17a8\" y=\"120.45\"/>\n      </g>\n     </g>\n     <g id=\"text_7\">\n      <!-- 0.4 -->\n      <defs>\n       <path d=\"M 10.6875 12.40625 \nL 21 12.40625 \nL 21 0 \nL 10.6875 0 \nz\n\" id=\"DejaVuSans-46\"/>\n      </defs>\n      <g transform=\"translate(7.2 124.249219)scale(0.1 -0.1)\">\n       <use xlink:href=\"#DejaVuSans-48\"/>\n       <use x=\"63.623047\" xlink:href=\"#DejaVuSans-46\"/>\n       <use x=\"95.410156\" xlink:href=\"#DejaVuSans-52\"/>\n      </g>\n     </g>\n    </g>\n    <g id=\"ytick_2\">\n     <g id=\"line2d_13\">\n      <path clip-path=\"url(#p859dbf46dc)\" d=\"M 30.103125 75.15 \nL 225.403125 75.15 \n\" style=\"fill:none;stroke:#b0b0b0;stroke-linecap:square;stroke-width:0.8;\"/>\n     </g>\n     <g id=\"line2d_14\">\n      <g>\n       <use style=\"stroke:#000000;stroke-width:0.8;\" x=\"30.103125\" xlink:href=\"#mf0417b17a8\" y=\"75.15\"/>\n      </g>\n     </g>\n     <g id=\"text_8\">\n      <!-- 0.6 -->\n      <g transform=\"translate(7.2 78.949219)scale(0.1 -0.1)\">\n       <use xlink:href=\"#DejaVuSans-48\"/>\n       <use x=\"63.623047\" xlink:href=\"#DejaVuSans-46\"/>\n       <use x=\"95.410156\" xlink:href=\"#DejaVuSans-54\"/>\n      </g>\n     </g>\n    </g>\n    <g id=\"ytick_3\">\n     <g id=\"line2d_15\">\n      <path clip-path=\"url(#p859dbf46dc)\" d=\"M 30.103125 29.85 \nL 225.403125 29.85 \n\" style=\"fill:none;stroke:#b0b0b0;stroke-linecap:square;stroke-width:0.8;\"/>\n     </g>\n     <g id=\"line2d_16\">\n      <g>\n       <use style=\"stroke:#000000;stroke-width:0.8;\" x=\"30.103125\" xlink:href=\"#mf0417b17a8\" y=\"29.85\"/>\n      </g>\n     </g>\n     <g id=\"text_9\">\n      <!-- 0.8 -->\n      <g transform=\"translate(7.2 33.649219)scale(0.1 -0.1)\">\n       <use xlink:href=\"#DejaVuSans-48\"/>\n       <use x=\"63.623047\" xlink:href=\"#DejaVuSans-46\"/>\n       <use x=\"95.410156\" xlink:href=\"#DejaVuSans-56\"/>\n      </g>\n     </g>\n    </g>\n   </g>\n   <g id=\"line2d_17\">\n    <path clip-path=\"url(#p859dbf46dc)\" d=\"M 30.103125 122.03698 \nL 51.803125 125.953217 \nL 73.503125 128.742719 \nL 95.203125 130.568916 \nL 116.903125 133.121645 \nL 138.603125 133.742265 \nL 160.303125 135.094631 \nL 182.003125 137.244052 \nL 203.703125 138.451532 \nL 225.403125 139.56129 \n\" style=\"fill:none;stroke:#1f77b4;stroke-linecap:square;stroke-width:1.5;\"/>\n   </g>\n   <g id=\"line2d_18\">\n    <path clip-path=\"url(#p859dbf46dc)\" d=\"M 30.103125 17.139575 \nL 51.803125 15.85985 \nL 73.503125 14.7802 \nL 95.203125 13.908175 \nL 116.903125 13.206025 \nL 138.603125 12.828525 \nL 160.303125 12.096175 \nL 182.003125 11.5941 \nL 203.703125 11.454425 \nL 225.403125 10.865525 \n\" style=\"fill:none;stroke:#bf00bf;stroke-dasharray:5.55,2.4;stroke-dashoffset:0;stroke-width:1.5;\"/>\n   </g>\n   <g id=\"line2d_19\">\n    <path clip-path=\"url(#p859dbf46dc)\" d=\"M 30.103125 23.7345 \nL 51.803125 14.7198 \nL 73.503125 16.0335 \nL 95.203125 13.1343 \nL 116.903125 17.0301 \nL 138.603125 12.5454 \nL 160.303125 17.1207 \nL 182.003125 12.06975 \nL 203.703125 14.65185 \nL 225.403125 16.73565 \n\" style=\"fill:none;stroke:#008000;stroke-dasharray:9.6,2.4,1.5,2.4;stroke-dashoffset:0;stroke-width:1.5;\"/>\n   </g>\n   <g id=\"patch_3\">\n    <path d=\"M 30.103125 143.1 \nL 30.103125 7.2 \n\" style=\"fill:none;stroke:#000000;stroke-linecap:square;stroke-linejoin:miter;stroke-width:0.8;\"/>\n   </g>\n   <g id=\"patch_4\">\n    <path d=\"M 225.403125 143.1 \nL 225.403125 7.2 \n\" style=\"fill:none;stroke:#000000;stroke-linecap:square;stroke-linejoin:miter;stroke-width:0.8;\"/>\n   </g>\n   <g id=\"patch_5\">\n    <path d=\"M 30.103125 143.1 \nL 225.403125 143.1 \n\" style=\"fill:none;stroke:#000000;stroke-linecap:square;stroke-linejoin:miter;stroke-width:0.8;\"/>\n   </g>\n   <g id=\"patch_6\">\n    <path d=\"M 30.103125 7.2 \nL 225.403125 7.2 \n\" style=\"fill:none;stroke:#000000;stroke-linecap:square;stroke-linejoin:miter;stroke-width:0.8;\"/>\n   </g>\n   <g id=\"legend_1\">\n    <g id=\"patch_7\">\n     <path d=\"M 140.634375 98.667187 \nL 218.403125 98.667187 \nQ 220.403125 98.667187 220.403125 96.667187 \nL 220.403125 53.632812 \nQ 220.403125 51.632812 218.403125 51.632812 \nL 140.634375 51.632812 \nQ 138.634375 51.632812 138.634375 53.632812 \nL 138.634375 96.667187 \nQ 138.634375 98.667187 140.634375 98.667187 \nz\n\" style=\"fill:#ffffff;opacity:0.8;stroke:#cccccc;stroke-linejoin:miter;\"/>\n    </g>\n    <g id=\"line2d_20\">\n     <path d=\"M 142.634375 59.73125 \nL 162.634375 59.73125 \n\" style=\"fill:none;stroke:#1f77b4;stroke-linecap:square;stroke-width:1.5;\"/>\n    </g>\n    <g id=\"line2d_21\"/>\n    <g id=\"text_10\">\n     <!-- train loss -->\n     <defs>\n      <path d=\"M 18.3125 70.21875 \nL 18.3125 54.6875 \nL 36.8125 54.6875 \nL 36.8125 47.703125 \nL 18.3125 47.703125 \nL 18.3125 18.015625 \nQ 18.3125 11.328125 20.140625 9.421875 \nQ 21.96875 7.515625 27.59375 7.515625 \nL 36.8125 7.515625 \nL 36.8125 0 \nL 27.59375 0 \nQ 17.1875 0 13.234375 3.875 \nQ 9.28125 7.765625 9.28125 18.015625 \nL 9.28125 47.703125 \nL 2.6875 47.703125 \nL 2.6875 54.6875 \nL 9.28125 54.6875 \nL 9.28125 70.21875 \nz\n\" id=\"DejaVuSans-116\"/>\n      <path d=\"M 41.109375 46.296875 \nQ 39.59375 47.171875 37.8125 47.578125 \nQ 36.03125 48 33.890625 48 \nQ 26.265625 48 22.1875 43.046875 \nQ 18.109375 38.09375 18.109375 28.8125 \nL 18.109375 0 \nL 9.078125 0 \nL 9.078125 54.6875 \nL 18.109375 54.6875 \nL 18.109375 46.1875 \nQ 20.953125 51.171875 25.484375 53.578125 \nQ 30.03125 56 36.53125 56 \nQ 37.453125 56 38.578125 55.875 \nQ 39.703125 55.765625 41.0625 55.515625 \nz\n\" id=\"DejaVuSans-114\"/>\n      <path d=\"M 34.28125 27.484375 \nQ 23.390625 27.484375 19.1875 25 \nQ 14.984375 22.515625 14.984375 16.5 \nQ 14.984375 11.71875 18.140625 8.90625 \nQ 21.296875 6.109375 26.703125 6.109375 \nQ 34.1875 6.109375 38.703125 11.40625 \nQ 43.21875 16.703125 43.21875 25.484375 \nL 43.21875 27.484375 \nz\nM 52.203125 31.203125 \nL 52.203125 0 \nL 43.21875 0 \nL 43.21875 8.296875 \nQ 40.140625 3.328125 35.546875 0.953125 \nQ 30.953125 -1.421875 24.3125 -1.421875 \nQ 15.921875 -1.421875 10.953125 3.296875 \nQ 6 8.015625 6 15.921875 \nQ 6 25.140625 12.171875 29.828125 \nQ 18.359375 34.515625 30.609375 34.515625 \nL 43.21875 34.515625 \nL 43.21875 35.40625 \nQ 43.21875 41.609375 39.140625 45 \nQ 35.0625 48.390625 27.6875 48.390625 \nQ 23 48.390625 18.546875 47.265625 \nQ 14.109375 46.140625 10.015625 43.890625 \nL 10.015625 52.203125 \nQ 14.9375 54.109375 19.578125 55.046875 \nQ 24.21875 56 28.609375 56 \nQ 40.484375 56 46.34375 49.84375 \nQ 52.203125 43.703125 52.203125 31.203125 \nz\n\" id=\"DejaVuSans-97\"/>\n      <path d=\"M 9.421875 54.6875 \nL 18.40625 54.6875 \nL 18.40625 0 \nL 9.421875 0 \nz\nM 9.421875 75.984375 \nL 18.40625 75.984375 \nL 18.40625 64.59375 \nL 9.421875 64.59375 \nz\n\" id=\"DejaVuSans-105\"/>\n      <path d=\"M 54.890625 33.015625 \nL 54.890625 0 \nL 45.90625 0 \nL 45.90625 32.71875 \nQ 45.90625 40.484375 42.875 44.328125 \nQ 39.84375 48.1875 33.796875 48.1875 \nQ 26.515625 48.1875 22.3125 43.546875 \nQ 18.109375 38.921875 18.109375 30.90625 \nL 18.109375 0 \nL 9.078125 0 \nL 9.078125 54.6875 \nL 18.109375 54.6875 \nL 18.109375 46.1875 \nQ 21.34375 51.125 25.703125 53.5625 \nQ 30.078125 56 35.796875 56 \nQ 45.21875 56 50.046875 50.171875 \nQ 54.890625 44.34375 54.890625 33.015625 \nz\n\" id=\"DejaVuSans-110\"/>\n      <path id=\"DejaVuSans-32\"/>\n      <path d=\"M 9.421875 75.984375 \nL 18.40625 75.984375 \nL 18.40625 0 \nL 9.421875 0 \nz\n\" id=\"DejaVuSans-108\"/>\n      <path d=\"M 44.28125 53.078125 \nL 44.28125 44.578125 \nQ 40.484375 46.53125 36.375 47.5 \nQ 32.28125 48.484375 27.875 48.484375 \nQ 21.1875 48.484375 17.84375 46.4375 \nQ 14.5 44.390625 14.5 40.28125 \nQ 14.5 37.15625 16.890625 35.375 \nQ 19.28125 33.59375 26.515625 31.984375 \nL 29.59375 31.296875 \nQ 39.15625 29.25 43.1875 25.515625 \nQ 47.21875 21.78125 47.21875 15.09375 \nQ 47.21875 7.46875 41.1875 3.015625 \nQ 35.15625 -1.421875 24.609375 -1.421875 \nQ 20.21875 -1.421875 15.453125 -0.5625 \nQ 10.6875 0.296875 5.421875 2 \nL 5.421875 11.28125 \nQ 10.40625 8.6875 15.234375 7.390625 \nQ 20.0625 6.109375 24.8125 6.109375 \nQ 31.15625 6.109375 34.5625 8.28125 \nQ 37.984375 10.453125 37.984375 14.40625 \nQ 37.984375 18.0625 35.515625 20.015625 \nQ 33.0625 21.96875 24.703125 23.78125 \nL 21.578125 24.515625 \nQ 13.234375 26.265625 9.515625 29.90625 \nQ 5.8125 33.546875 5.8125 39.890625 \nQ 5.8125 47.609375 11.28125 51.796875 \nQ 16.75 56 26.8125 56 \nQ 31.78125 56 36.171875 55.265625 \nQ 40.578125 54.546875 44.28125 53.078125 \nz\n\" id=\"DejaVuSans-115\"/>\n     </defs>\n     <g transform=\"translate(170.634375 63.23125)scale(0.1 -0.1)\">\n      <use xlink:href=\"#DejaVuSans-116\"/>\n      <use x=\"39.208984\" xlink:href=\"#DejaVuSans-114\"/>\n      <use x=\"80.322266\" xlink:href=\"#DejaVuSans-97\"/>\n      <use x=\"141.601562\" xlink:href=\"#DejaVuSans-105\"/>\n      <use x=\"169.384766\" xlink:href=\"#DejaVuSans-110\"/>\n      <use x=\"232.763672\" xlink:href=\"#DejaVuSans-32\"/>\n      <use x=\"264.550781\" xlink:href=\"#DejaVuSans-108\"/>\n      <use x=\"292.333984\" xlink:href=\"#DejaVuSans-111\"/>\n      <use x=\"353.515625\" xlink:href=\"#DejaVuSans-115\"/>\n      <use x=\"405.615234\" xlink:href=\"#DejaVuSans-115\"/>\n     </g>\n    </g>\n    <g id=\"line2d_22\">\n     <path d=\"M 142.634375 74.409375 \nL 162.634375 74.409375 \n\" style=\"fill:none;stroke:#bf00bf;stroke-dasharray:5.55,2.4;stroke-dashoffset:0;stroke-width:1.5;\"/>\n    </g>\n    <g id=\"line2d_23\"/>\n    <g id=\"text_11\">\n     <!-- train acc -->\n     <g transform=\"translate(170.634375 77.909375)scale(0.1 -0.1)\">\n      <use xlink:href=\"#DejaVuSans-116\"/>\n      <use x=\"39.208984\" xlink:href=\"#DejaVuSans-114\"/>\n      <use x=\"80.322266\" xlink:href=\"#DejaVuSans-97\"/>\n      <use x=\"141.601562\" xlink:href=\"#DejaVuSans-105\"/>\n      <use x=\"169.384766\" xlink:href=\"#DejaVuSans-110\"/>\n      <use x=\"232.763672\" xlink:href=\"#DejaVuSans-32\"/>\n      <use x=\"264.550781\" xlink:href=\"#DejaVuSans-97\"/>\n      <use x=\"325.830078\" xlink:href=\"#DejaVuSans-99\"/>\n      <use x=\"380.810547\" xlink:href=\"#DejaVuSans-99\"/>\n     </g>\n    </g>\n    <g id=\"line2d_24\">\n     <path d=\"M 142.634375 89.0875 \nL 162.634375 89.0875 \n\" style=\"fill:none;stroke:#008000;stroke-dasharray:9.6,2.4,1.5,2.4;stroke-dashoffset:0;stroke-width:1.5;\"/>\n    </g>\n    <g id=\"line2d_25\"/>\n    <g id=\"text_12\">\n     <!-- test acc -->\n     <g transform=\"translate(170.634375 92.5875)scale(0.1 -0.1)\">\n      <use xlink:href=\"#DejaVuSans-116\"/>\n      <use x=\"39.208984\" xlink:href=\"#DejaVuSans-101\"/>\n      <use x=\"100.732422\" xlink:href=\"#DejaVuSans-115\"/>\n      <use x=\"152.832031\" xlink:href=\"#DejaVuSans-116\"/>\n      <use x=\"192.041016\" xlink:href=\"#DejaVuSans-32\"/>\n      <use x=\"223.828125\" xlink:href=\"#DejaVuSans-97\"/>\n      <use x=\"285.107422\" xlink:href=\"#DejaVuSans-99\"/>\n      <use x=\"340.087891\" xlink:href=\"#DejaVuSans-99\"/>\n     </g>\n    </g>\n   </g>\n  </g>\n </g>\n <defs>\n  <clipPath id=\"p859dbf46dc\">\n   <rect height=\"135.9\" width=\"195.3\" x=\"30.103125\" y=\"7.2\"/>\n  </clipPath>\n </defs>\n</svg>\n"
          },
          "metadata": {
            "needs_background": "light"
          }
        }
      ],
      "source": [
        "!pip install matplotlib==3.1.3\n",
        "num_epochs, lr, batch_size = 10, 0.5, 256\n",
        "loss = gluon.loss.SoftmaxCrossEntropyLoss()\n",
        "train_iter, test_iter = d2l.load_data_fashion_mnist(batch_size)\n",
        "d2l.train_ch3(net, train_iter, test_iter, loss, num_epochs,\n",
        "              lambda batch_size: d2l.sgd(params, lr, batch_size))"
      ]
    },
    {
      "cell_type": "markdown",
      "metadata": {
        "origin_pos": 20,
        "id": "_vqtOkDpOH6L"
      },
      "source": [
        "## [**Concise Implementation**]\n",
        "\n",
        "With high-level APIs, all we need to do is add a `Dropout` layer\n",
        "after each fully-connected layer,\n",
        "passing in the dropout probability\n",
        "as the only argument to its constructor.\n",
        "During training, the `Dropout` layer will randomly\n",
        "drop out outputs of the previous layer\n",
        "(or equivalently, the inputs to the subsequent layer)\n",
        "according to the specified dropout probability.\n",
        "When not in training mode,\n",
        "the `Dropout` layer simply passes the data through during testing.\n"
      ]
    },
    {
      "cell_type": "code",
      "execution_count": 8,
      "metadata": {
        "origin_pos": 21,
        "tab": [
          "mxnet"
        ],
        "id": "n9IoEwCFOH6L"
      },
      "outputs": [],
      "source": [
        "net = nn.Sequential()\n",
        "net.add(\n",
        "    nn.Dense(256, activation=\"relu\"),\n",
        "    # Add a dropout layer after the first fully connected layer\n",
        "    nn.Dropout(dropout1), nn.Dense(256, activation=\"relu\"),\n",
        "    # Add a dropout layer after the second fully connected layer\n",
        "    nn.Dropout(dropout2), nn.Dense(10))\n",
        "net.initialize(init.Normal(sigma=0.01))"
      ]
    },
    {
      "cell_type": "markdown",
      "metadata": {
        "origin_pos": 24,
        "id": "z9PJNRjwOH6L"
      },
      "source": [
        "Next, we [**train and test the model**].\n"
      ]
    },
    {
      "cell_type": "code",
      "execution_count": 9,
      "metadata": {
        "origin_pos": 25,
        "tab": [
          "mxnet"
        ],
        "colab": {
          "base_uri": "https://localhost:8080/",
          "height": 262
        },
        "id": "YhHTwzJPOH6M",
        "outputId": "19a0367a-bcc7-41fe-fbb0-bf1030e96f02"
      },
      "outputs": [
        {
          "output_type": "display_data",
          "data": {
            "text/plain": [
              "<Figure size 252x180 with 1 Axes>"
            ],
            "image/svg+xml": "<?xml version=\"1.0\" encoding=\"utf-8\" standalone=\"no\"?>\n<!DOCTYPE svg PUBLIC \"-//W3C//DTD SVG 1.1//EN\"\n  \"http://www.w3.org/Graphics/SVG/1.1/DTD/svg11.dtd\">\n<!-- Created with matplotlib (https://matplotlib.org/) -->\n<svg height=\"180.65625pt\" version=\"1.1\" viewBox=\"0 0 238.965625 180.65625\" width=\"238.965625pt\" xmlns=\"http://www.w3.org/2000/svg\" xmlns:xlink=\"http://www.w3.org/1999/xlink\">\n <defs>\n  <style type=\"text/css\">\n*{stroke-linecap:butt;stroke-linejoin:round;}\n  </style>\n </defs>\n <g id=\"figure_1\">\n  <g id=\"patch_1\">\n   <path d=\"M 0 180.65625 \nL 238.965625 180.65625 \nL 238.965625 0 \nL 0 0 \nz\n\" style=\"fill:none;\"/>\n  </g>\n  <g id=\"axes_1\">\n   <g id=\"patch_2\">\n    <path d=\"M 30.103125 143.1 \nL 225.403125 143.1 \nL 225.403125 7.2 \nL 30.103125 7.2 \nz\n\" style=\"fill:#ffffff;\"/>\n   </g>\n   <g id=\"matplotlib.axis_1\">\n    <g id=\"xtick_1\">\n     <g id=\"line2d_1\">\n      <path clip-path=\"url(#p174a691138)\" d=\"M 51.803125 143.1 \nL 51.803125 7.2 \n\" style=\"fill:none;stroke:#b0b0b0;stroke-linecap:square;stroke-width:0.8;\"/>\n     </g>\n     <g id=\"line2d_2\">\n      <defs>\n       <path d=\"M 0 0 \nL 0 3.5 \n\" id=\"m9e795784ee\" style=\"stroke:#000000;stroke-width:0.8;\"/>\n      </defs>\n      <g>\n       <use style=\"stroke:#000000;stroke-width:0.8;\" x=\"51.803125\" xlink:href=\"#m9e795784ee\" y=\"143.1\"/>\n      </g>\n     </g>\n     <g id=\"text_1\">\n      <!-- 2 -->\n      <defs>\n       <path d=\"M 19.1875 8.296875 \nL 53.609375 8.296875 \nL 53.609375 0 \nL 7.328125 0 \nL 7.328125 8.296875 \nQ 12.9375 14.109375 22.625 23.890625 \nQ 32.328125 33.6875 34.8125 36.53125 \nQ 39.546875 41.84375 41.421875 45.53125 \nQ 43.3125 49.21875 43.3125 52.78125 \nQ 43.3125 58.59375 39.234375 62.25 \nQ 35.15625 65.921875 28.609375 65.921875 \nQ 23.96875 65.921875 18.8125 64.3125 \nQ 13.671875 62.703125 7.8125 59.421875 \nL 7.8125 69.390625 \nQ 13.765625 71.78125 18.9375 73 \nQ 24.125 74.21875 28.421875 74.21875 \nQ 39.75 74.21875 46.484375 68.546875 \nQ 53.21875 62.890625 53.21875 53.421875 \nQ 53.21875 48.921875 51.53125 44.890625 \nQ 49.859375 40.875 45.40625 35.40625 \nQ 44.1875 33.984375 37.640625 27.21875 \nQ 31.109375 20.453125 19.1875 8.296875 \nz\n\" id=\"DejaVuSans-50\"/>\n      </defs>\n      <g transform=\"translate(48.621875 157.698438)scale(0.1 -0.1)\">\n       <use xlink:href=\"#DejaVuSans-50\"/>\n      </g>\n     </g>\n    </g>\n    <g id=\"xtick_2\">\n     <g id=\"line2d_3\">\n      <path clip-path=\"url(#p174a691138)\" d=\"M 95.203125 143.1 \nL 95.203125 7.2 \n\" style=\"fill:none;stroke:#b0b0b0;stroke-linecap:square;stroke-width:0.8;\"/>\n     </g>\n     <g id=\"line2d_4\">\n      <g>\n       <use style=\"stroke:#000000;stroke-width:0.8;\" x=\"95.203125\" xlink:href=\"#m9e795784ee\" y=\"143.1\"/>\n      </g>\n     </g>\n     <g id=\"text_2\">\n      <!-- 4 -->\n      <defs>\n       <path d=\"M 37.796875 64.3125 \nL 12.890625 25.390625 \nL 37.796875 25.390625 \nz\nM 35.203125 72.90625 \nL 47.609375 72.90625 \nL 47.609375 25.390625 \nL 58.015625 25.390625 \nL 58.015625 17.1875 \nL 47.609375 17.1875 \nL 47.609375 0 \nL 37.796875 0 \nL 37.796875 17.1875 \nL 4.890625 17.1875 \nL 4.890625 26.703125 \nz\n\" id=\"DejaVuSans-52\"/>\n      </defs>\n      <g transform=\"translate(92.021875 157.698438)scale(0.1 -0.1)\">\n       <use xlink:href=\"#DejaVuSans-52\"/>\n      </g>\n     </g>\n    </g>\n    <g id=\"xtick_3\">\n     <g id=\"line2d_5\">\n      <path clip-path=\"url(#p174a691138)\" d=\"M 138.603125 143.1 \nL 138.603125 7.2 \n\" style=\"fill:none;stroke:#b0b0b0;stroke-linecap:square;stroke-width:0.8;\"/>\n     </g>\n     <g id=\"line2d_6\">\n      <g>\n       <use style=\"stroke:#000000;stroke-width:0.8;\" x=\"138.603125\" xlink:href=\"#m9e795784ee\" y=\"143.1\"/>\n      </g>\n     </g>\n     <g id=\"text_3\">\n      <!-- 6 -->\n      <defs>\n       <path d=\"M 33.015625 40.375 \nQ 26.375 40.375 22.484375 35.828125 \nQ 18.609375 31.296875 18.609375 23.390625 \nQ 18.609375 15.53125 22.484375 10.953125 \nQ 26.375 6.390625 33.015625 6.390625 \nQ 39.65625 6.390625 43.53125 10.953125 \nQ 47.40625 15.53125 47.40625 23.390625 \nQ 47.40625 31.296875 43.53125 35.828125 \nQ 39.65625 40.375 33.015625 40.375 \nz\nM 52.59375 71.296875 \nL 52.59375 62.3125 \nQ 48.875 64.0625 45.09375 64.984375 \nQ 41.3125 65.921875 37.59375 65.921875 \nQ 27.828125 65.921875 22.671875 59.328125 \nQ 17.53125 52.734375 16.796875 39.40625 \nQ 19.671875 43.65625 24.015625 45.921875 \nQ 28.375 48.1875 33.59375 48.1875 \nQ 44.578125 48.1875 50.953125 41.515625 \nQ 57.328125 34.859375 57.328125 23.390625 \nQ 57.328125 12.15625 50.6875 5.359375 \nQ 44.046875 -1.421875 33.015625 -1.421875 \nQ 20.359375 -1.421875 13.671875 8.265625 \nQ 6.984375 17.96875 6.984375 36.375 \nQ 6.984375 53.65625 15.1875 63.9375 \nQ 23.390625 74.21875 37.203125 74.21875 \nQ 40.921875 74.21875 44.703125 73.484375 \nQ 48.484375 72.75 52.59375 71.296875 \nz\n\" id=\"DejaVuSans-54\"/>\n      </defs>\n      <g transform=\"translate(135.421875 157.698438)scale(0.1 -0.1)\">\n       <use xlink:href=\"#DejaVuSans-54\"/>\n      </g>\n     </g>\n    </g>\n    <g id=\"xtick_4\">\n     <g id=\"line2d_7\">\n      <path clip-path=\"url(#p174a691138)\" d=\"M 182.003125 143.1 \nL 182.003125 7.2 \n\" style=\"fill:none;stroke:#b0b0b0;stroke-linecap:square;stroke-width:0.8;\"/>\n     </g>\n     <g id=\"line2d_8\">\n      <g>\n       <use style=\"stroke:#000000;stroke-width:0.8;\" x=\"182.003125\" xlink:href=\"#m9e795784ee\" y=\"143.1\"/>\n      </g>\n     </g>\n     <g id=\"text_4\">\n      <!-- 8 -->\n      <defs>\n       <path d=\"M 31.78125 34.625 \nQ 24.75 34.625 20.71875 30.859375 \nQ 16.703125 27.09375 16.703125 20.515625 \nQ 16.703125 13.921875 20.71875 10.15625 \nQ 24.75 6.390625 31.78125 6.390625 \nQ 38.8125 6.390625 42.859375 10.171875 \nQ 46.921875 13.96875 46.921875 20.515625 \nQ 46.921875 27.09375 42.890625 30.859375 \nQ 38.875 34.625 31.78125 34.625 \nz\nM 21.921875 38.8125 \nQ 15.578125 40.375 12.03125 44.71875 \nQ 8.5 49.078125 8.5 55.328125 \nQ 8.5 64.0625 14.71875 69.140625 \nQ 20.953125 74.21875 31.78125 74.21875 \nQ 42.671875 74.21875 48.875 69.140625 \nQ 55.078125 64.0625 55.078125 55.328125 \nQ 55.078125 49.078125 51.53125 44.71875 \nQ 48 40.375 41.703125 38.8125 \nQ 48.828125 37.15625 52.796875 32.3125 \nQ 56.78125 27.484375 56.78125 20.515625 \nQ 56.78125 9.90625 50.3125 4.234375 \nQ 43.84375 -1.421875 31.78125 -1.421875 \nQ 19.734375 -1.421875 13.25 4.234375 \nQ 6.78125 9.90625 6.78125 20.515625 \nQ 6.78125 27.484375 10.78125 32.3125 \nQ 14.796875 37.15625 21.921875 38.8125 \nz\nM 18.3125 54.390625 \nQ 18.3125 48.734375 21.84375 45.5625 \nQ 25.390625 42.390625 31.78125 42.390625 \nQ 38.140625 42.390625 41.71875 45.5625 \nQ 45.3125 48.734375 45.3125 54.390625 \nQ 45.3125 60.0625 41.71875 63.234375 \nQ 38.140625 66.40625 31.78125 66.40625 \nQ 25.390625 66.40625 21.84375 63.234375 \nQ 18.3125 60.0625 18.3125 54.390625 \nz\n\" id=\"DejaVuSans-56\"/>\n      </defs>\n      <g transform=\"translate(178.821875 157.698438)scale(0.1 -0.1)\">\n       <use xlink:href=\"#DejaVuSans-56\"/>\n      </g>\n     </g>\n    </g>\n    <g id=\"xtick_5\">\n     <g id=\"line2d_9\">\n      <path clip-path=\"url(#p174a691138)\" d=\"M 225.403125 143.1 \nL 225.403125 7.2 \n\" style=\"fill:none;stroke:#b0b0b0;stroke-linecap:square;stroke-width:0.8;\"/>\n     </g>\n     <g id=\"line2d_10\">\n      <g>\n       <use style=\"stroke:#000000;stroke-width:0.8;\" x=\"225.403125\" xlink:href=\"#m9e795784ee\" y=\"143.1\"/>\n      </g>\n     </g>\n     <g id=\"text_5\">\n      <!-- 10 -->\n      <defs>\n       <path d=\"M 12.40625 8.296875 \nL 28.515625 8.296875 \nL 28.515625 63.921875 \nL 10.984375 60.40625 \nL 10.984375 69.390625 \nL 28.421875 72.90625 \nL 38.28125 72.90625 \nL 38.28125 8.296875 \nL 54.390625 8.296875 \nL 54.390625 0 \nL 12.40625 0 \nz\n\" id=\"DejaVuSans-49\"/>\n       <path d=\"M 31.78125 66.40625 \nQ 24.171875 66.40625 20.328125 58.90625 \nQ 16.5 51.421875 16.5 36.375 \nQ 16.5 21.390625 20.328125 13.890625 \nQ 24.171875 6.390625 31.78125 6.390625 \nQ 39.453125 6.390625 43.28125 13.890625 \nQ 47.125 21.390625 47.125 36.375 \nQ 47.125 51.421875 43.28125 58.90625 \nQ 39.453125 66.40625 31.78125 66.40625 \nz\nM 31.78125 74.21875 \nQ 44.046875 74.21875 50.515625 64.515625 \nQ 56.984375 54.828125 56.984375 36.375 \nQ 56.984375 17.96875 50.515625 8.265625 \nQ 44.046875 -1.421875 31.78125 -1.421875 \nQ 19.53125 -1.421875 13.0625 8.265625 \nQ 6.59375 17.96875 6.59375 36.375 \nQ 6.59375 54.828125 13.0625 64.515625 \nQ 19.53125 74.21875 31.78125 74.21875 \nz\n\" id=\"DejaVuSans-48\"/>\n      </defs>\n      <g transform=\"translate(219.040625 157.698438)scale(0.1 -0.1)\">\n       <use xlink:href=\"#DejaVuSans-49\"/>\n       <use x=\"63.623047\" xlink:href=\"#DejaVuSans-48\"/>\n      </g>\n     </g>\n    </g>\n    <g id=\"text_6\">\n     <!-- epoch -->\n     <defs>\n      <path d=\"M 56.203125 29.59375 \nL 56.203125 25.203125 \nL 14.890625 25.203125 \nQ 15.484375 15.921875 20.484375 11.0625 \nQ 25.484375 6.203125 34.421875 6.203125 \nQ 39.59375 6.203125 44.453125 7.46875 \nQ 49.3125 8.734375 54.109375 11.28125 \nL 54.109375 2.78125 \nQ 49.265625 0.734375 44.1875 -0.34375 \nQ 39.109375 -1.421875 33.890625 -1.421875 \nQ 20.796875 -1.421875 13.15625 6.1875 \nQ 5.515625 13.8125 5.515625 26.8125 \nQ 5.515625 40.234375 12.765625 48.109375 \nQ 20.015625 56 32.328125 56 \nQ 43.359375 56 49.78125 48.890625 \nQ 56.203125 41.796875 56.203125 29.59375 \nz\nM 47.21875 32.234375 \nQ 47.125 39.59375 43.09375 43.984375 \nQ 39.0625 48.390625 32.421875 48.390625 \nQ 24.90625 48.390625 20.390625 44.140625 \nQ 15.875 39.890625 15.1875 32.171875 \nz\n\" id=\"DejaVuSans-101\"/>\n      <path d=\"M 18.109375 8.203125 \nL 18.109375 -20.796875 \nL 9.078125 -20.796875 \nL 9.078125 54.6875 \nL 18.109375 54.6875 \nL 18.109375 46.390625 \nQ 20.953125 51.265625 25.265625 53.625 \nQ 29.59375 56 35.59375 56 \nQ 45.5625 56 51.78125 48.09375 \nQ 58.015625 40.1875 58.015625 27.296875 \nQ 58.015625 14.40625 51.78125 6.484375 \nQ 45.5625 -1.421875 35.59375 -1.421875 \nQ 29.59375 -1.421875 25.265625 0.953125 \nQ 20.953125 3.328125 18.109375 8.203125 \nz\nM 48.6875 27.296875 \nQ 48.6875 37.203125 44.609375 42.84375 \nQ 40.53125 48.484375 33.40625 48.484375 \nQ 26.265625 48.484375 22.1875 42.84375 \nQ 18.109375 37.203125 18.109375 27.296875 \nQ 18.109375 17.390625 22.1875 11.75 \nQ 26.265625 6.109375 33.40625 6.109375 \nQ 40.53125 6.109375 44.609375 11.75 \nQ 48.6875 17.390625 48.6875 27.296875 \nz\n\" id=\"DejaVuSans-112\"/>\n      <path d=\"M 30.609375 48.390625 \nQ 23.390625 48.390625 19.1875 42.75 \nQ 14.984375 37.109375 14.984375 27.296875 \nQ 14.984375 17.484375 19.15625 11.84375 \nQ 23.34375 6.203125 30.609375 6.203125 \nQ 37.796875 6.203125 41.984375 11.859375 \nQ 46.1875 17.53125 46.1875 27.296875 \nQ 46.1875 37.015625 41.984375 42.703125 \nQ 37.796875 48.390625 30.609375 48.390625 \nz\nM 30.609375 56 \nQ 42.328125 56 49.015625 48.375 \nQ 55.71875 40.765625 55.71875 27.296875 \nQ 55.71875 13.875 49.015625 6.21875 \nQ 42.328125 -1.421875 30.609375 -1.421875 \nQ 18.84375 -1.421875 12.171875 6.21875 \nQ 5.515625 13.875 5.515625 27.296875 \nQ 5.515625 40.765625 12.171875 48.375 \nQ 18.84375 56 30.609375 56 \nz\n\" id=\"DejaVuSans-111\"/>\n      <path d=\"M 48.78125 52.59375 \nL 48.78125 44.1875 \nQ 44.96875 46.296875 41.140625 47.34375 \nQ 37.3125 48.390625 33.40625 48.390625 \nQ 24.65625 48.390625 19.8125 42.84375 \nQ 14.984375 37.3125 14.984375 27.296875 \nQ 14.984375 17.28125 19.8125 11.734375 \nQ 24.65625 6.203125 33.40625 6.203125 \nQ 37.3125 6.203125 41.140625 7.25 \nQ 44.96875 8.296875 48.78125 10.40625 \nL 48.78125 2.09375 \nQ 45.015625 0.34375 40.984375 -0.53125 \nQ 36.96875 -1.421875 32.421875 -1.421875 \nQ 20.0625 -1.421875 12.78125 6.34375 \nQ 5.515625 14.109375 5.515625 27.296875 \nQ 5.515625 40.671875 12.859375 48.328125 \nQ 20.21875 56 33.015625 56 \nQ 37.15625 56 41.109375 55.140625 \nQ 45.0625 54.296875 48.78125 52.59375 \nz\n\" id=\"DejaVuSans-99\"/>\n      <path d=\"M 54.890625 33.015625 \nL 54.890625 0 \nL 45.90625 0 \nL 45.90625 32.71875 \nQ 45.90625 40.484375 42.875 44.328125 \nQ 39.84375 48.1875 33.796875 48.1875 \nQ 26.515625 48.1875 22.3125 43.546875 \nQ 18.109375 38.921875 18.109375 30.90625 \nL 18.109375 0 \nL 9.078125 0 \nL 9.078125 75.984375 \nL 18.109375 75.984375 \nL 18.109375 46.1875 \nQ 21.34375 51.125 25.703125 53.5625 \nQ 30.078125 56 35.796875 56 \nQ 45.21875 56 50.046875 50.171875 \nQ 54.890625 44.34375 54.890625 33.015625 \nz\n\" id=\"DejaVuSans-104\"/>\n     </defs>\n     <g transform=\"translate(112.525 171.376563)scale(0.1 -0.1)\">\n      <use xlink:href=\"#DejaVuSans-101\"/>\n      <use x=\"61.523438\" xlink:href=\"#DejaVuSans-112\"/>\n      <use x=\"125\" xlink:href=\"#DejaVuSans-111\"/>\n      <use x=\"186.181641\" xlink:href=\"#DejaVuSans-99\"/>\n      <use x=\"241.162109\" xlink:href=\"#DejaVuSans-104\"/>\n     </g>\n    </g>\n   </g>\n   <g id=\"matplotlib.axis_2\">\n    <g id=\"ytick_1\">\n     <g id=\"line2d_11\">\n      <path clip-path=\"url(#p174a691138)\" d=\"M 30.103125 120.45 \nL 225.403125 120.45 \n\" style=\"fill:none;stroke:#b0b0b0;stroke-linecap:square;stroke-width:0.8;\"/>\n     </g>\n     <g id=\"line2d_12\">\n      <defs>\n       <path d=\"M 0 0 \nL -3.5 0 \n\" id=\"md1a2d278cd\" style=\"stroke:#000000;stroke-width:0.8;\"/>\n      </defs>\n      <g>\n       <use style=\"stroke:#000000;stroke-width:0.8;\" x=\"30.103125\" xlink:href=\"#md1a2d278cd\" y=\"120.45\"/>\n      </g>\n     </g>\n     <g id=\"text_7\">\n      <!-- 0.4 -->\n      <defs>\n       <path d=\"M 10.6875 12.40625 \nL 21 12.40625 \nL 21 0 \nL 10.6875 0 \nz\n\" id=\"DejaVuSans-46\"/>\n      </defs>\n      <g transform=\"translate(7.2 124.249219)scale(0.1 -0.1)\">\n       <use xlink:href=\"#DejaVuSans-48\"/>\n       <use x=\"63.623047\" xlink:href=\"#DejaVuSans-46\"/>\n       <use x=\"95.410156\" xlink:href=\"#DejaVuSans-52\"/>\n      </g>\n     </g>\n    </g>\n    <g id=\"ytick_2\">\n     <g id=\"line2d_13\">\n      <path clip-path=\"url(#p174a691138)\" d=\"M 30.103125 75.15 \nL 225.403125 75.15 \n\" style=\"fill:none;stroke:#b0b0b0;stroke-linecap:square;stroke-width:0.8;\"/>\n     </g>\n     <g id=\"line2d_14\">\n      <g>\n       <use style=\"stroke:#000000;stroke-width:0.8;\" x=\"30.103125\" xlink:href=\"#md1a2d278cd\" y=\"75.15\"/>\n      </g>\n     </g>\n     <g id=\"text_8\">\n      <!-- 0.6 -->\n      <g transform=\"translate(7.2 78.949219)scale(0.1 -0.1)\">\n       <use xlink:href=\"#DejaVuSans-48\"/>\n       <use x=\"63.623047\" xlink:href=\"#DejaVuSans-46\"/>\n       <use x=\"95.410156\" xlink:href=\"#DejaVuSans-54\"/>\n      </g>\n     </g>\n    </g>\n    <g id=\"ytick_3\">\n     <g id=\"line2d_15\">\n      <path clip-path=\"url(#p174a691138)\" d=\"M 30.103125 29.85 \nL 225.403125 29.85 \n\" style=\"fill:none;stroke:#b0b0b0;stroke-linecap:square;stroke-width:0.8;\"/>\n     </g>\n     <g id=\"line2d_16\">\n      <g>\n       <use style=\"stroke:#000000;stroke-width:0.8;\" x=\"30.103125\" xlink:href=\"#md1a2d278cd\" y=\"29.85\"/>\n      </g>\n     </g>\n     <g id=\"text_9\">\n      <!-- 0.8 -->\n      <g transform=\"translate(7.2 33.649219)scale(0.1 -0.1)\">\n       <use xlink:href=\"#DejaVuSans-48\"/>\n       <use x=\"63.623047\" xlink:href=\"#DejaVuSans-46\"/>\n       <use x=\"95.410156\" xlink:href=\"#DejaVuSans-56\"/>\n      </g>\n     </g>\n    </g>\n   </g>\n   <g id=\"line2d_17\">\n    <path clip-path=\"url(#p174a691138)\" d=\"M 37.764435 -1 \nL 51.803125 80.36036 \nL 73.503125 98.301279 \nL 95.203125 109.416629 \nL 116.903125 116.417485 \nL 138.603125 120.512949 \nL 160.303125 124.492248 \nL 182.003125 126.263903 \nL 203.703125 130.507632 \nL 225.403125 132.567508 \n\" style=\"fill:none;stroke:#1f77b4;stroke-linecap:square;stroke-width:1.5;\"/>\n   </g>\n   <g id=\"line2d_18\">\n    <path clip-path=\"url(#p174a691138)\" d=\"M 30.103125 83.179425 \nL 51.803125 33.477775 \nL 73.503125 25.35775 \nL 95.203125 22.054625 \nL 116.903125 19.28 \nL 138.603125 17.40005 \nL 160.303125 16.180725 \nL 182.003125 15.39175 \nL 203.703125 13.995 \nL 225.403125 13.18715 \n\" style=\"fill:none;stroke:#bf00bf;stroke-dasharray:5.55,2.4;stroke-dashoffset:0;stroke-width:1.5;\"/>\n   </g>\n   <g id=\"line2d_19\">\n    <path clip-path=\"url(#p174a691138)\" d=\"M 30.103125 36.62235 \nL 51.803125 37.70955 \nL 73.503125 26.42985 \nL 95.203125 29.23845 \nL 116.903125 19.5669 \nL 138.603125 19.4763 \nL 160.303125 36.35055 \nL 182.003125 15.96555 \nL 203.703125 18.13995 \nL 225.403125 16.0788 \n\" style=\"fill:none;stroke:#008000;stroke-dasharray:9.6,2.4,1.5,2.4;stroke-dashoffset:0;stroke-width:1.5;\"/>\n   </g>\n   <g id=\"patch_3\">\n    <path d=\"M 30.103125 143.1 \nL 30.103125 7.2 \n\" style=\"fill:none;stroke:#000000;stroke-linecap:square;stroke-linejoin:miter;stroke-width:0.8;\"/>\n   </g>\n   <g id=\"patch_4\">\n    <path d=\"M 225.403125 143.1 \nL 225.403125 7.2 \n\" style=\"fill:none;stroke:#000000;stroke-linecap:square;stroke-linejoin:miter;stroke-width:0.8;\"/>\n   </g>\n   <g id=\"patch_5\">\n    <path d=\"M 30.103125 143.1 \nL 225.403125 143.1 \n\" style=\"fill:none;stroke:#000000;stroke-linecap:square;stroke-linejoin:miter;stroke-width:0.8;\"/>\n   </g>\n   <g id=\"patch_6\">\n    <path d=\"M 30.103125 7.2 \nL 225.403125 7.2 \n\" style=\"fill:none;stroke:#000000;stroke-linecap:square;stroke-linejoin:miter;stroke-width:0.8;\"/>\n   </g>\n   <g id=\"legend_1\">\n    <g id=\"patch_7\">\n     <path d=\"M 140.634375 98.667187 \nL 218.403125 98.667187 \nQ 220.403125 98.667187 220.403125 96.667187 \nL 220.403125 53.632812 \nQ 220.403125 51.632812 218.403125 51.632812 \nL 140.634375 51.632812 \nQ 138.634375 51.632812 138.634375 53.632812 \nL 138.634375 96.667187 \nQ 138.634375 98.667187 140.634375 98.667187 \nz\n\" style=\"fill:#ffffff;opacity:0.8;stroke:#cccccc;stroke-linejoin:miter;\"/>\n    </g>\n    <g id=\"line2d_20\">\n     <path d=\"M 142.634375 59.73125 \nL 162.634375 59.73125 \n\" style=\"fill:none;stroke:#1f77b4;stroke-linecap:square;stroke-width:1.5;\"/>\n    </g>\n    <g id=\"line2d_21\"/>\n    <g id=\"text_10\">\n     <!-- train loss -->\n     <defs>\n      <path d=\"M 18.3125 70.21875 \nL 18.3125 54.6875 \nL 36.8125 54.6875 \nL 36.8125 47.703125 \nL 18.3125 47.703125 \nL 18.3125 18.015625 \nQ 18.3125 11.328125 20.140625 9.421875 \nQ 21.96875 7.515625 27.59375 7.515625 \nL 36.8125 7.515625 \nL 36.8125 0 \nL 27.59375 0 \nQ 17.1875 0 13.234375 3.875 \nQ 9.28125 7.765625 9.28125 18.015625 \nL 9.28125 47.703125 \nL 2.6875 47.703125 \nL 2.6875 54.6875 \nL 9.28125 54.6875 \nL 9.28125 70.21875 \nz\n\" id=\"DejaVuSans-116\"/>\n      <path d=\"M 41.109375 46.296875 \nQ 39.59375 47.171875 37.8125 47.578125 \nQ 36.03125 48 33.890625 48 \nQ 26.265625 48 22.1875 43.046875 \nQ 18.109375 38.09375 18.109375 28.8125 \nL 18.109375 0 \nL 9.078125 0 \nL 9.078125 54.6875 \nL 18.109375 54.6875 \nL 18.109375 46.1875 \nQ 20.953125 51.171875 25.484375 53.578125 \nQ 30.03125 56 36.53125 56 \nQ 37.453125 56 38.578125 55.875 \nQ 39.703125 55.765625 41.0625 55.515625 \nz\n\" id=\"DejaVuSans-114\"/>\n      <path d=\"M 34.28125 27.484375 \nQ 23.390625 27.484375 19.1875 25 \nQ 14.984375 22.515625 14.984375 16.5 \nQ 14.984375 11.71875 18.140625 8.90625 \nQ 21.296875 6.109375 26.703125 6.109375 \nQ 34.1875 6.109375 38.703125 11.40625 \nQ 43.21875 16.703125 43.21875 25.484375 \nL 43.21875 27.484375 \nz\nM 52.203125 31.203125 \nL 52.203125 0 \nL 43.21875 0 \nL 43.21875 8.296875 \nQ 40.140625 3.328125 35.546875 0.953125 \nQ 30.953125 -1.421875 24.3125 -1.421875 \nQ 15.921875 -1.421875 10.953125 3.296875 \nQ 6 8.015625 6 15.921875 \nQ 6 25.140625 12.171875 29.828125 \nQ 18.359375 34.515625 30.609375 34.515625 \nL 43.21875 34.515625 \nL 43.21875 35.40625 \nQ 43.21875 41.609375 39.140625 45 \nQ 35.0625 48.390625 27.6875 48.390625 \nQ 23 48.390625 18.546875 47.265625 \nQ 14.109375 46.140625 10.015625 43.890625 \nL 10.015625 52.203125 \nQ 14.9375 54.109375 19.578125 55.046875 \nQ 24.21875 56 28.609375 56 \nQ 40.484375 56 46.34375 49.84375 \nQ 52.203125 43.703125 52.203125 31.203125 \nz\n\" id=\"DejaVuSans-97\"/>\n      <path d=\"M 9.421875 54.6875 \nL 18.40625 54.6875 \nL 18.40625 0 \nL 9.421875 0 \nz\nM 9.421875 75.984375 \nL 18.40625 75.984375 \nL 18.40625 64.59375 \nL 9.421875 64.59375 \nz\n\" id=\"DejaVuSans-105\"/>\n      <path d=\"M 54.890625 33.015625 \nL 54.890625 0 \nL 45.90625 0 \nL 45.90625 32.71875 \nQ 45.90625 40.484375 42.875 44.328125 \nQ 39.84375 48.1875 33.796875 48.1875 \nQ 26.515625 48.1875 22.3125 43.546875 \nQ 18.109375 38.921875 18.109375 30.90625 \nL 18.109375 0 \nL 9.078125 0 \nL 9.078125 54.6875 \nL 18.109375 54.6875 \nL 18.109375 46.1875 \nQ 21.34375 51.125 25.703125 53.5625 \nQ 30.078125 56 35.796875 56 \nQ 45.21875 56 50.046875 50.171875 \nQ 54.890625 44.34375 54.890625 33.015625 \nz\n\" id=\"DejaVuSans-110\"/>\n      <path id=\"DejaVuSans-32\"/>\n      <path d=\"M 9.421875 75.984375 \nL 18.40625 75.984375 \nL 18.40625 0 \nL 9.421875 0 \nz\n\" id=\"DejaVuSans-108\"/>\n      <path d=\"M 44.28125 53.078125 \nL 44.28125 44.578125 \nQ 40.484375 46.53125 36.375 47.5 \nQ 32.28125 48.484375 27.875 48.484375 \nQ 21.1875 48.484375 17.84375 46.4375 \nQ 14.5 44.390625 14.5 40.28125 \nQ 14.5 37.15625 16.890625 35.375 \nQ 19.28125 33.59375 26.515625 31.984375 \nL 29.59375 31.296875 \nQ 39.15625 29.25 43.1875 25.515625 \nQ 47.21875 21.78125 47.21875 15.09375 \nQ 47.21875 7.46875 41.1875 3.015625 \nQ 35.15625 -1.421875 24.609375 -1.421875 \nQ 20.21875 -1.421875 15.453125 -0.5625 \nQ 10.6875 0.296875 5.421875 2 \nL 5.421875 11.28125 \nQ 10.40625 8.6875 15.234375 7.390625 \nQ 20.0625 6.109375 24.8125 6.109375 \nQ 31.15625 6.109375 34.5625 8.28125 \nQ 37.984375 10.453125 37.984375 14.40625 \nQ 37.984375 18.0625 35.515625 20.015625 \nQ 33.0625 21.96875 24.703125 23.78125 \nL 21.578125 24.515625 \nQ 13.234375 26.265625 9.515625 29.90625 \nQ 5.8125 33.546875 5.8125 39.890625 \nQ 5.8125 47.609375 11.28125 51.796875 \nQ 16.75 56 26.8125 56 \nQ 31.78125 56 36.171875 55.265625 \nQ 40.578125 54.546875 44.28125 53.078125 \nz\n\" id=\"DejaVuSans-115\"/>\n     </defs>\n     <g transform=\"translate(170.634375 63.23125)scale(0.1 -0.1)\">\n      <use xlink:href=\"#DejaVuSans-116\"/>\n      <use x=\"39.208984\" xlink:href=\"#DejaVuSans-114\"/>\n      <use x=\"80.322266\" xlink:href=\"#DejaVuSans-97\"/>\n      <use x=\"141.601562\" xlink:href=\"#DejaVuSans-105\"/>\n      <use x=\"169.384766\" xlink:href=\"#DejaVuSans-110\"/>\n      <use x=\"232.763672\" xlink:href=\"#DejaVuSans-32\"/>\n      <use x=\"264.550781\" xlink:href=\"#DejaVuSans-108\"/>\n      <use x=\"292.333984\" xlink:href=\"#DejaVuSans-111\"/>\n      <use x=\"353.515625\" xlink:href=\"#DejaVuSans-115\"/>\n      <use x=\"405.615234\" xlink:href=\"#DejaVuSans-115\"/>\n     </g>\n    </g>\n    <g id=\"line2d_22\">\n     <path d=\"M 142.634375 74.409375 \nL 162.634375 74.409375 \n\" style=\"fill:none;stroke:#bf00bf;stroke-dasharray:5.55,2.4;stroke-dashoffset:0;stroke-width:1.5;\"/>\n    </g>\n    <g id=\"line2d_23\"/>\n    <g id=\"text_11\">\n     <!-- train acc -->\n     <g transform=\"translate(170.634375 77.909375)scale(0.1 -0.1)\">\n      <use xlink:href=\"#DejaVuSans-116\"/>\n      <use x=\"39.208984\" xlink:href=\"#DejaVuSans-114\"/>\n      <use x=\"80.322266\" xlink:href=\"#DejaVuSans-97\"/>\n      <use x=\"141.601562\" xlink:href=\"#DejaVuSans-105\"/>\n      <use x=\"169.384766\" xlink:href=\"#DejaVuSans-110\"/>\n      <use x=\"232.763672\" xlink:href=\"#DejaVuSans-32\"/>\n      <use x=\"264.550781\" xlink:href=\"#DejaVuSans-97\"/>\n      <use x=\"325.830078\" xlink:href=\"#DejaVuSans-99\"/>\n      <use x=\"380.810547\" xlink:href=\"#DejaVuSans-99\"/>\n     </g>\n    </g>\n    <g id=\"line2d_24\">\n     <path d=\"M 142.634375 89.0875 \nL 162.634375 89.0875 \n\" style=\"fill:none;stroke:#008000;stroke-dasharray:9.6,2.4,1.5,2.4;stroke-dashoffset:0;stroke-width:1.5;\"/>\n    </g>\n    <g id=\"line2d_25\"/>\n    <g id=\"text_12\">\n     <!-- test acc -->\n     <g transform=\"translate(170.634375 92.5875)scale(0.1 -0.1)\">\n      <use xlink:href=\"#DejaVuSans-116\"/>\n      <use x=\"39.208984\" xlink:href=\"#DejaVuSans-101\"/>\n      <use x=\"100.732422\" xlink:href=\"#DejaVuSans-115\"/>\n      <use x=\"152.832031\" xlink:href=\"#DejaVuSans-116\"/>\n      <use x=\"192.041016\" xlink:href=\"#DejaVuSans-32\"/>\n      <use x=\"223.828125\" xlink:href=\"#DejaVuSans-97\"/>\n      <use x=\"285.107422\" xlink:href=\"#DejaVuSans-99\"/>\n      <use x=\"340.087891\" xlink:href=\"#DejaVuSans-99\"/>\n     </g>\n    </g>\n   </g>\n  </g>\n </g>\n <defs>\n  <clipPath id=\"p174a691138\">\n   <rect height=\"135.9\" width=\"195.3\" x=\"30.103125\" y=\"7.2\"/>\n  </clipPath>\n </defs>\n</svg>\n"
          },
          "metadata": {
            "needs_background": "light"
          }
        }
      ],
      "source": [
        "trainer = gluon.Trainer(net.collect_params(), 'sgd', {'learning_rate': lr})\n",
        "d2l.train_ch3(net, train_iter, test_iter, loss, num_epochs, trainer)"
      ]
    },
    {
      "cell_type": "markdown",
      "metadata": {
        "origin_pos": 28,
        "id": "OZEkYy11OH6M"
      },
      "source": [
        "## Summary\n",
        "\n",
        "* Beyond controlling the number of dimensions and the size of the weight vector, dropout is yet another tool to avoid overfitting. Often they are used jointly.\n",
        "* Dropout replaces an activation $h$ with a random variable with expected value $h$.\n",
        "* Dropout is only used during training.\n"
      ]
    }
  ],
  "metadata": {
    "language_info": {
      "name": "python"
    },
    "colab": {
      "name": "dropout_Deep Learning.ipynb",
      "provenance": []
    },
    "kernelspec": {
      "name": "python3",
      "display_name": "Python 3"
    }
  },
  "nbformat": 4,
  "nbformat_minor": 0
}