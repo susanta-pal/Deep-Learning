{
  "nbformat": 4,
  "nbformat_minor": 0,
  "metadata": {
    "colab": {
      "provenance": []
    },
    "kernelspec": {
      "name": "python3",
      "display_name": "Python 3"
    },
    "language_info": {
      "name": "python"
    }
  },
  "cells": [
    {
      "cell_type": "markdown",
      "source": [
        "**Hands-on Session: Building and Training an Artificial Neural Network**"
      ],
      "metadata": {
        "id": "xcHP1_-tkJG3"
      }
    },
    {
      "cell_type": "markdown",
      "source": [
        "**Introduction to ANNs**\n",
        "\n",
        "**What is an ANN?**\n",
        "\n",
        "An ANN is a computational model inspired by the way biological neural networks in the human brain process information.\n",
        "It consists of layers of interconnected nodes (neurons), where each connection has an associated weight."
      ],
      "metadata": {
        "id": "7W6rCeJxkfdu"
      }
    },
    {
      "cell_type": "markdown",
      "source": [
        "**Basic Concepts:**\n",
        "\n",
        "**Neurons:** In artificial neural networks (ANNs), neurons are computational units that process input data. They receive inputs, apply weights and biases, pass the result through an activation function, and then produce an output, helping to make predictions or classifications in machine learning tasks.\n",
        "\n",
        "**Layers:** In an Artificial Neural Network (ANN), the layers are structured as follows:\n",
        "\n",
        "1. **Input Layer**: This layer receives the raw data features and passes them to the next layer. Each neuron corresponds to one feature in the input dataset.\n",
        "   \n",
        "2. **Hidden Layers**: These layers perform the main computations by applying weights, biases, and activation functions to the input data. An ANN can have multiple hidden layers, each helping to extract more complex features from the data.\n",
        "\n",
        "3. **Output Layer**: This layer produces the final result, either a classification or regression output, depending on the problem. The number of neurons in this layer matches the number of output classes or values.\n",
        "\n",
        "Each layer is connected through weighted edges, allowing information to flow from the input to the output in a structured manner.\n",
        "\n",
        "**Activation functions:** Activation functions in ANNs introduce non-linearity, enabling complex pattern learning. Common types include Sigmoid and Tanh, which squash outputs (which map input values into a bounded interval, for instance, the Sigmoid function squashes outputs to the range [0, 1], and the Tanh function maps values to [-1, 1]), ReLU for simplicity and efficiency, Leaky ReLU to fix dead neurons, and Softmax for multi-class classification outputs.\n",
        "\n",
        "**Weights and Biases:** Weights and biases in ANNs are parameters that determine the strength of connections between neurons. Weights adjust the input signal's importance, while biases shift the activation function's output. These values are optimized during training to minimize the model's error."
      ],
      "metadata": {
        "id": "P2sncvGdkur3"
      }
    },
    {
      "cell_type": "markdown",
      "source": [
        "**Step 1: Import Libraries**"
      ],
      "metadata": {
        "id": "wbw1lckSpLWR"
      }
    },
    {
      "cell_type": "code",
      "execution_count": 1,
      "metadata": {
        "id": "pIXcTromiZcx"
      },
      "outputs": [],
      "source": [
        "import numpy as np                                       #It imports NumPy for numerical operations\n",
        "from tensorflow.keras.models import Sequential           #This line imports the Sequential class from the tensorflow.keras.models module. The Sequential model is a linear stack of layers. You can create a model by adding layers to it in a sequential manner, making it easy to build simple feedforward neural networks.\n",
        "from tensorflow.keras.layers import Dense                #This line imports the Dense class from the tensorflow.keras.layers module. A Dense layer is a fully connected layer in a neural network, where each neuron in the layer is connected to every neuron in the previous layer. It’s commonly used as a building block in neural networks to perform computations.\n",
        "from sklearn.datasets import load_iris                   #This line imports the load_iris function from the sklearn.datasets module. The load_iris function is used to load the Iris dataset, a well-known dataset in machine learning that contains features of different iris flower species. This dataset is often used for classification tasks.\n",
        "from sklearn.model_selection import train_test_split     #This line imports the train_test_split function from the sklearn.model_selection module. The train_test_split function is used to split a dataset into training and testing subsets. This is crucial for evaluating the performance of a machine learning model. It randomly partitions the data to ensure that both training and testing datasets are representative.\n",
        "from sklearn.preprocessing import StandardScaler         #This line imports the StandardScaler class from the sklearn.preprocessing module.The StandardScaler is used to standardize features by removing the mean and scaling to unit variance. This is important for many machine learning algorithms to ensure that features contribute equally to the result and to improve convergence speed during training."
      ]
    },
    {
      "cell_type": "markdown",
      "source": [
        "**Step 2: Prepare the Dataset**"
      ],
      "metadata": {
        "id": "Qn674Ry4pRos"
      }
    },
    {
      "cell_type": "code",
      "source": [
        "# Load dataset\n",
        "iris = load_iris()      #This line calls the load_iris function to load the Iris dataset and assigns it to the variable iris. The dataset contains both the features (input data) and the labels (target species).\n",
        "X = iris.data           #Here, the features (input data) of the Iris dataset are extracted and stored in the variable X. iris.data is a 2D array where each row corresponds to a sample and each column corresponds to a feature (like sepal length, sepal width, etc.).\n",
        "y = iris.target         #This line extracts the target labels (species of the iris flowers) from the dataset and stores them in the variable y. iris.target is a 1D array of integers representing the class labels.\n",
        "\n",
        "# Split the dataset\n",
        "X_train, X_test, y_train, y_test = train_test_split(X, y, test_size=0.2, random_state=42)     #This line uses the train_test_split function to divide the dataset into training and testing subsets. X_train and X_test are the feature sets for training and testing, respectively, while y_train and y_test are the corresponding target labels. test_size=0.2 indicates that 20% of the data will be used for testing, while 80% will be for training. random_state=42 ensures reproducibility by setting a seed for the random number generator, so that the same split can be obtained every time the code is run.\n",
        "\n",
        "# Standardize the dataset\n",
        "scaler = StandardScaler()                     #This line creates an instance of the StandardScaler class, which will be used to standardize the feature data. The StandardScaler standardizes the data by removing the mean and scaling to unit variance.\n",
        "X_train = scaler.fit_transform(X_train)       #fit_transform first computes the mean and standard deviation of X_train, then transforms it into a standardized format (mean=0, variance=1). The standardized training data is then reassigned to X_train.\n",
        "X_test = scaler.transform(X_test)             #This line standardizes the test data using the parameters (mean and standard deviation) computed from the training data.transform applies the same scaling to X_test to ensure that the training and testing data are on the same scale, which is essential for the model to make accurate predictions.\n"
      ],
      "metadata": {
        "id": "EIlTFCivik10"
      },
      "execution_count": 2,
      "outputs": []
    },
    {
      "cell_type": "markdown",
      "source": [
        "**Step 3: Build the ANN Model**"
      ],
      "metadata": {
        "id": "eOgUHAp6p5CY"
      }
    },
    {
      "cell_type": "code",
      "source": [
        "model = Sequential()     #This initializes a Sequential model, which is a linear stack of layers in Keras. Layers are added one after another.\n",
        "model.add(Dense(10, input_dim=4, activation='relu'))     #Adds a Dense (fully connected) layer with 10 neurons.input_dim=4 specifies that the input has 4 features (dimensions). The ReLU (Rectified Linear Unit) activation function introduces non-linearity by outputting the input if positive, and zero otherwise.\n",
        "model.add(Dense(8, activation='relu'))     #Adds another Dense layer with 8 neurons. No need to specify input dimensions since it's inferred from the previous layer. Uses ReLU activation again to add non-linearity.\n",
        "model.add(Dense(3, activation='softmax'))    #Adds a final Dense layer with 3 neurons (typically for multi-class classification). The Softmax activation function converts the output to probabilities, ensuring the values sum to 1. This is typically used in the output layer for multi-class classification problems."
      ],
      "metadata": {
        "colab": {
          "base_uri": "https://localhost:8080/"
        },
        "id": "jWVGj4bkiqYC",
        "outputId": "4e8c1055-ef2b-4725-d71f-341e6dae1f04"
      },
      "execution_count": 3,
      "outputs": [
        {
          "output_type": "stream",
          "name": "stderr",
          "text": [
            "/usr/local/lib/python3.10/dist-packages/keras/src/layers/core/dense.py:87: UserWarning: Do not pass an `input_shape`/`input_dim` argument to a layer. When using Sequential models, prefer using an `Input(shape)` object as the first layer in the model instead.\n",
            "  super().__init__(activity_regularizer=activity_regularizer, **kwargs)\n"
          ]
        }
      ]
    },
    {
      "cell_type": "markdown",
      "source": [
        "**Step 4: Compile the Model**"
      ],
      "metadata": {
        "id": "OicMd7QSqBjt"
      }
    },
    {
      "cell_type": "code",
      "source": [
        "model.compile(optimizer='adam', loss='sparse_categorical_crossentropy', metrics=['accuracy'])     #specifying the optimization algorithm (Adam), the loss function for a multi-class classification problem (sparse_categorical_crossentropy), and the metric to track during training and validation (accuracy)."
      ],
      "metadata": {
        "id": "IWkjbNezi-QT"
      },
      "execution_count": 4,
      "outputs": []
    },
    {
      "cell_type": "markdown",
      "source": [
        "**Step 5: Train the Model**"
      ],
      "metadata": {
        "id": "SOmKim-XqK6t"
      }
    },
    {
      "cell_type": "code",
      "source": [
        "history = model.fit(X_train, y_train, epochs=50, batch_size=5, validation_data=(X_test, y_test))     #fitting (training) a neural network model using the training data (X_train and y_train) for 50 epochs, with updates happening every 5 samples, and it evaluates performance on the validation dataset (X_test and y_test) at the end of each epoch. The training history is stored in the history variable for later analysis."
      ],
      "metadata": {
        "colab": {
          "base_uri": "https://localhost:8080/"
        },
        "id": "fuFNc9dmjKf8",
        "outputId": "ee1741fe-4495-4e47-d301-9f9ed951abc4"
      },
      "execution_count": 5,
      "outputs": [
        {
          "output_type": "stream",
          "name": "stdout",
          "text": [
            "Epoch 1/50\n",
            "\u001b[1m24/24\u001b[0m \u001b[32m━━━━━━━━━━━━━━━━━━━━\u001b[0m\u001b[37m\u001b[0m \u001b[1m2s\u001b[0m 11ms/step - accuracy: 0.2872 - loss: 1.2308 - val_accuracy: 0.3667 - val_loss: 0.9116\n",
            "Epoch 2/50\n",
            "\u001b[1m24/24\u001b[0m \u001b[32m━━━━━━━━━━━━━━━━━━━━\u001b[0m\u001b[37m\u001b[0m \u001b[1m0s\u001b[0m 3ms/step - accuracy: 0.4028 - loss: 0.9611 - val_accuracy: 0.5667 - val_loss: 0.7721\n",
            "Epoch 3/50\n",
            "\u001b[1m24/24\u001b[0m \u001b[32m━━━━━━━━━━━━━━━━━━━━\u001b[0m\u001b[37m\u001b[0m \u001b[1m0s\u001b[0m 3ms/step - accuracy: 0.5581 - loss: 0.8636 - val_accuracy: 0.7333 - val_loss: 0.6759\n",
            "Epoch 4/50\n",
            "\u001b[1m24/24\u001b[0m \u001b[32m━━━━━━━━━━━━━━━━━━━━\u001b[0m\u001b[37m\u001b[0m \u001b[1m0s\u001b[0m 3ms/step - accuracy: 0.7372 - loss: 0.6788 - val_accuracy: 0.7333 - val_loss: 0.6033\n",
            "Epoch 5/50\n",
            "\u001b[1m24/24\u001b[0m \u001b[32m━━━━━━━━━━━━━━━━━━━━\u001b[0m\u001b[37m\u001b[0m \u001b[1m0s\u001b[0m 3ms/step - accuracy: 0.6488 - loss: 0.6982 - val_accuracy: 0.8000 - val_loss: 0.5499\n",
            "Epoch 6/50\n",
            "\u001b[1m24/24\u001b[0m \u001b[32m━━━━━━━━━━━━━━━━━━━━\u001b[0m\u001b[37m\u001b[0m \u001b[1m0s\u001b[0m 3ms/step - accuracy: 0.6892 - loss: 0.6560 - val_accuracy: 0.8333 - val_loss: 0.5087\n",
            "Epoch 7/50\n",
            "\u001b[1m24/24\u001b[0m \u001b[32m━━━━━━━━━━━━━━━━━━━━\u001b[0m\u001b[37m\u001b[0m \u001b[1m0s\u001b[0m 3ms/step - accuracy: 0.7457 - loss: 0.6433 - val_accuracy: 0.8333 - val_loss: 0.4737\n",
            "Epoch 8/50\n",
            "\u001b[1m24/24\u001b[0m \u001b[32m━━━━━━━━━━━━━━━━━━━━\u001b[0m\u001b[37m\u001b[0m \u001b[1m0s\u001b[0m 3ms/step - accuracy: 0.7632 - loss: 0.5578 - val_accuracy: 0.8667 - val_loss: 0.4440\n",
            "Epoch 9/50\n",
            "\u001b[1m24/24\u001b[0m \u001b[32m━━━━━━━━━━━━━━━━━━━━\u001b[0m\u001b[37m\u001b[0m \u001b[1m0s\u001b[0m 4ms/step - accuracy: 0.7505 - loss: 0.5761 - val_accuracy: 0.9000 - val_loss: 0.4163\n",
            "Epoch 10/50\n",
            "\u001b[1m24/24\u001b[0m \u001b[32m━━━━━━━━━━━━━━━━━━━━\u001b[0m\u001b[37m\u001b[0m \u001b[1m0s\u001b[0m 3ms/step - accuracy: 0.8009 - loss: 0.5392 - val_accuracy: 0.9000 - val_loss: 0.3889\n",
            "Epoch 11/50\n",
            "\u001b[1m24/24\u001b[0m \u001b[32m━━━━━━━━━━━━━━━━━━━━\u001b[0m\u001b[37m\u001b[0m \u001b[1m0s\u001b[0m 5ms/step - accuracy: 0.8459 - loss: 0.4385 - val_accuracy: 0.9000 - val_loss: 0.3646\n",
            "Epoch 12/50\n",
            "\u001b[1m24/24\u001b[0m \u001b[32m━━━━━━━━━━━━━━━━━━━━\u001b[0m\u001b[37m\u001b[0m \u001b[1m0s\u001b[0m 3ms/step - accuracy: 0.8631 - loss: 0.4350 - val_accuracy: 0.9000 - val_loss: 0.3426\n",
            "Epoch 13/50\n",
            "\u001b[1m24/24\u001b[0m \u001b[32m━━━━━━━━━━━━━━━━━━━━\u001b[0m\u001b[37m\u001b[0m \u001b[1m0s\u001b[0m 4ms/step - accuracy: 0.8399 - loss: 0.4980 - val_accuracy: 0.9333 - val_loss: 0.3236\n",
            "Epoch 14/50\n",
            "\u001b[1m24/24\u001b[0m \u001b[32m━━━━━━━━━━━━━━━━━━━━\u001b[0m\u001b[37m\u001b[0m \u001b[1m0s\u001b[0m 4ms/step - accuracy: 0.8812 - loss: 0.4439 - val_accuracy: 0.9333 - val_loss: 0.3059\n",
            "Epoch 15/50\n",
            "\u001b[1m24/24\u001b[0m \u001b[32m━━━━━━━━━━━━━━━━━━━━\u001b[0m\u001b[37m\u001b[0m \u001b[1m0s\u001b[0m 4ms/step - accuracy: 0.8837 - loss: 0.3499 - val_accuracy: 0.9667 - val_loss: 0.2904\n",
            "Epoch 16/50\n",
            "\u001b[1m24/24\u001b[0m \u001b[32m━━━━━━━━━━━━━━━━━━━━\u001b[0m\u001b[37m\u001b[0m \u001b[1m0s\u001b[0m 4ms/step - accuracy: 0.8658 - loss: 0.3633 - val_accuracy: 0.9667 - val_loss: 0.2752\n",
            "Epoch 17/50\n",
            "\u001b[1m24/24\u001b[0m \u001b[32m━━━━━━━━━━━━━━━━━━━━\u001b[0m\u001b[37m\u001b[0m \u001b[1m0s\u001b[0m 5ms/step - accuracy: 0.8788 - loss: 0.3734 - val_accuracy: 0.9667 - val_loss: 0.2615\n",
            "Epoch 18/50\n",
            "\u001b[1m24/24\u001b[0m \u001b[32m━━━━━━━━━━━━━━━━━━━━\u001b[0m\u001b[37m\u001b[0m \u001b[1m0s\u001b[0m 4ms/step - accuracy: 0.9101 - loss: 0.3371 - val_accuracy: 0.9667 - val_loss: 0.2481\n",
            "Epoch 19/50\n",
            "\u001b[1m24/24\u001b[0m \u001b[32m━━━━━━━━━━━━━━━━━━━━\u001b[0m\u001b[37m\u001b[0m \u001b[1m0s\u001b[0m 4ms/step - accuracy: 0.9108 - loss: 0.3271 - val_accuracy: 0.9667 - val_loss: 0.2352\n",
            "Epoch 20/50\n",
            "\u001b[1m24/24\u001b[0m \u001b[32m━━━━━━━━━━━━━━━━━━━━\u001b[0m\u001b[37m\u001b[0m \u001b[1m0s\u001b[0m 4ms/step - accuracy: 0.9153 - loss: 0.2979 - val_accuracy: 0.9667 - val_loss: 0.2240\n",
            "Epoch 21/50\n",
            "\u001b[1m24/24\u001b[0m \u001b[32m━━━━━━━━━━━━━━━━━━━━\u001b[0m\u001b[37m\u001b[0m \u001b[1m0s\u001b[0m 4ms/step - accuracy: 0.8930 - loss: 0.3290 - val_accuracy: 0.9667 - val_loss: 0.2139\n",
            "Epoch 22/50\n",
            "\u001b[1m24/24\u001b[0m \u001b[32m━━━━━━━━━━━━━━━━━━━━\u001b[0m\u001b[37m\u001b[0m \u001b[1m0s\u001b[0m 3ms/step - accuracy: 0.9145 - loss: 0.2934 - val_accuracy: 0.9667 - val_loss: 0.2042\n",
            "Epoch 23/50\n",
            "\u001b[1m24/24\u001b[0m \u001b[32m━━━━━━━━━━━━━━━━━━━━\u001b[0m\u001b[37m\u001b[0m \u001b[1m0s\u001b[0m 4ms/step - accuracy: 0.8869 - loss: 0.3023 - val_accuracy: 0.9667 - val_loss: 0.1951\n",
            "Epoch 24/50\n",
            "\u001b[1m24/24\u001b[0m \u001b[32m━━━━━━━━━━━━━━━━━━━━\u001b[0m\u001b[37m\u001b[0m \u001b[1m0s\u001b[0m 3ms/step - accuracy: 0.9025 - loss: 0.2816 - val_accuracy: 0.9667 - val_loss: 0.1872\n",
            "Epoch 25/50\n",
            "\u001b[1m24/24\u001b[0m \u001b[32m━━━━━━━━━━━━━━━━━━━━\u001b[0m\u001b[37m\u001b[0m \u001b[1m0s\u001b[0m 3ms/step - accuracy: 0.9491 - loss: 0.2323 - val_accuracy: 0.9667 - val_loss: 0.1781\n",
            "Epoch 26/50\n",
            "\u001b[1m24/24\u001b[0m \u001b[32m━━━━━━━━━━━━━━━━━━━━\u001b[0m\u001b[37m\u001b[0m \u001b[1m0s\u001b[0m 3ms/step - accuracy: 0.9232 - loss: 0.2486 - val_accuracy: 0.9667 - val_loss: 0.1720\n",
            "Epoch 27/50\n",
            "\u001b[1m24/24\u001b[0m \u001b[32m━━━━━━━━━━━━━━━━━━━━\u001b[0m\u001b[37m\u001b[0m \u001b[1m0s\u001b[0m 4ms/step - accuracy: 0.8851 - loss: 0.2628 - val_accuracy: 0.9667 - val_loss: 0.1656\n",
            "Epoch 28/50\n",
            "\u001b[1m24/24\u001b[0m \u001b[32m━━━━━━━━━━━━━━━━━━━━\u001b[0m\u001b[37m\u001b[0m \u001b[1m0s\u001b[0m 6ms/step - accuracy: 0.8845 - loss: 0.2711 - val_accuracy: 0.9667 - val_loss: 0.1588\n",
            "Epoch 29/50\n",
            "\u001b[1m24/24\u001b[0m \u001b[32m━━━━━━━━━━━━━━━━━━━━\u001b[0m\u001b[37m\u001b[0m \u001b[1m0s\u001b[0m 5ms/step - accuracy: 0.9280 - loss: 0.2228 - val_accuracy: 0.9667 - val_loss: 0.1529\n",
            "Epoch 30/50\n",
            "\u001b[1m24/24\u001b[0m \u001b[32m━━━━━━━━━━━━━━━━━━━━\u001b[0m\u001b[37m\u001b[0m \u001b[1m0s\u001b[0m 5ms/step - accuracy: 0.9308 - loss: 0.2080 - val_accuracy: 0.9667 - val_loss: 0.1466\n",
            "Epoch 31/50\n",
            "\u001b[1m24/24\u001b[0m \u001b[32m━━━━━━━━━━━━━━━━━━━━\u001b[0m\u001b[37m\u001b[0m \u001b[1m0s\u001b[0m 5ms/step - accuracy: 0.9565 - loss: 0.1754 - val_accuracy: 1.0000 - val_loss: 0.1406\n",
            "Epoch 32/50\n",
            "\u001b[1m24/24\u001b[0m \u001b[32m━━━━━━━━━━━━━━━━━━━━\u001b[0m\u001b[37m\u001b[0m \u001b[1m0s\u001b[0m 5ms/step - accuracy: 0.9609 - loss: 0.1730 - val_accuracy: 1.0000 - val_loss: 0.1337\n",
            "Epoch 33/50\n",
            "\u001b[1m24/24\u001b[0m \u001b[32m━━━━━━━━━━━━━━━━━━━━\u001b[0m\u001b[37m\u001b[0m \u001b[1m0s\u001b[0m 6ms/step - accuracy: 0.9737 - loss: 0.1318 - val_accuracy: 1.0000 - val_loss: 0.1261\n",
            "Epoch 34/50\n",
            "\u001b[1m24/24\u001b[0m \u001b[32m━━━━━━━━━━━━━━━━━━━━\u001b[0m\u001b[37m\u001b[0m \u001b[1m0s\u001b[0m 5ms/step - accuracy: 0.9522 - loss: 0.1631 - val_accuracy: 1.0000 - val_loss: 0.1198\n",
            "Epoch 35/50\n",
            "\u001b[1m24/24\u001b[0m \u001b[32m━━━━━━━━━━━━━━━━━━━━\u001b[0m\u001b[37m\u001b[0m \u001b[1m0s\u001b[0m 5ms/step - accuracy: 0.9273 - loss: 0.1633 - val_accuracy: 1.0000 - val_loss: 0.1129\n",
            "Epoch 36/50\n",
            "\u001b[1m24/24\u001b[0m \u001b[32m━━━━━━━━━━━━━━━━━━━━\u001b[0m\u001b[37m\u001b[0m \u001b[1m0s\u001b[0m 5ms/step - accuracy: 0.9370 - loss: 0.1726 - val_accuracy: 1.0000 - val_loss: 0.1073\n",
            "Epoch 37/50\n",
            "\u001b[1m24/24\u001b[0m \u001b[32m━━━━━━━━━━━━━━━━━━━━\u001b[0m\u001b[37m\u001b[0m \u001b[1m0s\u001b[0m 7ms/step - accuracy: 0.9630 - loss: 0.1319 - val_accuracy: 1.0000 - val_loss: 0.1004\n",
            "Epoch 38/50\n",
            "\u001b[1m24/24\u001b[0m \u001b[32m━━━━━━━━━━━━━━━━━━━━\u001b[0m\u001b[37m\u001b[0m \u001b[1m0s\u001b[0m 3ms/step - accuracy: 0.9209 - loss: 0.1646 - val_accuracy: 1.0000 - val_loss: 0.0972\n",
            "Epoch 39/50\n",
            "\u001b[1m24/24\u001b[0m \u001b[32m━━━━━━━━━━━━━━━━━━━━\u001b[0m\u001b[37m\u001b[0m \u001b[1m0s\u001b[0m 4ms/step - accuracy: 0.9436 - loss: 0.1293 - val_accuracy: 1.0000 - val_loss: 0.0922\n",
            "Epoch 40/50\n",
            "\u001b[1m24/24\u001b[0m \u001b[32m━━━━━━━━━━━━━━━━━━━━\u001b[0m\u001b[37m\u001b[0m \u001b[1m0s\u001b[0m 4ms/step - accuracy: 0.8980 - loss: 0.1488 - val_accuracy: 1.0000 - val_loss: 0.0880\n",
            "Epoch 41/50\n",
            "\u001b[1m24/24\u001b[0m \u001b[32m━━━━━━━━━━━━━━━━━━━━\u001b[0m\u001b[37m\u001b[0m \u001b[1m0s\u001b[0m 3ms/step - accuracy: 0.9731 - loss: 0.1011 - val_accuracy: 1.0000 - val_loss: 0.0829\n",
            "Epoch 42/50\n",
            "\u001b[1m24/24\u001b[0m \u001b[32m━━━━━━━━━━━━━━━━━━━━\u001b[0m\u001b[37m\u001b[0m \u001b[1m0s\u001b[0m 3ms/step - accuracy: 0.9596 - loss: 0.1231 - val_accuracy: 1.0000 - val_loss: 0.0784\n",
            "Epoch 43/50\n",
            "\u001b[1m24/24\u001b[0m \u001b[32m━━━━━━━━━━━━━━━━━━━━\u001b[0m\u001b[37m\u001b[0m \u001b[1m0s\u001b[0m 3ms/step - accuracy: 0.9298 - loss: 0.1162 - val_accuracy: 1.0000 - val_loss: 0.0756\n",
            "Epoch 44/50\n",
            "\u001b[1m24/24\u001b[0m \u001b[32m━━━━━━━━━━━━━━━━━━━━\u001b[0m\u001b[37m\u001b[0m \u001b[1m0s\u001b[0m 5ms/step - accuracy: 0.9700 - loss: 0.1081 - val_accuracy: 1.0000 - val_loss: 0.0717\n",
            "Epoch 45/50\n",
            "\u001b[1m24/24\u001b[0m \u001b[32m━━━━━━━━━━━━━━━━━━━━\u001b[0m\u001b[37m\u001b[0m \u001b[1m0s\u001b[0m 3ms/step - accuracy: 0.9465 - loss: 0.0941 - val_accuracy: 1.0000 - val_loss: 0.0696\n",
            "Epoch 46/50\n",
            "\u001b[1m24/24\u001b[0m \u001b[32m━━━━━━━━━━━━━━━━━━━━\u001b[0m\u001b[37m\u001b[0m \u001b[1m0s\u001b[0m 3ms/step - accuracy: 0.9450 - loss: 0.1083 - val_accuracy: 1.0000 - val_loss: 0.0660\n",
            "Epoch 47/50\n",
            "\u001b[1m24/24\u001b[0m \u001b[32m━━━━━━━━━━━━━━━━━━━━\u001b[0m\u001b[37m\u001b[0m \u001b[1m0s\u001b[0m 3ms/step - accuracy: 0.9387 - loss: 0.1010 - val_accuracy: 1.0000 - val_loss: 0.0645\n",
            "Epoch 48/50\n",
            "\u001b[1m24/24\u001b[0m \u001b[32m━━━━━━━━━━━━━━━━━━━━\u001b[0m\u001b[37m\u001b[0m \u001b[1m0s\u001b[0m 3ms/step - accuracy: 0.9528 - loss: 0.1027 - val_accuracy: 1.0000 - val_loss: 0.0604\n",
            "Epoch 49/50\n",
            "\u001b[1m24/24\u001b[0m \u001b[32m━━━━━━━━━━━━━━━━━━━━\u001b[0m\u001b[37m\u001b[0m \u001b[1m0s\u001b[0m 4ms/step - accuracy: 0.9646 - loss: 0.1015 - val_accuracy: 1.0000 - val_loss: 0.0580\n",
            "Epoch 50/50\n",
            "\u001b[1m24/24\u001b[0m \u001b[32m━━━━━━━━━━━━━━━━━━━━\u001b[0m\u001b[37m\u001b[0m \u001b[1m0s\u001b[0m 3ms/step - accuracy: 0.9754 - loss: 0.0782 - val_accuracy: 1.0000 - val_loss: 0.0565\n"
          ]
        }
      ]
    },
    {
      "cell_type": "markdown",
      "source": [
        "**Step 6: Evaluate the Model**"
      ],
      "metadata": {
        "id": "TVmAutAUqSJb"
      }
    },
    {
      "cell_type": "code",
      "source": [
        "loss, accuracy = model.evaluate(X_test, y_test)     #This line evaluates the trained model on the test dataset (X_test, y_test).The model.evaluate() method returns two values: loss and accuracy.\n",
        "print(f'Test Accuracy: {accuracy:.2f}')        #Prints the test accuracy in a formatted string using f-string syntax.The accuracy:.2f formats the accuracy to 2 decimal places for better readability."
      ],
      "metadata": {
        "colab": {
          "base_uri": "https://localhost:8080/"
        },
        "id": "Xdu0rWgjjP5s",
        "outputId": "177dbe3f-87e9-4124-900e-3a5abcad8540"
      },
      "execution_count": 6,
      "outputs": [
        {
          "output_type": "stream",
          "name": "stdout",
          "text": [
            "\u001b[1m1/1\u001b[0m \u001b[32m━━━━━━━━━━━━━━━━━━━━\u001b[0m\u001b[37m\u001b[0m \u001b[1m0s\u001b[0m 225ms/step - accuracy: 1.0000 - loss: 0.0565\n",
            "Test Accuracy: 1.00\n"
          ]
        }
      ]
    },
    {
      "cell_type": "markdown",
      "source": [
        "**Visualizing the Training Process**"
      ],
      "metadata": {
        "id": "ApZmd22QqbVy"
      }
    },
    {
      "cell_type": "code",
      "source": [
        "import matplotlib.pyplot as plt     #Imports the matplotlib.pyplot library, which provides functions to create static, animated, and interactive visualizations in Python. The alias plt is used to shorten the function calls.\n",
        "\n",
        "plt.plot(history.history['accuracy'], label='train_accuracy')       #Plots the training accuracy over epochs. The history.history['accuracy'] object contains the accuracy values for each epoch from the training process. The label='train_accuracy' assigns a label to the plot, so it can be identified in the legend.\n",
        "plt.plot(history.history['val_accuracy'], label='val_accuracy')     #Plots the validation accuracy over epochs. history.history['val_accuracy'] holds accuracy values for validation data. The label 'val_accuracy' is assigned for the legend.\n",
        "plt.xlabel('Epochs')        #Sets the label for the x-axis to \"Epochs\", indicating that the x-axis represents the number of epochs during training.\n",
        "plt.ylabel('Accuracy')      #Sets the label for the y-axis to \"Accuracy\", showing that the y-axis represents the accuracy values.\n",
        "plt.legend()                #Adds a legend to the plot, which displays the labels (train_accuracy and val_accuracy) for the different lines on the graph.\n",
        "plt.show()                  #Displays the plot on the screen, showing the training and validation accuracy curves over the epochs.\n"
      ],
      "metadata": {
        "colab": {
          "base_uri": "https://localhost:8080/",
          "height": 449
        },
        "id": "W57fR8ehjnaH",
        "outputId": "4831d5f9-a5e3-4166-8c0f-9fc9549bdd07"
      },
      "execution_count": 7,
      "outputs": [
        {
          "output_type": "display_data",
          "data": {
            "text/plain": [
              "<Figure size 640x480 with 1 Axes>"
            ],
            "image/png": "[encoded data removed]"
          },
          "metadata": {}
        }
      ]
    },
    {
      "cell_type": "markdown",
      "source": [
        "**Key Observations:**\n",
        "\n",
        "**Training Accuracy:**\n",
        "Rapid increase in the first 5 epochs.\n",
        "Gradual improvement until it plateaus near 1.0 (or 100% accuracy).\n",
        "\n",
        "**Validation Accuracy:**\n",
        "Follows a similar trend but consistently lower than training accuracy.\n",
        "Indicates the model performs slightly worse on unseen data compared to training data."
      ],
      "metadata": {
        "id": "_L09Bg-yQsZK"
      }
    }
  ]
}