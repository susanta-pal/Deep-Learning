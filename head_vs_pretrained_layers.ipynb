{
  "cells": [
    {
      "cell_type": "markdown",
      "metadata": {
        "id": "view-in-github",
        "colab_type": "text"
      },
      "source": [
        "<a href=\"https://colab.research.google.com/github/susanta-pal/Deep-Learning/blob/main/head_vs_pretrained_layers.ipynb\" target=\"_parent\"><img src=\"https://colab.research.google.com/assets/colab-badge.svg\" alt=\"Open In Colab\"/></a>"
      ]
    },
    {
      "cell_type": "markdown",
      "metadata": {
        "id": "rrkGKlA3h63l"
      },
      "source": [
        "# Import all the necessary libraries"
      ]
    },
    {
      "cell_type": "code",
      "execution_count": null,
      "metadata": {
        "id": "tDOqspXDgRsF"
      },
      "outputs": [],
      "source": [
        "import torch\n",
        "import torch.utils.data\n",
        "from torchvision import transforms\n",
        "from torchvision.datasets import CIFAR10, FashionMNIST\n",
        "import numpy as np\n",
        "from torchvision.models import resnet18, ResNet18_Weights\n",
        "from tqdm import tqdm\n",
        "# !pip install torchmetrics\n",
        "from torchmetrics import Accuracy\n",
        "import matplotlib.pyplot as plt\n",
        "import seaborn as sns\n",
        "from collections import Counter"
      ]
    },
    {
      "cell_type": "markdown",
      "metadata": {
        "id": "5SaLVZcNiXPF"
      },
      "source": [
        "# Setup the Data Class (CIFAR10 & FashionMNIST)\n",
        "Always create classes for major modules. This will make your project modular, allowing you to switch different, in this case, datasets and test your model.\n",
        "Out of all the advantages of this coding habit, one advantage of creating multiple objecs of the data class is that it allows you to perform ensemble learning."
      ]
    },
    {
      "cell_type": "code",
      "execution_count": null,
      "metadata": {
        "id": "Og0SUbY9iW40"
      },
      "outputs": [],
      "source": [
        "class DataModule():\n",
        "    def __init__(self, batch_size, num_classes=10):\n",
        "        super().__init__()\n",
        "        self.batch_size = batch_size\n",
        "        self.num_classes = num_classes\n",
        "        # We define some augmentations that we would like to apply during training\n",
        "        self.train_transform = transforms.Compose([\n",
        "\n",
        "            transforms.Resize(256),\n",
        "            transforms.RandomCrop(224, 4),\n",
        "            transforms.RandomHorizontalFlip(),\n",
        "            transforms.ToTensor(),\n",
        "            transforms.Normalize((0.485, 0.456, 0.406), (0.229, 0.224, 0.225)),\n",
        "        ])\n",
        "        # During validation we need to only normalize and resize\n",
        "        self.val_transform = transforms.Compose([\n",
        "            transforms.Resize(224),\n",
        "            transforms.ToTensor(),\n",
        "            transforms.Normalize((0.485, 0.456, 0.406), (0.229, 0.224, 0.225)),\n",
        "        ])\n",
        "\n",
        "    # This function sets up our datasets\n",
        "    # which includes downloading and applying the augmentations\n",
        "    def prepare_data(self):\n",
        "        self.train_set = CIFAR10(root='./data', train=True, download=True, transform=self.train_transform)\n",
        "        self.val_set = CIFAR10(root='./data', train=False, download=True, transform=self.val_transform)\n",
        "        total_indices = list()\n",
        "        for i in range(self.num_classes):\n",
        "            indices = np.where(np.asarray(self.train_set.targets)==i)[0]\n",
        "            indices = np.random.choice(indices, int(0.1*len(indices))).tolist()\n",
        "            total_indices.extend(indices)\n",
        "        self.train_set.data = self.train_set.data[total_indices]\n",
        "        self.train_set.targets = [self.train_set.targets[j] for j in total_indices]\n",
        "\n",
        "\n",
        "    # This functions sets up the data loaders\n",
        "    def setup(self):\n",
        "        self.train_data_loader = torch.utils.data.DataLoader(self.train_set, batch_size=self.batch_size, shuffle=True)\n",
        "        self.val_data_loader = torch.utils.data.DataLoader(self.val_set, batch_size=self.batch_size, shuffle=False)\n",
        "\n",
        "    # This is simply a getter function for the training data loader\n",
        "    def train_dataloader(self, prune=True):\n",
        "        return self.train_data_loader\n",
        "\n",
        "    # This is simply a getter function for the validation data loader\n",
        "    def val_dataloader(self):\n",
        "        return self.val_data_loader"
      ]
    },
    {
      "cell_type": "markdown",
      "metadata": {
        "id": "A7HcA1kVFxhv"
      },
      "source": [
        "# Setup the Model Class\n",
        "Here we will define the model, its forward pass and its behaviour during each training/validation iteration"
      ]
    },
    {
      "cell_type": "code",
      "execution_count": null,
      "metadata": {
        "id": "AePVw9KZFf_N"
      },
      "outputs": [],
      "source": [
        "class DLModel(torch.nn.Module):\n",
        "    def __init__(self, num_classes, pretrained=True, num_unfreeze_layers=0, num_heads=1):\n",
        "        super().__init__()\n",
        "        # If you want to use the imagenet pretrained weights\n",
        "        if pretrained:\n",
        "            self.backbone = resnet18(weights=ResNet18_Weights.DEFAULT)\n",
        "            # We freeze the entire model\n",
        "            self.backbone.requires_grad_ = False\n",
        "            # If you want to unfreeze some of the layers, then\n",
        "            if num_unfreeze_layers > 0:\n",
        "                # First find number of layers\n",
        "                num_layers = 0\n",
        "                for name, module in self.named_modules():\n",
        "                    if isinstance(module, torch.nn.Conv2d) or isinstance(module, torch.nn.Linear) or isinstance(module, torch.nn.BatchNorm2d):\n",
        "                        num_layers+=1\n",
        "                # Following which unfreeze the last set of layers\n",
        "                start_unfreezing_counter, counter = num_layers - num_unfreeze_layers, 0\n",
        "                for name, module in self.named_modules():\n",
        "                    if isinstance(module, torch.nn.Conv2d) or isinstance(module, torch.nn.Linear) or isinstance(module, torch.nn.BatchNorm2d):\n",
        "                        counter+=1\n",
        "                    if counter >= start_unfreezing_counter:\n",
        "                        module.requires_grad_ = True\n",
        "        # Otherwise just initialize the network from scratch\n",
        "        else:\n",
        "            self.backbone = resnet18(weights=None)\n",
        "            self.backbone.requires_grad_ = True\n",
        "        # The resnet model comes with a 1000 neuron final layer for the imagenet dataset\n",
        "        self.backbone.fc = torch.nn.Sequential(\n",
        "            *[torch.nn.Linear(512, 512) if i!=num_heads-1 else torch.nn.Linear(512, num_classes) for i in range(num_heads)]\n",
        "        )\n",
        "        self.backbone.fc.requires_grad_ = True\n",
        "        # Define the objective function\n",
        "        self.criterion = torch.nn.CrossEntropyLoss()\n",
        "        # Define the metrics\n",
        "        self.train_acc1, self.val_acc1 = Accuracy(task=\"multiclass\", num_classes=num_classes), Accuracy(task=\"multiclass\", num_classes=num_classes)\n",
        "        self.train_acc5, self.val_acc5 = Accuracy(task=\"multiclass\", num_classes=num_classes, top_k=5), Accuracy(task=\"multiclass\", num_classes=num_classes, top_k=5)\n",
        "\n",
        "    # This function sets up the optimizer and scheduler that we will use\n",
        "    def configure_optimizers(self, lr, momentum, max_epochs):\n",
        "        self.optimizer = torch.optim.SGD(self.parameters(), lr=lr, momentum=momentum)\n",
        "        self.scheduler = torch.optim.lr_scheduler.CosineAnnealingLR(self.optimizer, T_max=max_epochs)\n",
        "\n",
        "    # This defines the behaviour of our model during the forward pass\n",
        "    # Based on the defined behaviour, PyTorch sets up the backward pass\n",
        "    def forward(self, x):\n",
        "        out = self.backbone(x)\n",
        "        return out\n",
        "\n",
        "    # This function describes model behaviour per iteration during training\n",
        "    def training_step(self, x, y):\n",
        "        self.optimizer.zero_grad()\n",
        "        preds = self.forward(x)\n",
        "        self.train_acc1.update(preds, y)\n",
        "        self.train_acc5.update(preds, y)\n",
        "        loss = self.criterion(preds, y)\n",
        "        loss.backward()\n",
        "        self.optimizer.step()\n",
        "        return loss.item()\n",
        "\n",
        "    # Once the epoch is complete, we can call this function for inspecting the model's performance\n",
        "    def on_training_epoch_end(self, loss, epoch):\n",
        "        acc1, acc5 = self.train_acc1.compute().item(), self.train_acc5.compute().item()\n",
        "        print(f\"Epoch No: {epoch+1}\\nTraining Loss: {loss}\\n Training Accuracy: {acc1} (Top-1)\\t  {acc5} (Top-5)\")\n",
        "        return acc1, acc5\n",
        "\n",
        "    # This function describes model behaviour per iteration during validation\n",
        "    def validation_step(self, x, y):\n",
        "        preds = self.forward(x)\n",
        "        self.val_acc1.update(preds, y)\n",
        "        self.val_acc5.update(preds, y)\n",
        "        loss = self.criterion(preds, y)\n",
        "        return loss.item()\n",
        "\n",
        "    # Once the validation iterations are complete, we can call this function for inspecting the model's performance\n",
        "    def on_validation_epoch_end(self, loss, epoch):\n",
        "        acc1, acc5 = self.val_acc1.compute().item(), self.val_acc5.compute().item()\n",
        "        print(f\"Validation Loss: {loss}\\nValidation Accuracy: {acc1} (Top-1)\\t  {acc5} (Top-5)\")\n",
        "        return acc1, acc5\n",
        "\n",
        "    # This function resets the metrics so that new results can be calculated for the next epoch\n",
        "    def reset_metrics(self):\n",
        "        self.train_acc1.reset(), self.train_acc5.reset()\n",
        "        self.val_acc1.reset(), self.val_acc5.reset()"
      ]
    },
    {
      "cell_type": "markdown",
      "metadata": {
        "id": "VaPzMZOIebux"
      },
      "source": [
        "# Putting it all together\n",
        "We first define some static and global variables"
      ]
    },
    {
      "cell_type": "code",
      "execution_count": null,
      "metadata": {
        "colab": {
          "base_uri": "https://localhost:8080/"
        },
        "id": "wnWYGv5BeYkj",
        "outputId": "bfb0ece4-e83d-4b1a-93a7-e5220f3dda07"
      },
      "outputs": [
        {
          "name": "stdout",
          "output_type": "stream",
          "text": [
            "Files already downloaded and verified\n",
            "Files already downloaded and verified\n"
          ]
        }
      ],
      "source": [
        "# First define some static variables\n",
        "num_classes = 10\n",
        "num_epochs = 10\n",
        "batch_size = 256\n",
        "# Fine-tuning and training from scratch require different sets of learning rates\n",
        "lr = 0.01\n",
        "momentum = 0.9\n",
        "device = torch.device(\"cuda\")\n",
        "\n",
        "\n",
        "# Define the data\n",
        "data_module = DataModule(batch_size=batch_size)\n",
        "data_module.prepare_data()\n",
        "data_module.setup()\n",
        "train_loader, val_loader = data_module.train_dataloader(), data_module.val_dataloader()"
      ]
    },
    {
      "cell_type": "markdown",
      "metadata": {
        "id": "JDE4-0VEhOFl"
      },
      "source": [
        "# Training by fine-tuning some pretrained layers and a single head"
      ]
    },
    {
      "cell_type": "code",
      "execution_count": null,
      "metadata": {
        "id": "A5D-J2bKhOFl",
        "outputId": "785edca3-2d4e-4733-ea90-8586b533089e"
      },
      "outputs": [
        {
          "name": "stderr",
          "output_type": "stream",
          "text": [
            "100%|██████████| 20/20 [00:22<00:00,  1.11s/it]\n"
          ]
        },
        {
          "name": "stdout",
          "output_type": "stream",
          "text": [
            "Epoch No: 1\n",
            "Training Loss: 1.5008663922548293\n",
            " Training Accuracy: 0.4875999987125397 (Top-1)\t  0.8640000224113464 (Top-5)\n"
          ]
        },
        {
          "name": "stderr",
          "output_type": "stream",
          "text": [
            "100%|██████████| 40/40 [00:21<00:00,  1.90it/s]\n"
          ]
        },
        {
          "name": "stdout",
          "output_type": "stream",
          "text": [
            "Validation Loss: 1.1281530141830445\n",
            "Validation Accuracy: 0.6093999743461609 (Top-1)\t  0.9420999884605408 (Top-5)\n"
          ]
        },
        {
          "name": "stderr",
          "output_type": "stream",
          "text": [
            "100%|██████████| 20/20 [00:20<00:00,  1.02s/it]\n"
          ]
        },
        {
          "name": "stdout",
          "output_type": "stream",
          "text": [
            "Epoch No: 2\n",
            "Training Loss: 0.5456646114587784\n",
            " Training Accuracy: 0.8172000050544739 (Top-1)\t  0.9904000163078308 (Top-5)\n"
          ]
        },
        {
          "name": "stderr",
          "output_type": "stream",
          "text": [
            "100%|██████████| 40/40 [00:19<00:00,  2.00it/s]\n"
          ]
        },
        {
          "name": "stdout",
          "output_type": "stream",
          "text": [
            "Validation Loss: 0.5282530203461647\n",
            "Validation Accuracy: 0.8156999945640564 (Top-1)\t  0.9904999732971191 (Top-5)\n"
          ]
        },
        {
          "name": "stderr",
          "output_type": "stream",
          "text": [
            "100%|██████████| 20/20 [00:20<00:00,  1.04s/it]\n"
          ]
        },
        {
          "name": "stdout",
          "output_type": "stream",
          "text": [
            "Epoch No: 3\n",
            "Training Loss: 0.2971368975937366\n",
            " Training Accuracy: 0.9052000045776367 (Top-1)\t  0.9986000061035156 (Top-5)\n"
          ]
        },
        {
          "name": "stderr",
          "output_type": "stream",
          "text": [
            "100%|██████████| 40/40 [00:20<00:00,  1.91it/s]\n"
          ]
        },
        {
          "name": "stdout",
          "output_type": "stream",
          "text": [
            "Validation Loss: 0.34279448091983794\n",
            "Validation Accuracy: 0.8809999823570251 (Top-1)\t  0.9965999722480774 (Top-5)\n"
          ]
        },
        {
          "name": "stderr",
          "output_type": "stream",
          "text": [
            "100%|██████████| 20/20 [00:21<00:00,  1.07s/it]\n"
          ]
        },
        {
          "name": "stdout",
          "output_type": "stream",
          "text": [
            "Epoch No: 4\n",
            "Training Loss: 0.19672265350818635\n",
            " Training Accuracy: 0.9380000233650208 (Top-1)\t  0.9994000196456909 (Top-5)\n"
          ]
        },
        {
          "name": "stderr",
          "output_type": "stream",
          "text": [
            "100%|██████████| 40/40 [00:21<00:00,  1.88it/s]\n"
          ]
        },
        {
          "name": "stdout",
          "output_type": "stream",
          "text": [
            "Validation Loss: 0.3024914536625147\n",
            "Validation Accuracy: 0.8934000134468079 (Top-1)\t  0.9980999827384949 (Top-5)\n"
          ]
        },
        {
          "name": "stderr",
          "output_type": "stream",
          "text": [
            "100%|██████████| 20/20 [00:23<00:00,  1.20s/it]\n"
          ]
        },
        {
          "name": "stdout",
          "output_type": "stream",
          "text": [
            "Epoch No: 5\n",
            "Training Loss: 0.1422109730541706\n",
            " Training Accuracy: 0.9567999839782715 (Top-1)\t  0.9995999932289124 (Top-5)\n"
          ]
        },
        {
          "name": "stderr",
          "output_type": "stream",
          "text": [
            "100%|██████████| 40/40 [00:21<00:00,  1.83it/s]\n"
          ]
        },
        {
          "name": "stdout",
          "output_type": "stream",
          "text": [
            "Validation Loss: 0.3045184452086687\n",
            "Validation Accuracy: 0.8931999802589417 (Top-1)\t  0.9975000023841858 (Top-5)\n"
          ]
        },
        {
          "name": "stderr",
          "output_type": "stream",
          "text": [
            "100%|██████████| 20/20 [00:21<00:00,  1.06s/it]\n"
          ]
        },
        {
          "name": "stdout",
          "output_type": "stream",
          "text": [
            "Epoch No: 6\n",
            "Training Loss: 0.09669743366539478\n",
            " Training Accuracy: 0.973800003528595 (Top-1)\t  0.9998000264167786 (Top-5)\n"
          ]
        },
        {
          "name": "stderr",
          "output_type": "stream",
          "text": [
            "100%|██████████| 40/40 [00:21<00:00,  1.83it/s]\n"
          ]
        },
        {
          "name": "stdout",
          "output_type": "stream",
          "text": [
            "Validation Loss: 0.2826647896319628\n",
            "Validation Accuracy: 0.902899980545044 (Top-1)\t  0.9983000159263611 (Top-5)\n"
          ]
        },
        {
          "name": "stderr",
          "output_type": "stream",
          "text": [
            "100%|██████████| 20/20 [00:21<00:00,  1.07s/it]\n"
          ]
        },
        {
          "name": "stdout",
          "output_type": "stream",
          "text": [
            "Epoch No: 7\n",
            "Training Loss: 0.06810554396361113\n",
            " Training Accuracy: 0.9829999804496765 (Top-1)\t  1.0 (Top-5)\n"
          ]
        },
        {
          "name": "stderr",
          "output_type": "stream",
          "text": [
            "100%|██████████| 40/40 [00:38<00:00,  1.05it/s]\n"
          ]
        },
        {
          "name": "stdout",
          "output_type": "stream",
          "text": [
            "Validation Loss: 0.28859832547605035\n",
            "Validation Accuracy: 0.9007999897003174 (Top-1)\t  0.9979000091552734 (Top-5)\n"
          ]
        },
        {
          "name": "stderr",
          "output_type": "stream",
          "text": [
            "100%|██████████| 20/20 [00:21<00:00,  1.06s/it]\n"
          ]
        },
        {
          "name": "stdout",
          "output_type": "stream",
          "text": [
            "Epoch No: 8\n",
            "Training Loss: 0.05062259463593364\n",
            " Training Accuracy: 0.9900000095367432 (Top-1)\t  0.9998000264167786 (Top-5)\n"
          ]
        },
        {
          "name": "stderr",
          "output_type": "stream",
          "text": [
            "100%|██████████| 40/40 [00:20<00:00,  1.96it/s]\n"
          ]
        },
        {
          "name": "stdout",
          "output_type": "stream",
          "text": [
            "Validation Loss: 0.2759408872574568\n",
            "Validation Accuracy: 0.906499981880188 (Top-1)\t  0.9979000091552734 (Top-5)\n"
          ]
        },
        {
          "name": "stderr",
          "output_type": "stream",
          "text": [
            "100%|██████████| 20/20 [00:21<00:00,  1.07s/it]\n"
          ]
        },
        {
          "name": "stdout",
          "output_type": "stream",
          "text": [
            "Epoch No: 9\n",
            "Training Loss: 0.034162942226976155\n",
            " Training Accuracy: 0.9947999715805054 (Top-1)\t  1.0 (Top-5)\n"
          ]
        },
        {
          "name": "stderr",
          "output_type": "stream",
          "text": [
            "100%|██████████| 40/40 [00:20<00:00,  1.92it/s]\n"
          ]
        },
        {
          "name": "stdout",
          "output_type": "stream",
          "text": [
            "Validation Loss: 0.28473307061940434\n",
            "Validation Accuracy: 0.9059000015258789 (Top-1)\t  0.9980000257492065 (Top-5)\n"
          ]
        },
        {
          "name": "stderr",
          "output_type": "stream",
          "text": [
            "100%|██████████| 20/20 [00:21<00:00,  1.09s/it]\n"
          ]
        },
        {
          "name": "stdout",
          "output_type": "stream",
          "text": [
            "Epoch No: 10\n",
            "Training Loss: 0.02701756516471505\n",
            " Training Accuracy: 0.995199978351593 (Top-1)\t  1.0 (Top-5)\n"
          ]
        },
        {
          "name": "stderr",
          "output_type": "stream",
          "text": [
            "100%|██████████| 40/40 [00:21<00:00,  1.89it/s]"
          ]
        },
        {
          "name": "stdout",
          "output_type": "stream",
          "text": [
            "Validation Loss: 0.27277208073064685\n",
            "Validation Accuracy: 0.9089000225067139 (Top-1)\t  0.9980999827384949 (Top-5)\n"
          ]
        },
        {
          "name": "stderr",
          "output_type": "stream",
          "text": [
            "\n"
          ]
        }
      ],
      "source": [
        "# This variable will be used to save the per-epoch validation accuracy\n",
        "layers_val_acc = list()\n",
        "# This variable will be used to save the per-epoch training loss\n",
        "layers_train_loss = list()\n",
        "\n",
        "# Define the model\n",
        "model = DLModel(num_classes=num_classes, pretrained=True, num_unfreeze_layers=21, num_heads=1).to(device)\n",
        "model.configure_optimizers(lr=lr, momentum=momentum, max_epochs=num_epochs)\n",
        "\n",
        "# Start the training loop\n",
        "for epoch in range(num_epochs):\n",
        "    # This is the training cycle\n",
        "    model.train()\n",
        "    avg_loss = 0\n",
        "    # Iterate over each batch and update the model\n",
        "    for x, y in tqdm(train_loader, total=len(train_loader)):\n",
        "        x, y = x.to(device), y.to(device)\n",
        "        avg_loss+= model.training_step(x, y)\n",
        "    avg_loss/=len(train_loader)\n",
        "    layers_train_loss.append(avg_loss)\n",
        "    acc1, acc5 = model.on_training_epoch_end(avg_loss, epoch)\n",
        "\n",
        "    # This is the validation cycle\n",
        "    model.eval()\n",
        "    avg_loss = 0\n",
        "    # Iterate over each batch and get the predictions\n",
        "    for x, y in tqdm(val_loader, total=len(val_loader)):\n",
        "        x, y = x.to(device), y.to(device)\n",
        "        avg_loss+= model.validation_step(x, y)\n",
        "    avg_loss/=len(val_loader)\n",
        "    acc1, acc5 = model.on_validation_epoch_end(avg_loss, epoch)\n",
        "    layers_val_acc.append(acc1)\n",
        "\n",
        "    # Finally reset the metrics before going on to the next epoch\n",
        "    model.reset_metrics()"
      ]
    },
    {
      "cell_type": "markdown",
      "metadata": {
        "id": "bYdejdsKq9-9"
      },
      "source": [
        "# Training by training the heads only"
      ]
    },
    {
      "cell_type": "code",
      "execution_count": null,
      "metadata": {
        "id": "p41s7jFhxvYV",
        "outputId": "329ff4fd-0425-475d-a410-7caf31e468b3"
      },
      "outputs": [
        {
          "name": "stderr",
          "output_type": "stream",
          "text": [
            "100%|██████████| 20/20 [00:21<00:00,  1.09s/it]\n"
          ]
        },
        {
          "name": "stdout",
          "output_type": "stream",
          "text": [
            "Epoch No: 1\n",
            "Training Loss: 2.224644327163696\n",
            " Training Accuracy: 0.30140000581741333 (Top-1)\t  0.7608000040054321 (Top-5)\n"
          ]
        },
        {
          "name": "stderr",
          "output_type": "stream",
          "text": [
            "100%|██████████| 40/40 [00:23<00:00,  1.69it/s]\n"
          ]
        },
        {
          "name": "stdout",
          "output_type": "stream",
          "text": [
            "Validation Loss: 2.0197146952152254\n",
            "Validation Accuracy: 0.6373999714851379 (Top-1)\t  0.946399986743927 (Top-5)\n"
          ]
        },
        {
          "name": "stderr",
          "output_type": "stream",
          "text": [
            "100%|██████████| 20/20 [00:23<00:00,  1.19s/it]\n"
          ]
        },
        {
          "name": "stdout",
          "output_type": "stream",
          "text": [
            "Epoch No: 2\n",
            "Training Loss: 1.5086326599121094\n",
            " Training Accuracy: 0.6376000046730042 (Top-1)\t  0.9702000021934509 (Top-5)\n"
          ]
        },
        {
          "name": "stderr",
          "output_type": "stream",
          "text": [
            "100%|██████████| 40/40 [00:24<00:00,  1.66it/s]\n"
          ]
        },
        {
          "name": "stdout",
          "output_type": "stream",
          "text": [
            "Validation Loss: 0.9666254356503486\n",
            "Validation Accuracy: 0.6679999828338623 (Top-1)\t  0.9790999889373779 (Top-5)\n"
          ]
        },
        {
          "name": "stderr",
          "output_type": "stream",
          "text": [
            "100%|██████████| 20/20 [00:23<00:00,  1.15s/it]\n"
          ]
        },
        {
          "name": "stdout",
          "output_type": "stream",
          "text": [
            "Epoch No: 3\n",
            "Training Loss: 0.7208898797631264\n",
            " Training Accuracy: 0.7494000196456909 (Top-1)\t  0.9894000291824341 (Top-5)\n"
          ]
        },
        {
          "name": "stderr",
          "output_type": "stream",
          "text": [
            "100%|██████████| 40/40 [00:23<00:00,  1.68it/s]\n"
          ]
        },
        {
          "name": "stdout",
          "output_type": "stream",
          "text": [
            "Validation Loss: 0.711945441365242\n",
            "Validation Accuracy: 0.7494000196456909 (Top-1)\t  0.9853000044822693 (Top-5)\n"
          ]
        },
        {
          "name": "stderr",
          "output_type": "stream",
          "text": [
            "100%|██████████| 20/20 [00:22<00:00,  1.13s/it]\n"
          ]
        },
        {
          "name": "stdout",
          "output_type": "stream",
          "text": [
            "Epoch No: 4\n",
            "Training Loss: 0.41166244000196456\n",
            " Training Accuracy: 0.8564000129699707 (Top-1)\t  0.9968000054359436 (Top-5)\n"
          ]
        },
        {
          "name": "stderr",
          "output_type": "stream",
          "text": [
            "100%|██████████| 40/40 [00:23<00:00,  1.67it/s]\n"
          ]
        },
        {
          "name": "stdout",
          "output_type": "stream",
          "text": [
            "Validation Loss: 0.525239459425211\n",
            "Validation Accuracy: 0.8147000074386597 (Top-1)\t  0.9925000071525574 (Top-5)\n"
          ]
        },
        {
          "name": "stderr",
          "output_type": "stream",
          "text": [
            "100%|██████████| 20/20 [00:23<00:00,  1.20s/it]\n"
          ]
        },
        {
          "name": "stdout",
          "output_type": "stream",
          "text": [
            "Epoch No: 5\n",
            "Training Loss: 0.2628731966018677\n",
            " Training Accuracy: 0.9106000065803528 (Top-1)\t  0.9987999796867371 (Top-5)\n"
          ]
        },
        {
          "name": "stderr",
          "output_type": "stream",
          "text": [
            "100%|██████████| 40/40 [00:23<00:00,  1.69it/s]\n"
          ]
        },
        {
          "name": "stdout",
          "output_type": "stream",
          "text": [
            "Validation Loss: 0.39215565398335456\n",
            "Validation Accuracy: 0.8640000224113464 (Top-1)\t  0.996399998664856 (Top-5)\n"
          ]
        },
        {
          "name": "stderr",
          "output_type": "stream",
          "text": [
            "100%|██████████| 20/20 [00:22<00:00,  1.12s/it]\n"
          ]
        },
        {
          "name": "stdout",
          "output_type": "stream",
          "text": [
            "Epoch No: 6\n",
            "Training Loss: 0.17728603035211563\n",
            " Training Accuracy: 0.9408000111579895 (Top-1)\t  0.9994000196456909 (Top-5)\n"
          ]
        },
        {
          "name": "stderr",
          "output_type": "stream",
          "text": [
            "100%|██████████| 40/40 [00:23<00:00,  1.69it/s]\n"
          ]
        },
        {
          "name": "stdout",
          "output_type": "stream",
          "text": [
            "Validation Loss: 0.33365477360785006\n",
            "Validation Accuracy: 0.8866000175476074 (Top-1)\t  0.9968000054359436 (Top-5)\n"
          ]
        },
        {
          "name": "stderr",
          "output_type": "stream",
          "text": [
            "100%|██████████| 20/20 [00:22<00:00,  1.11s/it]\n"
          ]
        },
        {
          "name": "stdout",
          "output_type": "stream",
          "text": [
            "Epoch No: 7\n",
            "Training Loss: 0.12600357010960578\n",
            " Training Accuracy: 0.9603999853134155 (Top-1)\t  0.9995999932289124 (Top-5)\n"
          ]
        },
        {
          "name": "stderr",
          "output_type": "stream",
          "text": [
            "100%|██████████| 40/40 [00:24<00:00,  1.66it/s]\n"
          ]
        },
        {
          "name": "stdout",
          "output_type": "stream",
          "text": [
            "Validation Loss: 0.3109802894294262\n",
            "Validation Accuracy: 0.8948000073432922 (Top-1)\t  0.9973000288009644 (Top-5)\n"
          ]
        },
        {
          "name": "stderr",
          "output_type": "stream",
          "text": [
            "100%|██████████| 20/20 [00:22<00:00,  1.14s/it]\n"
          ]
        },
        {
          "name": "stdout",
          "output_type": "stream",
          "text": [
            "Epoch No: 8\n",
            "Training Loss: 0.07797902543097734\n",
            " Training Accuracy: 0.9746000170707703 (Top-1)\t  1.0 (Top-5)\n"
          ]
        },
        {
          "name": "stderr",
          "output_type": "stream",
          "text": [
            "100%|██████████| 40/40 [00:23<00:00,  1.69it/s]\n"
          ]
        },
        {
          "name": "stdout",
          "output_type": "stream",
          "text": [
            "Validation Loss: 0.350062757357955\n",
            "Validation Accuracy: 0.8845000267028809 (Top-1)\t  0.9970999956130981 (Top-5)\n"
          ]
        },
        {
          "name": "stderr",
          "output_type": "stream",
          "text": [
            "100%|██████████| 20/20 [00:25<00:00,  1.29s/it]\n"
          ]
        },
        {
          "name": "stdout",
          "output_type": "stream",
          "text": [
            "Epoch No: 9\n",
            "Training Loss: 0.06434456519782543\n",
            " Training Accuracy: 0.9811999797821045 (Top-1)\t  1.0 (Top-5)\n"
          ]
        },
        {
          "name": "stderr",
          "output_type": "stream",
          "text": [
            "100%|██████████| 40/40 [00:24<00:00,  1.63it/s]\n"
          ]
        },
        {
          "name": "stdout",
          "output_type": "stream",
          "text": [
            "Validation Loss: 0.41911671236157416\n",
            "Validation Accuracy: 0.8820000290870667 (Top-1)\t  0.9929999709129333 (Top-5)\n"
          ]
        },
        {
          "name": "stderr",
          "output_type": "stream",
          "text": [
            "100%|██████████| 20/20 [00:25<00:00,  1.25s/it]\n"
          ]
        },
        {
          "name": "stdout",
          "output_type": "stream",
          "text": [
            "Epoch No: 10\n",
            "Training Loss: 0.04731239918619394\n",
            " Training Accuracy: 0.9861999750137329 (Top-1)\t  1.0 (Top-5)\n"
          ]
        },
        {
          "name": "stderr",
          "output_type": "stream",
          "text": [
            "100%|██████████| 40/40 [00:24<00:00,  1.66it/s]"
          ]
        },
        {
          "name": "stdout",
          "output_type": "stream",
          "text": [
            "Validation Loss: 0.34800203144550323\n",
            "Validation Accuracy: 0.896399974822998 (Top-1)\t  0.9976000189781189 (Top-5)\n"
          ]
        },
        {
          "name": "stderr",
          "output_type": "stream",
          "text": [
            "\n"
          ]
        }
      ],
      "source": [
        "# This variable will be used to save the per-epoch validation accuracy\n",
        "head_val_acc = list()\n",
        "# This variable will be used to save the per-epoch training loss\n",
        "head_train_loss = list()\n",
        "\n",
        "# Define the model\n",
        "model = DLModel(num_classes=num_classes, pretrained=True, num_unfreeze_layers=0, num_heads=5).to(device)\n",
        "model.configure_optimizers(lr=lr, momentum=momentum, max_epochs=num_epochs)\n",
        "\n",
        "# Start the training loop\n",
        "for epoch in range(num_epochs):\n",
        "    # This is the training cycle\n",
        "    model.train()\n",
        "    avg_loss = 0\n",
        "    # Iterate over each batch and update the model\n",
        "    for x, y in tqdm(train_loader, total=len(train_loader)):\n",
        "        x, y = x.to(device), y.to(device)\n",
        "        avg_loss+= model.training_step(x, y)\n",
        "    avg_loss/=len(train_loader)\n",
        "    head_train_loss.append(avg_loss)\n",
        "    acc1, acc5 = model.on_training_epoch_end(avg_loss, epoch)\n",
        "\n",
        "    # This is the validation cycle\n",
        "    model.eval()\n",
        "    avg_loss = 0\n",
        "    # Iterate over each batch and get the predictions\n",
        "    for x, y in tqdm(val_loader, total=len(val_loader)):\n",
        "        x, y = x.to(device), y.to(device)\n",
        "        avg_loss+= model.validation_step(x, y)\n",
        "    avg_loss/=len(val_loader)\n",
        "    acc1, acc5 = model.on_validation_epoch_end(avg_loss, epoch)\n",
        "    head_val_acc.append(acc1)\n",
        "\n",
        "    # Finally reset the metrics before going on to the next epoch\n",
        "    model.reset_metrics()"
      ]
    },
    {
      "cell_type": "markdown",
      "metadata": {
        "id": "PgBIgKQ8rxZu"
      },
      "source": [
        "# Comparisons\n",
        "Now that we have evaluated the models for two different datasets, let us compare them\n",
        "We expect that the performance of ResNet18 on MNIST should be considerably worse than CIFAR10 due to reduced domain adaptability"
      ]
    },
    {
      "cell_type": "code",
      "execution_count": null,
      "metadata": {
        "id": "_hvYlCTrR-Xy",
        "outputId": "96e42cc1-ad33-4a52-92ce-e34cc62cbfe3"
      },
      "outputs": [
        {
          "data": {
            "image/png": "[encoded data removed]",
            "text/plain": [
              "<Figure size 640x480 with 1 Axes>"
            ]
          },
          "metadata": {},
          "output_type": "display_data"
        },
        {
          "data": {
            "image/png": "[encoded data removed]",
            "text/plain": [
              "<Figure size 640x480 with 1 Axes>"
            ]
          },
          "metadata": {},
          "output_type": "display_data"
        }
      ],
      "source": [
        "# Comparing the Training loss per epoch\n",
        "sns.lineplot(x=np.arange(len(layers_train_loss)), y=layers_train_loss, label=\"Layers\")\n",
        "sns.lineplot(x=np.arange(len(head_train_loss)), y=head_train_loss, label=\"Head\")\n",
        "plt.xlabel(\"Epochs\")\n",
        "plt.ylabel(\"Training Loss\")\n",
        "sns.despine()\n",
        "plt.title(\"Training Loss Comparison\")\n",
        "plt.show()\n",
        "plt.close()\n",
        "\n",
        "# Comparing the validation Accuracies per epoch\n",
        "sns.lineplot(x=np.arange(len(layers_val_acc)), y=layers_val_acc, label=\"Layers\")\n",
        "sns.lineplot(x=np.arange(len(head_val_acc)), y=head_val_acc, label=\"Head\")\n",
        "plt.xlabel(\"Epochs\")\n",
        "plt.ylabel(\"Validation Accuracy\")\n",
        "sns.despine()\n",
        "plt.title(\"Validation Accuracy Comparison\")\n",
        "plt.show()"
      ]
    },
    {
      "cell_type": "code",
      "execution_count": null,
      "metadata": {
        "id": "rDhW18zphOFm"
      },
      "outputs": [],
      "source": []
    }
  ],
  "metadata": {
    "accelerator": "TPU",
    "colab": {
      "gpuType": "V28",
      "provenance": [],
      "include_colab_link": true
    },
    "kernelspec": {
      "display_name": "Python 3",
      "name": "python3"
    },
    "language_info": {
      "codemirror_mode": {
        "name": "ipython",
        "version": 3
      },
      "file_extension": ".py",
      "mimetype": "text/x-python",
      "name": "python",
      "nbconvert_exporter": "python",
      "pygments_lexer": "ipython3",
      "version": "3.10.13"
    }
  },
  "nbformat": 4,
  "nbformat_minor": 0
}