{
  "cells": [
    {
      "cell_type": "markdown",
      "metadata": {
        "origin_pos": 0,
        "id": "xnK4tDiBjW_x"
      },
      "source": [
        "#  Preliminaries\n",
        "\n",
        "To get started with deep learning,\n",
        "we will need to develop a few basic skills.\n",
        "All machine learning is concerned\n",
        "with extracting information from data.\n",
        "So we will begin by learning the practical skills\n",
        "for storing, manipulating, and preprocessing data.\n",
        "\n",
        "Moreover, machine learning typically requires\n",
        "working with large datasets, which we can think of as tables,\n",
        "where the rows correspond to examples\n",
        "and the columns correspond to attributes.\n",
        "Linear algebra gives us a powerful set of techniques\n",
        "for working with tabular data.\n",
        "We will not go too far into the weeds but rather focus on the basic\n",
        "of matrix operations and their implementation.\n",
        "\n",
        "Additionally, deep learning is all about optimization.\n",
        "We have a model with some parameters and\n",
        "we want to find those that fit our data *the best*.\n",
        "Determining which way to move each parameter at each step of an algorithm\n",
        "requires a little bit of calculus, which will be briefly introduced.\n",
        "Fortunately, the `autograd` package automatically computes differentiation for us,\n",
        "and we will cover it next.\n",
        "\n",
        "Next, machine learning is concerned with making predictions:\n",
        "what is the likely value of some unknown attribute,\n",
        "given the information that we observe?\n",
        "To reason rigorously under uncertainty\n",
        "we will need to invoke the language of probability.\n",
        "\n",
        "In the end, the official documentation provides\n",
        "plenty of descriptions and examples that are beyond this class note.\n",
        "To conclude the chapter, we will show you how to look up documentation for\n",
        "the needed information.\n",
        "\n",
        "This class note has kept the mathematical content to the minimum necessary\n",
        "to get a proper understanding of deep learning.\n",
        "However, it does not mean that\n",
        "this class note is mathematics free.\n",
        "Thus, this class note provides a rapid introduction to\n",
        "basic and frequently-used mathematics to allow anyone to understand\n",
        "at least *most* of the mathematical content of the note.\n",
        "\n"
      ]
    }
  ],
  "metadata": {
    "language_info": {
      "name": "python"
    },
    "colab": {
      "name": "Preliminaries_Deep Learning.ipynb",
      "provenance": []
    }
  },
  "nbformat": 4,
  "nbformat_minor": 0
}