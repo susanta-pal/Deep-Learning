{
  "cells": [
    {
      "cell_type": "markdown",
      "metadata": {
        "id": "view-in-github",
        "colab_type": "text"
      },
      "source": [
        "<a href=\"https://colab.research.google.com/github/susanta-pal/Deep-Learning/blob/main/FineTuningAndTrainingFromScratch.ipynb\" target=\"_parent\"><img src=\"https://colab.research.google.com/assets/colab-badge.svg\" alt=\"Open In Colab\"/></a>"
      ]
    },
    {
      "cell_type": "markdown",
      "metadata": {
        "id": "rrkGKlA3h63l"
      },
      "source": [
        "# Import all the necessary libraries"
      ]
    },
    {
      "cell_type": "code",
      "execution_count": null,
      "metadata": {
        "id": "tDOqspXDgRsF"
      },
      "outputs": [],
      "source": [
        "import torch\n",
        "import torch.utils.data\n",
        "from torchvision import transforms\n",
        "from torchvision.datasets import CIFAR100\n",
        "import numpy as np\n",
        "from torchvision.models import resnet18, ResNet18_Weights\n",
        "from tqdm import tqdm\n",
        "# !pip install torchmetrics\n",
        "from torchmetrics import Accuracy\n",
        "import matplotlib.pyplot as plt\n",
        "import seaborn as sns"
      ]
    },
    {
      "cell_type": "markdown",
      "metadata": {
        "id": "5SaLVZcNiXPF"
      },
      "source": [
        "# Setup the Data Class (CIFAR100)\n",
        "Always create classes for major modules. This will make your project modular, allowing you to switch different, in this case, datasets and test your model.\n",
        "Out of all the advantages of this coding habit, one advantage of creating multiple objecs of the data class is that it allows you to perform ensemble learning."
      ]
    },
    {
      "cell_type": "code",
      "execution_count": null,
      "metadata": {
        "id": "Og0SUbY9iW40"
      },
      "outputs": [],
      "source": [
        "class DataModule():\n",
        "    def __init__(self, batch_size):\n",
        "        super().__init__()\n",
        "        self.batch_size = batch_size\n",
        "        # We define some augmentations that we would like to apply during training\n",
        "        self.train_transform = transforms.Compose([\n",
        "            transforms.Resize(256),\n",
        "            transforms.RandomCrop(224, 4),\n",
        "            transforms.RandomHorizontalFlip(),\n",
        "            transforms.ToTensor(),\n",
        "            transforms.Normalize((0.485, 0.456, 0.406), (0.229, 0.224, 0.225)),\n",
        "        ])\n",
        "        # During validation we need to only normalize and resize\n",
        "        self.val_transform = transforms.Compose([\n",
        "            transforms.Resize(224),\n",
        "            transforms.ToTensor(),\n",
        "            transforms.Normalize((0.485, 0.456, 0.406), (0.229, 0.224, 0.225)),\n",
        "        ])\n",
        "\n",
        "    # This function sets up our datasets\n",
        "    # which includes downloading and applying the augmentations\n",
        "    def prepare_data(self):\n",
        "        self.train_set = CIFAR100(root='./data', train=True, download=True, transform=self.train_transform)\n",
        "        self.val_set = CIFAR100(root='./data', train=False, download=True, transform=self.val_transform)\n",
        "\n",
        "    # This functions sets up the data loaders\n",
        "    def setup(self):\n",
        "        self.train_data_loader = torch.utils.data.DataLoader(self.train_set, batch_size=self.batch_size, shuffle=True)\n",
        "        self.val_data_loader = torch.utils.data.DataLoader(self.val_set, batch_size=self.batch_size, shuffle=False)\n",
        "\n",
        "    # This is simply a getter function for the training data loader\n",
        "    def train_dataloader(self, prune=True):\n",
        "        return self.train_data_loader\n",
        "\n",
        "    # This is simply a getter function for the validation data loader\n",
        "    def val_dataloader(self):\n",
        "        return self.val_data_loader"
      ]
    },
    {
      "cell_type": "markdown",
      "metadata": {
        "id": "A7HcA1kVFxhv"
      },
      "source": [
        "# Setup the Model Class\n",
        "Here we will define the model, its forward pass and its behaviour during each training/validation iteration"
      ]
    },
    {
      "cell_type": "code",
      "execution_count": null,
      "metadata": {
        "id": "AePVw9KZFf_N"
      },
      "outputs": [],
      "source": [
        "class DLModel(torch.nn.Module):\n",
        "    def __init__(self, num_classes, pretrained=True, num_unfreeze_layers=0):\n",
        "        super().__init__()\n",
        "        # If you want to use the imagenet pretrained weights\n",
        "        if pretrained:\n",
        "            self.backbone = resnet18(weights=ResNet18_Weights.DEFAULT)\n",
        "            # We freeze the entire model\n",
        "            self.backbone.requires_grad_(False)\n",
        "            # If you want to unfreeze some of the layers, then\n",
        "            if num_unfreeze_layers > 0:\n",
        "                # First find number of layers\n",
        "                num_layers = 0\n",
        "                for name, module in self.named_modules():\n",
        "                    if isinstance(module, torch.nn.Conv2d) or isinstance(module, torch.nn.Linear) or isinstance(module, torch.nn.BatchNorm2d):\n",
        "                        num_layers+=1\n",
        "                # Following which unfreeze the last set of layers\n",
        "                start_unfreezing_counter, counter = num_layers - num_unfreeze_layers, 0\n",
        "                for name, module in self.named_modules():\n",
        "                    if isinstance(module, torch.nn.Conv2d) or isinstance(module, torch.nn.Linear) or isinstance(module, torch.nn.BatchNorm2d):\n",
        "                        counter+=1\n",
        "                    if counter >= start_unfreezing_counter:\n",
        "                        module.requires_grad_(True)\n",
        "        # Otherwise just initialize the network from scratch\n",
        "        else:\n",
        "            self.backbone = resnet18(weights=None)\n",
        "            self.backbone.requires_grad_(True)\n",
        "        # The resnet model comes with a 1000 neuron final layer for the imagenet dataset\n",
        "        self.backbone.fc = torch.nn.Sequential(\n",
        "            torch.nn.Linear(512, num_classes)\n",
        "        )\n",
        "        self.backbone.fc.requires_grad_(True)\n",
        "        # for name, module in self.named_modules():\n",
        "        #     print(name, all(param.requires_grad for param in module.parameters()))\n",
        "        # Define the objective function\n",
        "        self.criterion = torch.nn.CrossEntropyLoss()\n",
        "        # Define the metrics\n",
        "        self.train_acc1, self.val_acc1 = Accuracy(task=\"multiclass\", num_classes=num_classes), Accuracy(task=\"multiclass\", num_classes=num_classes)\n",
        "        self.train_acc5, self.val_acc5 = Accuracy(task=\"multiclass\", num_classes=num_classes, top_k=5), Accuracy(task=\"multiclass\", num_classes=num_classes, top_k=5)\n",
        "\n",
        "    # This function sets up the optimizer and scheduler that we will use\n",
        "    def configure_optimizers(self, lr, momentum, max_epochs):\n",
        "        self.optimizer = torch.optim.SGD(self.parameters(), lr=lr, momentum=momentum)\n",
        "        self.scheduler = torch.optim.lr_scheduler.CosineAnnealingLR(self.optimizer, T_max=max_epochs)\n",
        "\n",
        "    # This defines the behaviour of our model during the forward pass\n",
        "    # Based on the defined behaviour, PyTorch sets up the backward pass\n",
        "    def forward(self, x):\n",
        "        out = self.backbone(x)\n",
        "        return out\n",
        "\n",
        "    # This function describes model behaviour per iteration during training\n",
        "    def training_step(self, x, y):\n",
        "        self.optimizer.zero_grad()\n",
        "        preds = self.forward(x)\n",
        "        self.train_acc1.update(preds, y)\n",
        "        self.train_acc5.update(preds, y)\n",
        "        loss = self.criterion(preds, y)\n",
        "        loss.backward()\n",
        "        self.optimizer.step()\n",
        "        return loss.item()\n",
        "\n",
        "    # Once the epoch is complete, we can call this function for inspecting the model's performance\n",
        "    def on_training_epoch_end(self, loss, epoch):\n",
        "        acc1, acc5 = self.train_acc1.compute().item(), self.train_acc5.compute().item()\n",
        "        print(f\"Epoch No: {epoch+1}\\nTraining Loss: {loss}\\n Training Accuracy: {acc1} (Top-1)\\t  {acc5} (Top-5)\")\n",
        "        return acc1, acc5\n",
        "\n",
        "    # This function describes model behaviour per iteration during validation\n",
        "    def validation_step(self, x, y):\n",
        "        preds = self.forward(x)\n",
        "        self.val_acc1.update(preds, y)\n",
        "        self.val_acc5.update(preds, y)\n",
        "        loss = self.criterion(preds, y)\n",
        "        return loss.item()\n",
        "\n",
        "    # Once the validation iterations are complete, we can call this function for inspecting the model's performance\n",
        "    def on_validation_epoch_end(self, loss, epoch):\n",
        "        acc1, acc5 = self.val_acc1.compute().item(), self.val_acc5.compute().item()\n",
        "        print(f\"Validation Loss: {loss}\\nValidation Accuracy: {acc1} (Top-1)\\t  {acc5} (Top-5)\")\n",
        "        return acc1, acc5\n",
        "\n",
        "    # This function resets the metrics so that new results can be calculated for the next epoch\n",
        "    def reset_metrics(self):\n",
        "        self.train_acc1.reset(), self.train_acc5.reset()\n",
        "        self.val_acc1.reset(), self.val_acc5.reset()"
      ]
    },
    {
      "cell_type": "markdown",
      "metadata": {
        "id": "VaPzMZOIebux"
      },
      "source": [
        "# Putting it all together\n",
        "We first define some static and global variables"
      ]
    },
    {
      "cell_type": "code",
      "execution_count": null,
      "metadata": {
        "colab": {
          "base_uri": "https://localhost:8080/"
        },
        "id": "wnWYGv5BeYkj",
        "outputId": "bfb0ece4-e83d-4b1a-93a7-e5220f3dda07"
      },
      "outputs": [
        {
          "name": "stdout",
          "output_type": "stream",
          "text": [
            "Files already downloaded and verified\n",
            "Files already downloaded and verified\n"
          ]
        }
      ],
      "source": [
        "# First define some static variables\n",
        "num_classes = 100\n",
        "num_epochs = 10\n",
        "batch_size = 128\n",
        "# Fine-tuning and training from scratch require different sets of learning rates\n",
        "lr_finetune, lr_scratch = 0.001, 0.1\n",
        "momentum = 0.9\n",
        "device = torch.device(\"cuda\")\n",
        "\n",
        "\n",
        "# Define the data\n",
        "data_module = DataModule(batch_size=batch_size)\n",
        "data_module.prepare_data()\n",
        "data_module.setup()\n",
        "train_loader, val_loader = data_module.train_dataloader(), data_module.val_dataloader()"
      ]
    },
    {
      "cell_type": "markdown",
      "metadata": {
        "id": "NXhzCNTppViM"
      },
      "source": [
        "# Shallow Fine-tuning\n",
        "We first take a look at shallow fine-tuning (training only the final layer and keeping the remaining model frozen)"
      ]
    },
    {
      "cell_type": "code",
      "execution_count": null,
      "metadata": {
        "colab": {
          "base_uri": "https://localhost:8080/"
        },
        "id": "i0QyXgzjknBz",
        "outputId": "a647ad65-14b9-494b-e35f-4e6d2a6db04f"
      },
      "outputs": [
        {
          "name": "stderr",
          "output_type": "stream",
          "text": [
            "100%|██████████| 391/391 [02:00<00:00,  3.26it/s]\n"
          ]
        },
        {
          "name": "stdout",
          "output_type": "stream",
          "text": [
            "Epoch No: 1\n",
            "Training Loss: 4.143537996979931\n",
            " Training Accuracy: 0.12963999807834625 (Top-1)\t  0.32269999384880066 (Top-5)\n"
          ]
        },
        {
          "name": "stderr",
          "output_type": "stream",
          "text": [
            "100%|██████████| 79/79 [00:21<00:00,  3.62it/s]\n"
          ]
        },
        {
          "name": "stdout",
          "output_type": "stream",
          "text": [
            "Validation Loss: 3.556681482097771\n",
            "Validation Accuracy: 0.27619999647140503 (Top-1)\t  0.5841000080108643 (Top-5)\n"
          ]
        },
        {
          "name": "stderr",
          "output_type": "stream",
          "text": [
            "100%|██████████| 391/391 [02:03<00:00,  3.16it/s]\n"
          ]
        },
        {
          "name": "stdout",
          "output_type": "stream",
          "text": [
            "Epoch No: 2\n",
            "Training Loss: 3.2694397240953372\n",
            " Training Accuracy: 0.3371799886226654 (Top-1)\t  0.6553599834442139 (Top-5)\n"
          ]
        },
        {
          "name": "stderr",
          "output_type": "stream",
          "text": [
            "100%|██████████| 79/79 [00:19<00:00,  4.06it/s]\n"
          ]
        },
        {
          "name": "stdout",
          "output_type": "stream",
          "text": [
            "Validation Loss: 2.883368935766099\n",
            "Validation Accuracy: 0.4115999937057495 (Top-1)\t  0.73580002784729 (Top-5)\n"
          ]
        },
        {
          "name": "stderr",
          "output_type": "stream",
          "text": [
            "100%|██████████| 391/391 [01:52<00:00,  3.47it/s]\n"
          ]
        },
        {
          "name": "stdout",
          "output_type": "stream",
          "text": [
            "Epoch No: 3\n",
            "Training Loss: 2.772677345349051\n",
            " Training Accuracy: 0.4224199950695038 (Top-1)\t  0.740119993686676 (Top-5)\n"
          ]
        },
        {
          "name": "stderr",
          "output_type": "stream",
          "text": [
            "100%|██████████| 79/79 [00:18<00:00,  4.36it/s]\n"
          ]
        },
        {
          "name": "stdout",
          "output_type": "stream",
          "text": [
            "Validation Loss: 2.5103561697126944\n",
            "Validation Accuracy: 0.46219998598098755 (Top-1)\t  0.7674999833106995 (Top-5)\n"
          ]
        },
        {
          "name": "stderr",
          "output_type": "stream",
          "text": [
            "100%|██████████| 391/391 [02:08<00:00,  3.05it/s]\n"
          ]
        },
        {
          "name": "stdout",
          "output_type": "stream",
          "text": [
            "Epoch No: 4\n",
            "Training Loss: 2.4779353952773695\n",
            " Training Accuracy: 0.4623199999332428 (Top-1)\t  0.7717400193214417 (Top-5)\n"
          ]
        },
        {
          "name": "stderr",
          "output_type": "stream",
          "text": [
            "100%|██████████| 79/79 [00:21<00:00,  3.69it/s]\n"
          ]
        },
        {
          "name": "stdout",
          "output_type": "stream",
          "text": [
            "Validation Loss: 2.2751428779167466\n",
            "Validation Accuracy: 0.4927000105381012 (Top-1)\t  0.7882000207901001 (Top-5)\n"
          ]
        },
        {
          "name": "stderr",
          "output_type": "stream",
          "text": [
            "100%|██████████| 391/391 [02:10<00:00,  3.00it/s]\n"
          ]
        },
        {
          "name": "stdout",
          "output_type": "stream",
          "text": [
            "Epoch No: 5\n",
            "Training Loss: 2.298780562627651\n",
            " Training Accuracy: 0.48166000843048096 (Top-1)\t  0.7879999876022339 (Top-5)\n"
          ]
        },
        {
          "name": "stderr",
          "output_type": "stream",
          "text": [
            "100%|██████████| 79/79 [00:21<00:00,  3.71it/s]\n"
          ]
        },
        {
          "name": "stdout",
          "output_type": "stream",
          "text": [
            "Validation Loss: 2.123576642591742\n",
            "Validation Accuracy: 0.5070000290870667 (Top-1)\t  0.8011999726295471 (Top-5)\n"
          ]
        },
        {
          "name": "stderr",
          "output_type": "stream",
          "text": [
            "100%|██████████| 391/391 [02:01<00:00,  3.21it/s]\n"
          ]
        },
        {
          "name": "stdout",
          "output_type": "stream",
          "text": [
            "Epoch No: 6\n",
            "Training Loss: 2.161767344035761\n",
            " Training Accuracy: 0.4978199899196625 (Top-1)\t  0.8001999855041504 (Top-5)\n"
          ]
        },
        {
          "name": "stderr",
          "output_type": "stream",
          "text": [
            "100%|██████████| 79/79 [00:19<00:00,  3.97it/s]\n"
          ]
        },
        {
          "name": "stdout",
          "output_type": "stream",
          "text": [
            "Validation Loss: 2.0110215024103093\n",
            "Validation Accuracy: 0.5268999934196472 (Top-1)\t  0.8130999803543091 (Top-5)\n"
          ]
        },
        {
          "name": "stderr",
          "output_type": "stream",
          "text": [
            "100%|██████████| 391/391 [01:58<00:00,  3.29it/s]\n"
          ]
        },
        {
          "name": "stdout",
          "output_type": "stream",
          "text": [
            "Epoch No: 7\n",
            "Training Loss: 2.0669423036868007\n",
            " Training Accuracy: 0.50764000415802 (Top-1)\t  0.8067399859428406 (Top-5)\n"
          ]
        },
        {
          "name": "stderr",
          "output_type": "stream",
          "text": [
            "100%|██████████| 79/79 [00:19<00:00,  4.01it/s]\n"
          ]
        },
        {
          "name": "stdout",
          "output_type": "stream",
          "text": [
            "Validation Loss: 1.9438050049769728\n",
            "Validation Accuracy: 0.5266000032424927 (Top-1)\t  0.8159999847412109 (Top-5)\n"
          ]
        },
        {
          "name": "stderr",
          "output_type": "stream",
          "text": [
            "100%|██████████| 391/391 [01:54<00:00,  3.42it/s]\n"
          ]
        },
        {
          "name": "stdout",
          "output_type": "stream",
          "text": [
            "Epoch No: 8\n",
            "Training Loss: 1.9894669598630628\n",
            " Training Accuracy: 0.51774001121521 (Top-1)\t  0.8126199841499329 (Top-5)\n"
          ]
        },
        {
          "name": "stderr",
          "output_type": "stream",
          "text": [
            "100%|██████████| 79/79 [00:19<00:00,  4.10it/s]\n"
          ]
        },
        {
          "name": "stdout",
          "output_type": "stream",
          "text": [
            "Validation Loss: 1.8833020653905748\n",
            "Validation Accuracy: 0.5351999998092651 (Top-1)\t  0.8216999769210815 (Top-5)\n"
          ]
        },
        {
          "name": "stderr",
          "output_type": "stream",
          "text": [
            "100%|██████████| 391/391 [02:00<00:00,  3.25it/s]\n"
          ]
        },
        {
          "name": "stdout",
          "output_type": "stream",
          "text": [
            "Epoch No: 9\n",
            "Training Loss: 1.9370593628310182\n",
            " Training Accuracy: 0.5234599709510803 (Top-1)\t  0.8183199763298035 (Top-5)\n"
          ]
        },
        {
          "name": "stderr",
          "output_type": "stream",
          "text": [
            "100%|██████████| 79/79 [00:19<00:00,  4.00it/s]\n"
          ]
        },
        {
          "name": "stdout",
          "output_type": "stream",
          "text": [
            "Validation Loss: 1.8374161705186096\n",
            "Validation Accuracy: 0.5378000140190125 (Top-1)\t  0.8248999714851379 (Top-5)\n"
          ]
        },
        {
          "name": "stderr",
          "output_type": "stream",
          "text": [
            "100%|██████████| 391/391 [01:59<00:00,  3.26it/s]\n"
          ]
        },
        {
          "name": "stdout",
          "output_type": "stream",
          "text": [
            "Epoch No: 10\n",
            "Training Loss: 1.8869951847569106\n",
            " Training Accuracy: 0.5290600061416626 (Top-1)\t  0.8228800296783447 (Top-5)\n"
          ]
        },
        {
          "name": "stderr",
          "output_type": "stream",
          "text": [
            "100%|██████████| 79/79 [00:19<00:00,  4.00it/s]"
          ]
        },
        {
          "name": "stdout",
          "output_type": "stream",
          "text": [
            "Validation Loss: 1.7904960716827005\n",
            "Validation Accuracy: 0.5465999841690063 (Top-1)\t  0.8305000066757202 (Top-5)\n"
          ]
        },
        {
          "name": "stderr",
          "output_type": "stream",
          "text": [
            "\n"
          ]
        }
      ],
      "source": [
        "# This variable will be used to save the per-epoch validation accuracy\n",
        "shallow_finetuning_val_acc = list()\n",
        "# This variable will be used to save the per-epoch training loss\n",
        "shallow_finetuning_train_loss = list()\n",
        "\n",
        "# Define the model\n",
        "model = DLModel(num_classes=num_classes, pretrained=True, num_unfreeze_layers=0).to(device)\n",
        "model.configure_optimizers(lr=lr_finetune, momentum=momentum, max_epochs=num_epochs)\n",
        "\n",
        "# Start the training loop\n",
        "for epoch in range(num_epochs):\n",
        "    # This is the training cycle\n",
        "    model.train()\n",
        "    avg_loss = 0\n",
        "    # Iterate over each batch and update the model\n",
        "    for x, y in tqdm(train_loader, total=len(train_loader)):\n",
        "        x, y = x.to(device), y.to(device)\n",
        "        avg_loss+= model.training_step(x, y)\n",
        "    avg_loss/=len(train_loader)\n",
        "    shallow_finetuning_train_loss.append(avg_loss)\n",
        "    acc1, acc5 = model.on_training_epoch_end(avg_loss, epoch)\n",
        "\n",
        "    # This is the validation cycle\n",
        "    model.eval()\n",
        "    avg_loss = 0\n",
        "    # Iterate over each batch and get the predictions\n",
        "    for x, y in tqdm(val_loader, total=len(val_loader)):\n",
        "        x, y = x.to(device), y.to(device)\n",
        "        avg_loss+= model.validation_step(x, y)\n",
        "    avg_loss/=len(val_loader)\n",
        "    acc1, acc5 = model.on_validation_epoch_end(avg_loss, epoch)\n",
        "    shallow_finetuning_val_acc.append(acc1)\n",
        "\n",
        "    # Finally reset the metrics before going on to the next epoch\n",
        "    model.reset_metrics()"
      ]
    },
    {
      "cell_type": "markdown",
      "metadata": {
        "id": "bYdejdsKq9-9"
      },
      "source": [
        "# Deep Fine-tuning\n",
        "We now take a look at deep fine-tuning (training some the final layers while keeping the remaining layers frozen)"
      ]
    },
    {
      "cell_type": "code",
      "execution_count": null,
      "metadata": {
        "id": "p41s7jFhxvYV",
        "outputId": "6d7a40cb-e825-40b9-dc02-d5b9280e8c27"
      },
      "outputs": [
        {
          "name": "stderr",
          "output_type": "stream",
          "text": [
            "100%|██████████| 391/391 [03:00<00:00,  2.17it/s]\n"
          ]
        },
        {
          "name": "stdout",
          "output_type": "stream",
          "text": [
            "Epoch No: 1\n",
            "Training Loss: 3.360540188791807\n",
            " Training Accuracy: 0.27649998664855957 (Top-1)\t  0.5421199798583984 (Top-5)\n"
          ]
        },
        {
          "name": "stderr",
          "output_type": "stream",
          "text": [
            "100%|██████████| 79/79 [00:18<00:00,  4.36it/s]\n"
          ]
        },
        {
          "name": "stdout",
          "output_type": "stream",
          "text": [
            "Validation Loss: 2.1749073055726065\n",
            "Validation Accuracy: 0.49300000071525574 (Top-1)\t  0.8090999722480774 (Top-5)\n"
          ]
        },
        {
          "name": "stderr",
          "output_type": "stream",
          "text": [
            "100%|██████████| 391/391 [02:35<00:00,  2.51it/s]\n"
          ]
        },
        {
          "name": "stdout",
          "output_type": "stream",
          "text": [
            "Epoch No: 2\n",
            "Training Loss: 1.815080723189332\n",
            " Training Accuracy: 0.5642399787902832 (Top-1)\t  0.8628600239753723 (Top-5)\n"
          ]
        },
        {
          "name": "stderr",
          "output_type": "stream",
          "text": [
            "100%|██████████| 79/79 [00:17<00:00,  4.49it/s]\n"
          ]
        },
        {
          "name": "stdout",
          "output_type": "stream",
          "text": [
            "Validation Loss: 1.4513924921615213\n",
            "Validation Accuracy: 0.6290000081062317 (Top-1)\t  0.897599995136261 (Top-5)\n"
          ]
        },
        {
          "name": "stderr",
          "output_type": "stream",
          "text": [
            "100%|██████████| 391/391 [02:57<00:00,  2.21it/s]\n"
          ]
        },
        {
          "name": "stdout",
          "output_type": "stream",
          "text": [
            "Epoch No: 3\n",
            "Training Loss: 1.3366360300032378\n",
            " Training Accuracy: 0.657260000705719 (Top-1)\t  0.9146999716758728 (Top-5)\n"
          ]
        },
        {
          "name": "stderr",
          "output_type": "stream",
          "text": [
            "100%|██████████| 79/79 [00:19<00:00,  4.00it/s]\n"
          ]
        },
        {
          "name": "stdout",
          "output_type": "stream",
          "text": [
            "Validation Loss: 1.1674378106865702\n",
            "Validation Accuracy: 0.6820999979972839 (Top-1)\t  0.9300000071525574 (Top-5)\n"
          ]
        },
        {
          "name": "stderr",
          "output_type": "stream",
          "text": [
            "100%|██████████| 391/391 [02:47<00:00,  2.33it/s]\n"
          ]
        },
        {
          "name": "stdout",
          "output_type": "stream",
          "text": [
            "Epoch No: 4\n",
            "Training Loss: 1.1134793711135456\n",
            " Training Accuracy: 0.7025799751281738 (Top-1)\t  0.936020016670227 (Top-5)\n"
          ]
        },
        {
          "name": "stderr",
          "output_type": "stream",
          "text": [
            "100%|██████████| 79/79 [00:17<00:00,  4.53it/s]\n"
          ]
        },
        {
          "name": "stdout",
          "output_type": "stream",
          "text": [
            "Validation Loss: 1.0297166810760014\n",
            "Validation Accuracy: 0.7095999717712402 (Top-1)\t  0.9417999982833862 (Top-5)\n"
          ]
        },
        {
          "name": "stderr",
          "output_type": "stream",
          "text": [
            "100%|██████████| 391/391 [02:32<00:00,  2.57it/s]\n"
          ]
        },
        {
          "name": "stdout",
          "output_type": "stream",
          "text": [
            "Epoch No: 5\n",
            "Training Loss: 0.9675247932943847\n",
            " Training Accuracy: 0.7340400218963623 (Top-1)\t  0.9498800039291382 (Top-5)\n"
          ]
        },
        {
          "name": "stderr",
          "output_type": "stream",
          "text": [
            "100%|██████████| 79/79 [00:17<00:00,  4.52it/s]\n"
          ]
        },
        {
          "name": "stdout",
          "output_type": "stream",
          "text": [
            "Validation Loss: 0.9348241286941722\n",
            "Validation Accuracy: 0.7304999828338623 (Top-1)\t  0.95169997215271 (Top-5)\n"
          ]
        },
        {
          "name": "stderr",
          "output_type": "stream",
          "text": [
            "100%|██████████| 391/391 [02:32<00:00,  2.57it/s]\n"
          ]
        },
        {
          "name": "stdout",
          "output_type": "stream",
          "text": [
            "Epoch No: 6\n",
            "Training Loss: 0.8703568498496814\n",
            " Training Accuracy: 0.7584400177001953 (Top-1)\t  0.9576399922370911 (Top-5)\n"
          ]
        },
        {
          "name": "stderr",
          "output_type": "stream",
          "text": [
            "100%|██████████| 79/79 [00:17<00:00,  4.42it/s]\n"
          ]
        },
        {
          "name": "stdout",
          "output_type": "stream",
          "text": [
            "Validation Loss: 0.8793888786171056\n",
            "Validation Accuracy: 0.745199978351593 (Top-1)\t  0.9538999795913696 (Top-5)\n"
          ]
        },
        {
          "name": "stderr",
          "output_type": "stream",
          "text": [
            "100%|██████████| 391/391 [02:32<00:00,  2.56it/s]\n"
          ]
        },
        {
          "name": "stdout",
          "output_type": "stream",
          "text": [
            "Epoch No: 7\n",
            "Training Loss: 0.7940242700564587\n",
            " Training Accuracy: 0.7751399874687195 (Top-1)\t  0.9646999835968018 (Top-5)\n"
          ]
        },
        {
          "name": "stderr",
          "output_type": "stream",
          "text": [
            "100%|██████████| 79/79 [00:17<00:00,  4.58it/s]\n"
          ]
        },
        {
          "name": "stdout",
          "output_type": "stream",
          "text": [
            "Validation Loss: 0.8331393825856945\n",
            "Validation Accuracy: 0.7555999755859375 (Top-1)\t  0.9587000012397766 (Top-5)\n"
          ]
        },
        {
          "name": "stderr",
          "output_type": "stream",
          "text": [
            "100%|██████████| 391/391 [02:29<00:00,  2.61it/s]\n"
          ]
        },
        {
          "name": "stdout",
          "output_type": "stream",
          "text": [
            "Epoch No: 8\n",
            "Training Loss: 0.7288752303403967\n",
            " Training Accuracy: 0.7936400175094604 (Top-1)\t  0.9687399864196777 (Top-5)\n"
          ]
        },
        {
          "name": "stderr",
          "output_type": "stream",
          "text": [
            "100%|██████████| 79/79 [00:17<00:00,  4.57it/s]\n"
          ]
        },
        {
          "name": "stdout",
          "output_type": "stream",
          "text": [
            "Validation Loss: 0.8006902291804929\n",
            "Validation Accuracy: 0.7656999826431274 (Top-1)\t  0.9581999778747559 (Top-5)\n"
          ]
        },
        {
          "name": "stderr",
          "output_type": "stream",
          "text": [
            "100%|██████████| 391/391 [02:31<00:00,  2.59it/s]\n"
          ]
        },
        {
          "name": "stdout",
          "output_type": "stream",
          "text": [
            "Epoch No: 9\n",
            "Training Loss: 0.676946060355667\n",
            " Training Accuracy: 0.8054599761962891 (Top-1)\t  0.9723399877548218 (Top-5)\n"
          ]
        },
        {
          "name": "stderr",
          "output_type": "stream",
          "text": [
            "100%|██████████| 79/79 [00:17<00:00,  4.57it/s]\n"
          ]
        },
        {
          "name": "stdout",
          "output_type": "stream",
          "text": [
            "Validation Loss: 0.7742359340190887\n",
            "Validation Accuracy: 0.7716000080108643 (Top-1)\t  0.9609000086784363 (Top-5)\n"
          ]
        },
        {
          "name": "stderr",
          "output_type": "stream",
          "text": [
            "100%|██████████| 391/391 [02:34<00:00,  2.53it/s]\n"
          ]
        },
        {
          "name": "stdout",
          "output_type": "stream",
          "text": [
            "Epoch No: 10\n",
            "Training Loss: 0.6285421682135833\n",
            " Training Accuracy: 0.8198599815368652 (Top-1)\t  0.9764000177383423 (Top-5)\n"
          ]
        },
        {
          "name": "stderr",
          "output_type": "stream",
          "text": [
            "100%|██████████| 79/79 [00:17<00:00,  4.41it/s]"
          ]
        },
        {
          "name": "stdout",
          "output_type": "stream",
          "text": [
            "Validation Loss: 0.7532979461211192\n",
            "Validation Accuracy: 0.7777000069618225 (Top-1)\t  0.9632999897003174 (Top-5)\n"
          ]
        },
        {
          "name": "stderr",
          "output_type": "stream",
          "text": [
            "\n"
          ]
        }
      ],
      "source": [
        "# This variable will be used to save the per-epoch validation accuracy\n",
        "deep_finetuning_val_acc = list()\n",
        "# This variable will be used to save the per-epoch training loss\n",
        "deep_finetuning_train_loss = list()\n",
        "\n",
        "# Define the model\n",
        "model = DLModel(num_classes=num_classes, pretrained=True, num_unfreeze_layers=31).to(device)\n",
        "model.configure_optimizers(lr=lr_finetune, momentum=momentum, max_epochs=num_epochs)\n",
        "\n",
        "# Start the training loop\n",
        "for epoch in range(num_epochs):\n",
        "    # This is the training cycle\n",
        "    model.train()\n",
        "    avg_loss = 0\n",
        "    # Iterate over each batch and update the model\n",
        "    for x, y in tqdm(train_loader, total=len(train_loader)):\n",
        "        x, y = x.to(device), y.to(device)\n",
        "        avg_loss+= model.training_step(x, y)\n",
        "    avg_loss/=len(train_loader)\n",
        "    deep_finetuning_train_loss.append(avg_loss)\n",
        "    acc1, acc5 = model.on_training_epoch_end(avg_loss, epoch)\n",
        "\n",
        "    # This is the validation cycle\n",
        "    model.eval()\n",
        "    avg_loss = 0\n",
        "    # Iterate over each batch and get the predictions\n",
        "    for x, y in tqdm(val_loader, total=len(val_loader)):\n",
        "        x, y = x.to(device), y.to(device)\n",
        "        avg_loss+= model.validation_step(x, y)\n",
        "    avg_loss/=len(val_loader)\n",
        "    acc1, acc5 = model.on_validation_epoch_end(avg_loss, epoch)\n",
        "    deep_finetuning_val_acc.append(acc1)\n",
        "\n",
        "    # Finally reset the metrics before going on to the next epoch\n",
        "    model.reset_metrics()"
      ]
    },
    {
      "cell_type": "markdown",
      "metadata": {
        "id": "QRMiCI4IrWgF"
      },
      "source": [
        "# Training from Scratch\n",
        "Finally, we train the ResNet18 model from scratch on the CIFAR100 dataset"
      ]
    },
    {
      "cell_type": "code",
      "execution_count": null,
      "metadata": {
        "id": "LQkHezGTx6Pd",
        "outputId": "19ffd2dd-92aa-4ccb-9a98-d24d661a7b84"
      },
      "outputs": [
        {
          "name": "stderr",
          "output_type": "stream",
          "text": [
            "100%|██████████| 391/391 [03:15<00:00,  2.00it/s]\n"
          ]
        },
        {
          "name": "stdout",
          "output_type": "stream",
          "text": [
            "Epoch No: 1\n",
            "Training Loss: 3.9362897683897287\n",
            " Training Accuracy: 0.09390000253915787 (Top-1)\t  0.2949399948120117 (Top-5)\n"
          ]
        },
        {
          "name": "stderr",
          "output_type": "stream",
          "text": [
            "100%|██████████| 79/79 [00:19<00:00,  4.07it/s]\n"
          ]
        },
        {
          "name": "stdout",
          "output_type": "stream",
          "text": [
            "Validation Loss: 3.5744882837126526\n",
            "Validation Accuracy: 0.14990000426769257 (Top-1)\t  0.39809998869895935 (Top-5)\n"
          ]
        },
        {
          "name": "stderr",
          "output_type": "stream",
          "text": [
            "100%|██████████| 391/391 [03:20<00:00,  1.95it/s]\n"
          ]
        },
        {
          "name": "stdout",
          "output_type": "stream",
          "text": [
            "Epoch No: 2\n",
            "Training Loss: 3.3242647403951193\n",
            " Training Accuracy: 0.19247999787330627 (Top-1)\t  0.4685800075531006 (Top-5)\n"
          ]
        },
        {
          "name": "stderr",
          "output_type": "stream",
          "text": [
            "100%|██████████| 79/79 [00:19<00:00,  4.14it/s]\n"
          ]
        },
        {
          "name": "stdout",
          "output_type": "stream",
          "text": [
            "Validation Loss: 3.18125677712356\n",
            "Validation Accuracy: 0.21690000593662262 (Top-1)\t  0.5223000049591064 (Top-5)\n"
          ]
        },
        {
          "name": "stderr",
          "output_type": "stream",
          "text": [
            "100%|██████████| 391/391 [03:21<00:00,  1.94it/s]\n"
          ]
        },
        {
          "name": "stdout",
          "output_type": "stream",
          "text": [
            "Epoch No: 3\n",
            "Training Loss: 2.7773542184658977\n",
            " Training Accuracy: 0.2921200096607208 (Top-1)\t  0.6059799790382385 (Top-5)\n"
          ]
        },
        {
          "name": "stderr",
          "output_type": "stream",
          "text": [
            "100%|██████████| 79/79 [00:19<00:00,  4.01it/s]\n"
          ]
        },
        {
          "name": "stdout",
          "output_type": "stream",
          "text": [
            "Validation Loss: 2.6387353878986985\n",
            "Validation Accuracy: 0.31869998574256897 (Top-1)\t  0.6424999833106995 (Top-5)\n"
          ]
        },
        {
          "name": "stderr",
          "output_type": "stream",
          "text": [
            "100%|██████████| 391/391 [03:18<00:00,  1.97it/s]\n"
          ]
        },
        {
          "name": "stdout",
          "output_type": "stream",
          "text": [
            "Epoch No: 4\n",
            "Training Loss: 2.2871535467674664\n",
            " Training Accuracy: 0.39160001277923584 (Top-1)\t  0.7196800112724304 (Top-5)\n"
          ]
        },
        {
          "name": "stderr",
          "output_type": "stream",
          "text": [
            "100%|██████████| 79/79 [00:19<00:00,  4.01it/s]\n"
          ]
        },
        {
          "name": "stdout",
          "output_type": "stream",
          "text": [
            "Validation Loss: 2.179469469227368\n",
            "Validation Accuracy: 0.41760000586509705 (Top-1)\t  0.7407000064849854 (Top-5)\n"
          ]
        },
        {
          "name": "stderr",
          "output_type": "stream",
          "text": [
            "100%|██████████| 391/391 [03:26<00:00,  1.89it/s]\n"
          ]
        },
        {
          "name": "stdout",
          "output_type": "stream",
          "text": [
            "Epoch No: 5\n",
            "Training Loss: 1.9357049663353454\n",
            " Training Accuracy: 0.4713999927043915 (Top-1)\t  0.7889599800109863 (Top-5)\n"
          ]
        },
        {
          "name": "stderr",
          "output_type": "stream",
          "text": [
            "100%|██████████| 79/79 [01:04<00:00,  1.22it/s]\n"
          ]
        },
        {
          "name": "stdout",
          "output_type": "stream",
          "text": [
            "Validation Loss: 2.0301800257042992\n",
            "Validation Accuracy: 0.4632999897003174 (Top-1)\t  0.7717999815940857 (Top-5)\n"
          ]
        },
        {
          "name": "stderr",
          "output_type": "stream",
          "text": [
            "100%|██████████| 391/391 [12:52<00:00,  1.98s/it]\n"
          ]
        },
        {
          "name": "stdout",
          "output_type": "stream",
          "text": [
            "Epoch No: 6\n",
            "Training Loss: 1.6803211263378564\n",
            " Training Accuracy: 0.5302000045776367 (Top-1)\t  0.8345800042152405 (Top-5)\n"
          ]
        },
        {
          "name": "stderr",
          "output_type": "stream",
          "text": [
            "100%|██████████| 79/79 [00:50<00:00,  1.56it/s]\n"
          ]
        },
        {
          "name": "stdout",
          "output_type": "stream",
          "text": [
            "Validation Loss: 1.8959374065640606\n",
            "Validation Accuracy: 0.4902999997138977 (Top-1)\t  0.7936999797821045 (Top-5)\n"
          ]
        },
        {
          "name": "stderr",
          "output_type": "stream",
          "text": [
            "100%|██████████| 391/391 [12:21<00:00,  1.90s/it]\n"
          ]
        },
        {
          "name": "stdout",
          "output_type": "stream",
          "text": [
            "Epoch No: 7\n",
            "Training Loss: 1.4956904857055\n",
            " Training Accuracy: 0.5760999917984009 (Top-1)\t  0.8659399747848511 (Top-5)\n"
          ]
        },
        {
          "name": "stderr",
          "output_type": "stream",
          "text": [
            "100%|██████████| 79/79 [01:01<00:00,  1.29it/s]\n"
          ]
        },
        {
          "name": "stdout",
          "output_type": "stream",
          "text": [
            "Validation Loss: 1.7226414273056803\n",
            "Validation Accuracy: 0.5333999991416931 (Top-1)\t  0.8220999836921692 (Top-5)\n"
          ]
        },
        {
          "name": "stderr",
          "output_type": "stream",
          "text": [
            "100%|██████████| 391/391 [12:28<00:00,  1.91s/it]\n"
          ]
        },
        {
          "name": "stdout",
          "output_type": "stream",
          "text": [
            "Epoch No: 8\n",
            "Training Loss: 1.3323778226552412\n",
            " Training Accuracy: 0.6187400221824646 (Top-1)\t  0.887499988079071 (Top-5)\n"
          ]
        },
        {
          "name": "stderr",
          "output_type": "stream",
          "text": [
            "100%|██████████| 79/79 [00:57<00:00,  1.38it/s]\n"
          ]
        },
        {
          "name": "stdout",
          "output_type": "stream",
          "text": [
            "Validation Loss: 1.6979890005497993\n",
            "Validation Accuracy: 0.5349000096321106 (Top-1)\t  0.83160001039505 (Top-5)\n"
          ]
        },
        {
          "name": "stderr",
          "output_type": "stream",
          "text": [
            "100%|██████████| 391/391 [07:54<00:00,  1.21s/it]\n"
          ]
        },
        {
          "name": "stdout",
          "output_type": "stream",
          "text": [
            "Epoch No: 9\n",
            "Training Loss: 1.1968853825803303\n",
            " Training Accuracy: 0.653439998626709 (Top-1)\t  0.9073799848556519 (Top-5)\n"
          ]
        },
        {
          "name": "stderr",
          "output_type": "stream",
          "text": [
            "100%|██████████| 79/79 [00:17<00:00,  4.39it/s]\n"
          ]
        },
        {
          "name": "stdout",
          "output_type": "stream",
          "text": [
            "Validation Loss: 1.4876124707958367\n",
            "Validation Accuracy: 0.5819000005722046 (Top-1)\t  0.8583999872207642 (Top-5)\n"
          ]
        },
        {
          "name": "stderr",
          "output_type": "stream",
          "text": [
            "100%|██████████| 391/391 [03:37<00:00,  1.80it/s]\n"
          ]
        },
        {
          "name": "stdout",
          "output_type": "stream",
          "text": [
            "Epoch No: 10\n",
            "Training Loss: 1.0893634515040367\n",
            " Training Accuracy: 0.6795600056648254 (Top-1)\t  0.921459972858429 (Top-5)\n"
          ]
        },
        {
          "name": "stderr",
          "output_type": "stream",
          "text": [
            "100%|██████████| 79/79 [00:18<00:00,  4.37it/s]"
          ]
        },
        {
          "name": "stdout",
          "output_type": "stream",
          "text": [
            "Validation Loss: 1.4282779965219619\n",
            "Validation Accuracy: 0.6054999828338623 (Top-1)\t  0.8669000267982483 (Top-5)\n"
          ]
        },
        {
          "name": "stderr",
          "output_type": "stream",
          "text": [
            "\n"
          ]
        }
      ],
      "source": [
        "# This variable will be used to save the per-epoch validation accuracy\n",
        "scratch_val_acc = list()\n",
        "# This variable will be used to save the per-epoch training loss\n",
        "scratch_train_loss = list()\n",
        "\n",
        "\n",
        "# Define the model\n",
        "model = DLModel(num_classes=num_classes, pretrained=False, num_unfreeze_layers=0).to(device)\n",
        "model.configure_optimizers(lr=lr_scratch, momentum=momentum, max_epochs=num_epochs)\n",
        "\n",
        "# Start the training loop\n",
        "for epoch in range(num_epochs):\n",
        "    # This is the training cycle\n",
        "    model.train()\n",
        "    avg_loss = 0\n",
        "    # Iterate over each batch and update the model\n",
        "    for x, y in tqdm(train_loader, total=len(train_loader)):\n",
        "        x, y = x.to(device), y.to(device)\n",
        "        avg_loss+= model.training_step(x, y)\n",
        "    avg_loss/=len(train_loader)\n",
        "    scratch_train_loss.append(avg_loss)\n",
        "    acc1, acc5 = model.on_training_epoch_end(avg_loss, epoch)\n",
        "\n",
        "    # This is the validation cycle\n",
        "    model.eval()\n",
        "    avg_loss = 0\n",
        "    # Iterate over each batch and get the predictions\n",
        "    for x, y in tqdm(val_loader, total=len(val_loader)):\n",
        "        x, y = x.to(device), y.to(device)\n",
        "        avg_loss+= model.validation_step(x, y)\n",
        "    avg_loss/=len(val_loader)\n",
        "    acc1, acc5 = model.on_validation_epoch_end(avg_loss, epoch)\n",
        "    scratch_val_acc.append(acc1)\n",
        "\n",
        "    # Finally reset the metrics before going on to the next epoch\n",
        "    model.reset_metrics()"
      ]
    },
    {
      "cell_type": "markdown",
      "metadata": {
        "id": "PgBIgKQ8rxZu"
      },
      "source": [
        "# Comparisons\n",
        "Now that we have evaluated the models under three different forms of training, let us compare them"
      ]
    },
    {
      "cell_type": "code",
      "execution_count": null,
      "metadata": {
        "id": "_hvYlCTrR-Xy",
        "outputId": "a7cec933-5a41-4437-f045-a04aaf9101df"
      },
      "outputs": [
        {
          "data": {
            "image/png": "[encoded data removed]",
            "text/plain": [
              "<Figure size 640x480 with 1 Axes>"
            ]
          },
          "metadata": {},
          "output_type": "display_data"
        },
        {
          "data": {
            "image/png": "[encoded data removed]",
            "text/plain": [
              "<Figure size 640x480 with 1 Axes>"
            ]
          },
          "metadata": {},
          "output_type": "display_data"
        }
      ],
      "source": [
        "# Comparing the Training loss per epoch\n",
        "sns.lineplot(x=np.arange(len(shallow_finetuning_train_loss)), y=shallow_finetuning_train_loss, label=\"Shallow Fine-tuning\")\n",
        "sns.lineplot(x=np.arange(len(deep_finetuning_train_loss)), y=deep_finetuning_train_loss, label=\"Deep Fine-tuning\")\n",
        "sns.lineplot(x=np.arange(len(scratch_train_loss)), y=scratch_train_loss, label=\"Training from scratch\")\n",
        "plt.xlabel(\"Epochs\")\n",
        "plt.ylabel(\"Training Loss\")\n",
        "sns.despine()\n",
        "plt.title(\"Training Loss Comparison\")\n",
        "plt.show()\n",
        "plt.close()\n",
        "\n",
        "# Comparing the validation Accuracies per epoch\n",
        "sns.lineplot(x=np.arange(len(shallow_finetuning_val_acc)), y=shallow_finetuning_val_acc, label=\"Shallow Fine-tuning\")\n",
        "sns.lineplot(x=np.arange(len(deep_finetuning_val_acc)), y=deep_finetuning_val_acc, label=\"Deep Fine-tuning\")\n",
        "sns.lineplot(x=np.arange(len(scratch_val_acc)), y=scratch_val_acc, label=\"Training from scratch\")\n",
        "plt.xlabel(\"Epochs\")\n",
        "plt.ylabel(\"Validation Accuracy\")\n",
        "sns.despine()\n",
        "plt.title(\"Validation Accuracy Comparison\")\n",
        "plt.show()"
      ]
    },
    {
      "cell_type": "code",
      "execution_count": null,
      "metadata": {
        "id": "AaVwXf2Sd0LA"
      },
      "outputs": [],
      "source": []
    }
  ],
  "metadata": {
    "accelerator": "TPU",
    "colab": {
      "gpuType": "V28",
      "provenance": [],
      "include_colab_link": true
    },
    "kernelspec": {
      "display_name": "Python 3",
      "name": "python3"
    },
    "language_info": {
      "codemirror_mode": {
        "name": "ipython",
        "version": 3
      },
      "file_extension": ".py",
      "mimetype": "text/x-python",
      "name": "python",
      "nbconvert_exporter": "python",
      "pygments_lexer": "ipython3",
      "version": "3.10.13"
    }
  },
  "nbformat": 4,
  "nbformat_minor": 0
}