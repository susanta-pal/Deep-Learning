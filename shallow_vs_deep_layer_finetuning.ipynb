{
  "cells": [
    {
      "cell_type": "markdown",
      "metadata": {
        "id": "view-in-github",
        "colab_type": "text"
      },
      "source": [
        "<a href=\"https://colab.research.google.com/github/susanta-pal/Deep-Learning/blob/main/shallow_vs_deep_layer_finetuning.ipynb\" target=\"_parent\"><img src=\"https://colab.research.google.com/assets/colab-badge.svg\" alt=\"Open In Colab\"/></a>"
      ]
    },
    {
      "cell_type": "markdown",
      "metadata": {
        "id": "rrkGKlA3h63l"
      },
      "source": [
        "# Import all the necessary libraries"
      ]
    },
    {
      "cell_type": "code",
      "execution_count": null,
      "metadata": {
        "id": "tDOqspXDgRsF"
      },
      "outputs": [],
      "source": [
        "import torch\n",
        "import torch.utils.data\n",
        "from torchvision import transforms\n",
        "from torchvision.datasets import CIFAR10, FashionMNIST\n",
        "import numpy as np\n",
        "from torchvision.models import resnet18, ResNet18_Weights\n",
        "from tqdm import tqdm\n",
        "# !pip install torchmetrics\n",
        "from torchmetrics import Accuracy\n",
        "import matplotlib.pyplot as plt\n",
        "import seaborn as sns\n",
        "from collections import Counter"
      ]
    },
    {
      "cell_type": "markdown",
      "metadata": {
        "id": "5SaLVZcNiXPF"
      },
      "source": [
        "# Setup the Data Class (CIFAR10)\n",
        "Always create classes for major modules. This will make your project modular, allowing you to switch different, in this case, datasets and test your model.\n",
        "Out of all the advantages of this coding habit, one advantage of creating multiple objecs of the data class is that it allows you to perform ensemble learning."
      ]
    },
    {
      "cell_type": "code",
      "execution_count": null,
      "metadata": {
        "id": "Og0SUbY9iW40"
      },
      "outputs": [],
      "source": [
        "class DataModule():\n",
        "    def __init__(self, batch_size, num_classes=10):\n",
        "        super().__init__()\n",
        "        self.batch_size = batch_size\n",
        "        self.num_classes = num_classes\n",
        "        # We define some augmentations that we would like to apply during training\n",
        "        self.train_transform = transforms.Compose([\n",
        "\n",
        "            transforms.Resize(256),\n",
        "            transforms.RandomCrop(224, 4),\n",
        "            transforms.RandomHorizontalFlip(),\n",
        "            transforms.ToTensor(),\n",
        "            transforms.Normalize((0.485, 0.456, 0.406), (0.229, 0.224, 0.225)),\n",
        "        ])\n",
        "        # During validation we need to only normalize and resize\n",
        "        self.val_transform = transforms.Compose([\n",
        "            transforms.Resize(224),\n",
        "            transforms.ToTensor(),\n",
        "            transforms.Normalize((0.485, 0.456, 0.406), (0.229, 0.224, 0.225)),\n",
        "        ])\n",
        "\n",
        "    # This function sets up our datasets\n",
        "    # which includes downloading and applying the augmentations\n",
        "    def prepare_data(self):\n",
        "        self.train_set = CIFAR10(root='./data', train=True, download=True, transform=self.train_transform)\n",
        "        self.val_set = CIFAR10(root='./data', train=False, download=True, transform=self.val_transform)\n",
        "        total_indices = list()\n",
        "        for i in range(self.num_classes):\n",
        "            indices = np.where(np.asarray(self.train_set.targets)==i)[0]\n",
        "            indices = np.random.choice(indices, int(0.1*len(indices))).tolist()\n",
        "            total_indices.extend(indices)\n",
        "        self.train_set.data = self.train_set.data[total_indices]\n",
        "        self.train_set.targets = [self.train_set.targets[j] for j in total_indices]\n",
        "\n",
        "\n",
        "    # This functions sets up the data loaders\n",
        "    def setup(self):\n",
        "        self.train_data_loader = torch.utils.data.DataLoader(self.train_set, batch_size=self.batch_size, shuffle=True)\n",
        "        self.val_data_loader = torch.utils.data.DataLoader(self.val_set, batch_size=self.batch_size, shuffle=False)\n",
        "\n",
        "    # This is simply a getter function for the training data loader\n",
        "    def train_dataloader(self, prune=True):\n",
        "        return self.train_data_loader\n",
        "\n",
        "    # This is simply a getter function for the validation data loader\n",
        "    def val_dataloader(self):\n",
        "        return self.val_data_loader"
      ]
    },
    {
      "cell_type": "markdown",
      "metadata": {
        "id": "A7HcA1kVFxhv"
      },
      "source": [
        "# Setup the Model Class\n",
        "Here we will define the model, its forward pass and its behaviour during each training/validation iteration"
      ]
    },
    {
      "cell_type": "code",
      "execution_count": null,
      "metadata": {
        "id": "AePVw9KZFf_N"
      },
      "outputs": [],
      "source": [
        "class DLModel(torch.nn.Module):\n",
        "    def __init__(self, num_classes, pretrained=True, fine_tune_shallow=True):\n",
        "        super().__init__()\n",
        "        # If you want to use the imagenet pretrained weights\n",
        "        if pretrained:\n",
        "            self.backbone = resnet18(weights=ResNet18_Weights.DEFAULT)\n",
        "            # We freeze the entire model\n",
        "            self.backbone.requires_grad_ = False\n",
        "            counter = 0\n",
        "            # If you want to unfreeze some of the layers, then\n",
        "            if fine_tune_shallow:\n",
        "                for name, module in self.named_modules():\n",
        "                    if isinstance(module, torch.nn.Conv2d) or isinstance(module, torch.nn.Linear) or isinstance(module, torch.nn.BatchNorm2d):\n",
        "                        counter+=1\n",
        "                if counter <=21:\n",
        "                    module.requires_grad_ = True\n",
        "            else:\n",
        "                for name, module in self.named_modules():\n",
        "                    if isinstance(module, torch.nn.Conv2d) or isinstance(module, torch.nn.Linear) or isinstance(module, torch.nn.BatchNorm2d):\n",
        "                        counter+=1\n",
        "                    if counter >= 21:\n",
        "                        module.requires_grad_ = True\n",
        "        # Otherwise just initialize the network from scratch\n",
        "        else:\n",
        "            self.backbone = resnet18(weights=None)\n",
        "            self.backbone.requires_grad_ = True\n",
        "        # The resnet model comes with a 1000 neuron final layer for the imagenet dataset\n",
        "        self.backbone.fc = torch.nn.Sequential(\n",
        "            torch.nn.Linear(512, num_classes)\n",
        "        )\n",
        "        self.backbone.fc.requires_grad_ = True\n",
        "        # Define the objective function\n",
        "        self.criterion = torch.nn.CrossEntropyLoss()\n",
        "        # Define the metrics\n",
        "        self.train_acc1, self.val_acc1 = Accuracy(task=\"multiclass\", num_classes=num_classes), Accuracy(task=\"multiclass\", num_classes=num_classes)\n",
        "        self.train_acc5, self.val_acc5 = Accuracy(task=\"multiclass\", num_classes=num_classes, top_k=5), Accuracy(task=\"multiclass\", num_classes=num_classes, top_k=5)\n",
        "\n",
        "    # This function sets up the optimizer and scheduler that we will use\n",
        "    def configure_optimizers(self, lr, momentum, max_epochs):\n",
        "        self.optimizer = torch.optim.SGD(self.parameters(), lr=lr, momentum=momentum)\n",
        "        self.scheduler = torch.optim.lr_scheduler.CosineAnnealingLR(self.optimizer, T_max=max_epochs)\n",
        "\n",
        "    # This defines the behaviour of our model during the forward pass\n",
        "    # Based on the defined behaviour, PyTorch sets up the backward pass\n",
        "    def forward(self, x):\n",
        "        out = self.backbone(x)\n",
        "        return out\n",
        "\n",
        "    # This function describes model behaviour per iteration during training\n",
        "    def training_step(self, x, y):\n",
        "        self.optimizer.zero_grad()\n",
        "        preds = self.forward(x)\n",
        "        self.train_acc1.update(preds, y)\n",
        "        self.train_acc5.update(preds, y)\n",
        "        loss = self.criterion(preds, y)\n",
        "        loss.backward()\n",
        "        self.optimizer.step()\n",
        "        return loss.item()\n",
        "\n",
        "    # Once the epoch is complete, we can call this function for inspecting the model's performance\n",
        "    def on_training_epoch_end(self, loss, epoch):\n",
        "        acc1, acc5 = self.train_acc1.compute().item(), self.train_acc5.compute().item()\n",
        "        print(f\"Epoch No: {epoch+1}\\nTraining Loss: {loss}\\n Training Accuracy: {acc1} (Top-1)\\t  {acc5} (Top-5)\")\n",
        "        return acc1, acc5\n",
        "\n",
        "    # This function describes model behaviour per iteration during validation\n",
        "    def validation_step(self, x, y):\n",
        "        preds = self.forward(x)\n",
        "        self.val_acc1.update(preds, y)\n",
        "        self.val_acc5.update(preds, y)\n",
        "        loss = self.criterion(preds, y)\n",
        "        return loss.item()\n",
        "\n",
        "    # Once the validation iterations are complete, we can call this function for inspecting the model's performance\n",
        "    def on_validation_epoch_end(self, loss, epoch):\n",
        "        acc1, acc5 = self.val_acc1.compute().item(), self.val_acc5.compute().item()\n",
        "        print(f\"Validation Loss: {loss}\\nValidation Accuracy: {acc1} (Top-1)\\t  {acc5} (Top-5)\")\n",
        "        return acc1, acc5\n",
        "\n",
        "    # This function resets the metrics so that new results can be calculated for the next epoch\n",
        "    def reset_metrics(self):\n",
        "        self.train_acc1.reset(), self.train_acc5.reset()\n",
        "        self.val_acc1.reset(), self.val_acc5.reset()"
      ]
    },
    {
      "cell_type": "markdown",
      "metadata": {
        "id": "VaPzMZOIebux"
      },
      "source": [
        "# Putting it all together\n",
        "We first define some static and global variables"
      ]
    },
    {
      "cell_type": "code",
      "execution_count": null,
      "metadata": {
        "colab": {
          "base_uri": "https://localhost:8080/"
        },
        "id": "wnWYGv5BeYkj",
        "outputId": "bfb0ece4-e83d-4b1a-93a7-e5220f3dda07"
      },
      "outputs": [
        {
          "name": "stdout",
          "output_type": "stream",
          "text": [
            "Files already downloaded and verified\n",
            "Files already downloaded and verified\n"
          ]
        }
      ],
      "source": [
        "# First define some static variables\n",
        "num_classes = 10\n",
        "num_epochs = 10\n",
        "batch_size = 256\n",
        "# Fine-tuning and training from scratch require different sets of learning rates\n",
        "lr = 0.01\n",
        "momentum = 0.9\n",
        "device = torch.device(\"cuda\")\n",
        "\n",
        "\n",
        "# Define the data\n",
        "data_module = DataModule(batch_size=batch_size)\n",
        "data_module.prepare_data()\n",
        "data_module.setup()\n",
        "train_loader, val_loader = data_module.train_dataloader(), data_module.val_dataloader()"
      ]
    },
    {
      "cell_type": "markdown",
      "metadata": {
        "id": "xWDig7Y2gszB"
      },
      "source": [
        "# Fine-tune shallow layers"
      ]
    },
    {
      "cell_type": "code",
      "execution_count": null,
      "metadata": {
        "id": "o6cPEil6gszB",
        "outputId": "460b28cb-da40-4621-e2e1-dda835937994"
      },
      "outputs": [
        {
          "name": "stderr",
          "output_type": "stream",
          "text": [
            "100%|██████████| 20/20 [00:19<00:00,  1.03it/s]\n"
          ]
        },
        {
          "name": "stdout",
          "output_type": "stream",
          "text": [
            "Epoch No: 1\n",
            "Training Loss: 1.4647930681705474\n",
            " Training Accuracy: 0.5016000270843506 (Top-1)\t  0.8820000290870667 (Top-5)\n"
          ]
        },
        {
          "name": "stderr",
          "output_type": "stream",
          "text": [
            "100%|██████████| 40/40 [00:18<00:00,  2.19it/s]\n"
          ]
        },
        {
          "name": "stdout",
          "output_type": "stream",
          "text": [
            "Validation Loss: 0.8948644280433655\n",
            "Validation Accuracy: 0.6913999915122986 (Top-1)\t  0.9677000045776367 (Top-5)\n"
          ]
        },
        {
          "name": "stderr",
          "output_type": "stream",
          "text": [
            "100%|██████████| 20/20 [00:19<00:00,  1.03it/s]\n"
          ]
        },
        {
          "name": "stdout",
          "output_type": "stream",
          "text": [
            "Epoch No: 2\n",
            "Training Loss: 0.5362361878156662\n",
            " Training Accuracy: 0.8116000294685364 (Top-1)\t  0.9936000108718872 (Top-5)\n"
          ]
        },
        {
          "name": "stderr",
          "output_type": "stream",
          "text": [
            "100%|██████████| 40/40 [00:19<00:00,  2.00it/s]\n"
          ]
        },
        {
          "name": "stdout",
          "output_type": "stream",
          "text": [
            "Validation Loss: 0.6055294036865234\n",
            "Validation Accuracy: 0.7840999960899353 (Top-1)\t  0.9919000267982483 (Top-5)\n"
          ]
        },
        {
          "name": "stderr",
          "output_type": "stream",
          "text": [
            "100%|██████████| 20/20 [00:19<00:00,  1.02it/s]\n"
          ]
        },
        {
          "name": "stdout",
          "output_type": "stream",
          "text": [
            "Epoch No: 3\n",
            "Training Loss: 0.28849955573678016\n",
            " Training Accuracy: 0.9038000106811523 (Top-1)\t  0.9980000257492065 (Top-5)\n"
          ]
        },
        {
          "name": "stderr",
          "output_type": "stream",
          "text": [
            "100%|██████████| 40/40 [00:19<00:00,  2.08it/s]\n"
          ]
        },
        {
          "name": "stdout",
          "output_type": "stream",
          "text": [
            "Validation Loss: 0.3649407044053078\n",
            "Validation Accuracy: 0.8766000270843506 (Top-1)\t  0.9962000250816345 (Top-5)\n"
          ]
        },
        {
          "name": "stderr",
          "output_type": "stream",
          "text": [
            "100%|██████████| 20/20 [00:20<00:00,  1.03s/it]\n"
          ]
        },
        {
          "name": "stdout",
          "output_type": "stream",
          "text": [
            "Epoch No: 4\n",
            "Training Loss: 0.17926690429449083\n",
            " Training Accuracy: 0.9455999732017517 (Top-1)\t  0.9994000196456909 (Top-5)\n"
          ]
        },
        {
          "name": "stderr",
          "output_type": "stream",
          "text": [
            "100%|██████████| 40/40 [00:19<00:00,  2.02it/s]\n"
          ]
        },
        {
          "name": "stdout",
          "output_type": "stream",
          "text": [
            "Validation Loss: 0.34533275552093984\n",
            "Validation Accuracy: 0.878600001335144 (Top-1)\t  0.9972000122070312 (Top-5)\n"
          ]
        },
        {
          "name": "stderr",
          "output_type": "stream",
          "text": [
            "100%|██████████| 20/20 [00:20<00:00,  1.02s/it]\n"
          ]
        },
        {
          "name": "stdout",
          "output_type": "stream",
          "text": [
            "Epoch No: 5\n",
            "Training Loss: 0.13626587018370628\n",
            " Training Accuracy: 0.9588000178337097 (Top-1)\t  0.9991999864578247 (Top-5)\n"
          ]
        },
        {
          "name": "stderr",
          "output_type": "stream",
          "text": [
            "100%|██████████| 40/40 [00:19<00:00,  2.05it/s]\n"
          ]
        },
        {
          "name": "stdout",
          "output_type": "stream",
          "text": [
            "Validation Loss: 0.3117046354338527\n",
            "Validation Accuracy: 0.8909000158309937 (Top-1)\t  0.9972000122070312 (Top-5)\n"
          ]
        },
        {
          "name": "stderr",
          "output_type": "stream",
          "text": [
            "100%|██████████| 20/20 [00:20<00:00,  1.02s/it]\n"
          ]
        },
        {
          "name": "stdout",
          "output_type": "stream",
          "text": [
            "Epoch No: 6\n",
            "Training Loss: 0.08591618090867996\n",
            " Training Accuracy: 0.9797999858856201 (Top-1)\t  0.9998000264167786 (Top-5)\n"
          ]
        },
        {
          "name": "stderr",
          "output_type": "stream",
          "text": [
            "100%|██████████| 40/40 [00:20<00:00,  1.98it/s]\n"
          ]
        },
        {
          "name": "stdout",
          "output_type": "stream",
          "text": [
            "Validation Loss: 0.2972279038280249\n",
            "Validation Accuracy: 0.9035999774932861 (Top-1)\t  0.9976000189781189 (Top-5)\n"
          ]
        },
        {
          "name": "stderr",
          "output_type": "stream",
          "text": [
            "100%|██████████| 20/20 [00:20<00:00,  1.02s/it]\n"
          ]
        },
        {
          "name": "stdout",
          "output_type": "stream",
          "text": [
            "Epoch No: 7\n",
            "Training Loss: 0.06075460407882929\n",
            " Training Accuracy: 0.98580002784729 (Top-1)\t  1.0 (Top-5)\n"
          ]
        },
        {
          "name": "stderr",
          "output_type": "stream",
          "text": [
            "100%|██████████| 40/40 [00:21<00:00,  1.84it/s]\n"
          ]
        },
        {
          "name": "stdout",
          "output_type": "stream",
          "text": [
            "Validation Loss: 0.3345754785463214\n",
            "Validation Accuracy: 0.8916000127792358 (Top-1)\t  0.9965999722480774 (Top-5)\n"
          ]
        },
        {
          "name": "stderr",
          "output_type": "stream",
          "text": [
            "100%|██████████| 20/20 [00:22<00:00,  1.14s/it]\n"
          ]
        },
        {
          "name": "stdout",
          "output_type": "stream",
          "text": [
            "Epoch No: 8\n",
            "Training Loss: 0.04902004785835743\n",
            " Training Accuracy: 0.9896000027656555 (Top-1)\t  1.0 (Top-5)\n"
          ]
        },
        {
          "name": "stderr",
          "output_type": "stream",
          "text": [
            "100%|██████████| 40/40 [00:21<00:00,  1.87it/s]\n"
          ]
        },
        {
          "name": "stdout",
          "output_type": "stream",
          "text": [
            "Validation Loss: 0.28853566013276577\n",
            "Validation Accuracy: 0.9049000144004822 (Top-1)\t  0.9979000091552734 (Top-5)\n"
          ]
        },
        {
          "name": "stderr",
          "output_type": "stream",
          "text": [
            "100%|██████████| 20/20 [00:22<00:00,  1.14s/it]\n"
          ]
        },
        {
          "name": "stdout",
          "output_type": "stream",
          "text": [
            "Epoch No: 9\n",
            "Training Loss: 0.03649479793384671\n",
            " Training Accuracy: 0.9927999973297119 (Top-1)\t  1.0 (Top-5)\n"
          ]
        },
        {
          "name": "stderr",
          "output_type": "stream",
          "text": [
            "100%|██████████| 40/40 [00:21<00:00,  1.90it/s]\n"
          ]
        },
        {
          "name": "stdout",
          "output_type": "stream",
          "text": [
            "Validation Loss: 0.28973713554441927\n",
            "Validation Accuracy: 0.9063000082969666 (Top-1)\t  0.9976999759674072 (Top-5)\n"
          ]
        },
        {
          "name": "stderr",
          "output_type": "stream",
          "text": [
            "100%|██████████| 20/20 [00:22<00:00,  1.14s/it]\n"
          ]
        },
        {
          "name": "stdout",
          "output_type": "stream",
          "text": [
            "Epoch No: 10\n",
            "Training Loss: 0.027827535942196845\n",
            " Training Accuracy: 0.9958000183105469 (Top-1)\t  1.0 (Top-5)\n"
          ]
        },
        {
          "name": "stderr",
          "output_type": "stream",
          "text": [
            "100%|██████████| 40/40 [00:20<00:00,  1.93it/s]"
          ]
        },
        {
          "name": "stdout",
          "output_type": "stream",
          "text": [
            "Validation Loss: 0.2912087207660079\n",
            "Validation Accuracy: 0.9050999879837036 (Top-1)\t  0.9977999925613403 (Top-5)\n"
          ]
        },
        {
          "name": "stderr",
          "output_type": "stream",
          "text": [
            "\n"
          ]
        }
      ],
      "source": [
        "# This variable will be used to save the per-epoch validation accuracy\n",
        "shallow_val_acc = list()\n",
        "# This variable will be used to save the per-epoch training loss\n",
        "shallow_train_loss = list()\n",
        "\n",
        "# Define the model\n",
        "model = DLModel(num_classes=num_classes, pretrained=True, fine_tune_shallow=True).to(device)\n",
        "model.configure_optimizers(lr=lr, momentum=momentum, max_epochs=num_epochs)\n",
        "\n",
        "# Start the training loop\n",
        "for epoch in range(num_epochs):\n",
        "    # This is the training cycle\n",
        "    model.train()\n",
        "    avg_loss = 0\n",
        "    # Iterate over each batch and update the model\n",
        "    for x, y in tqdm(train_loader, total=len(train_loader)):\n",
        "        x, y = x.to(device), y.to(device)\n",
        "        avg_loss+= model.training_step(x, y)\n",
        "    avg_loss/=len(train_loader)\n",
        "    shallow_train_loss.append(avg_loss)\n",
        "    acc1, acc5 = model.on_training_epoch_end(avg_loss, epoch)\n",
        "\n",
        "    # This is the validation cycle\n",
        "    model.eval()\n",
        "    avg_loss = 0\n",
        "    # Iterate over each batch and get the predictions\n",
        "    for x, y in tqdm(val_loader, total=len(val_loader)):\n",
        "        x, y = x.to(device), y.to(device)\n",
        "        avg_loss+= model.validation_step(x, y)\n",
        "    avg_loss/=len(val_loader)\n",
        "    acc1, acc5 = model.on_validation_epoch_end(avg_loss, epoch)\n",
        "    shallow_val_acc.append(acc1)\n",
        "\n",
        "    # Finally reset the metrics before going on to the next epoch\n",
        "    model.reset_metrics()"
      ]
    },
    {
      "cell_type": "markdown",
      "metadata": {
        "id": "bYdejdsKq9-9"
      },
      "source": [
        "# Fine-tune Deep"
      ]
    },
    {
      "cell_type": "code",
      "execution_count": null,
      "metadata": {
        "id": "p41s7jFhxvYV",
        "outputId": "7d0be5a2-8511-434c-d688-90b1daf3730b"
      },
      "outputs": [
        {
          "name": "stderr",
          "output_type": "stream",
          "text": [
            "100%|██████████| 20/20 [00:22<00:00,  1.13s/it]\n"
          ]
        },
        {
          "name": "stdout",
          "output_type": "stream",
          "text": [
            "Epoch No: 1\n",
            "Training Loss: 1.5075565040111543\n",
            " Training Accuracy: 0.48660001158714294 (Top-1)\t  0.8468000292778015 (Top-5)\n"
          ]
        },
        {
          "name": "stderr",
          "output_type": "stream",
          "text": [
            "100%|██████████| 40/40 [00:20<00:00,  1.94it/s]\n"
          ]
        },
        {
          "name": "stdout",
          "output_type": "stream",
          "text": [
            "Validation Loss: 0.9728006765246391\n",
            "Validation Accuracy: 0.6650000214576721 (Top-1)\t  0.9617000222206116 (Top-5)\n"
          ]
        },
        {
          "name": "stderr",
          "output_type": "stream",
          "text": [
            "100%|██████████| 20/20 [00:22<00:00,  1.12s/it]\n"
          ]
        },
        {
          "name": "stdout",
          "output_type": "stream",
          "text": [
            "Epoch No: 2\n",
            "Training Loss: 0.5163685351610183\n",
            " Training Accuracy: 0.8144000172615051 (Top-1)\t  0.993399977684021 (Top-5)\n"
          ]
        },
        {
          "name": "stderr",
          "output_type": "stream",
          "text": [
            "100%|██████████| 40/40 [00:20<00:00,  1.95it/s]\n"
          ]
        },
        {
          "name": "stdout",
          "output_type": "stream",
          "text": [
            "Validation Loss: 0.4800040774047375\n",
            "Validation Accuracy: 0.8389000296592712 (Top-1)\t  0.9944000244140625 (Top-5)\n"
          ]
        },
        {
          "name": "stderr",
          "output_type": "stream",
          "text": [
            "100%|██████████| 20/20 [00:22<00:00,  1.12s/it]\n"
          ]
        },
        {
          "name": "stdout",
          "output_type": "stream",
          "text": [
            "Epoch No: 3\n",
            "Training Loss: 0.30838340520858765\n",
            " Training Accuracy: 0.8989999890327454 (Top-1)\t  0.9986000061035156 (Top-5)\n"
          ]
        },
        {
          "name": "stderr",
          "output_type": "stream",
          "text": [
            "100%|██████████| 40/40 [00:20<00:00,  1.98it/s]\n"
          ]
        },
        {
          "name": "stdout",
          "output_type": "stream",
          "text": [
            "Validation Loss: 0.37700149416923523\n",
            "Validation Accuracy: 0.8694000244140625 (Top-1)\t  0.9957000017166138 (Top-5)\n"
          ]
        },
        {
          "name": "stderr",
          "output_type": "stream",
          "text": [
            "100%|██████████| 20/20 [00:22<00:00,  1.12s/it]\n"
          ]
        },
        {
          "name": "stdout",
          "output_type": "stream",
          "text": [
            "Epoch No: 4\n",
            "Training Loss: 0.1943768098950386\n",
            " Training Accuracy: 0.9399999976158142 (Top-1)\t  0.9995999932289124 (Top-5)\n"
          ]
        },
        {
          "name": "stderr",
          "output_type": "stream",
          "text": [
            "100%|██████████| 40/40 [00:20<00:00,  1.91it/s]\n"
          ]
        },
        {
          "name": "stdout",
          "output_type": "stream",
          "text": [
            "Validation Loss: 0.3284688353538513\n",
            "Validation Accuracy: 0.8878999948501587 (Top-1)\t  0.9972000122070312 (Top-5)\n"
          ]
        },
        {
          "name": "stderr",
          "output_type": "stream",
          "text": [
            "100%|██████████| 20/20 [00:19<00:00,  1.01it/s]\n"
          ]
        },
        {
          "name": "stdout",
          "output_type": "stream",
          "text": [
            "Epoch No: 5\n",
            "Training Loss: 0.12547749988734722\n",
            " Training Accuracy: 0.9660000205039978 (Top-1)\t  1.0 (Top-5)\n"
          ]
        },
        {
          "name": "stderr",
          "output_type": "stream",
          "text": [
            "100%|██████████| 40/40 [00:19<00:00,  2.05it/s]\n"
          ]
        },
        {
          "name": "stdout",
          "output_type": "stream",
          "text": [
            "Validation Loss: 0.3503215195611119\n",
            "Validation Accuracy: 0.8795999884605408 (Top-1)\t  0.9959999918937683 (Top-5)\n"
          ]
        },
        {
          "name": "stderr",
          "output_type": "stream",
          "text": [
            "100%|██████████| 20/20 [00:19<00:00,  1.00it/s]\n"
          ]
        },
        {
          "name": "stdout",
          "output_type": "stream",
          "text": [
            "Epoch No: 6\n",
            "Training Loss: 0.09672139286994934\n",
            " Training Accuracy: 0.972000002861023 (Top-1)\t  1.0 (Top-5)\n"
          ]
        },
        {
          "name": "stderr",
          "output_type": "stream",
          "text": [
            "100%|██████████| 40/40 [00:19<00:00,  2.02it/s]\n"
          ]
        },
        {
          "name": "stdout",
          "output_type": "stream",
          "text": [
            "Validation Loss: 0.3014507764950395\n",
            "Validation Accuracy: 0.9002000093460083 (Top-1)\t  0.9980000257492065 (Top-5)\n"
          ]
        },
        {
          "name": "stderr",
          "output_type": "stream",
          "text": [
            "100%|██████████| 20/20 [00:20<00:00,  1.01s/it]\n"
          ]
        },
        {
          "name": "stdout",
          "output_type": "stream",
          "text": [
            "Epoch No: 7\n",
            "Training Loss: 0.06410870291292667\n",
            " Training Accuracy: 0.9861999750137329 (Top-1)\t  1.0 (Top-5)\n"
          ]
        },
        {
          "name": "stderr",
          "output_type": "stream",
          "text": [
            "100%|██████████| 40/40 [00:19<00:00,  2.01it/s]\n"
          ]
        },
        {
          "name": "stdout",
          "output_type": "stream",
          "text": [
            "Validation Loss: 0.2960917163640261\n",
            "Validation Accuracy: 0.9024999737739563 (Top-1)\t  0.9979000091552734 (Top-5)\n"
          ]
        },
        {
          "name": "stderr",
          "output_type": "stream",
          "text": [
            "100%|██████████| 20/20 [00:20<00:00,  1.01s/it]\n"
          ]
        },
        {
          "name": "stdout",
          "output_type": "stream",
          "text": [
            "Epoch No: 8\n",
            "Training Loss: 0.04617990357801318\n",
            " Training Accuracy: 0.9911999702453613 (Top-1)\t  1.0 (Top-5)\n"
          ]
        },
        {
          "name": "stderr",
          "output_type": "stream",
          "text": [
            "100%|██████████| 40/40 [00:20<00:00,  1.99it/s]\n"
          ]
        },
        {
          "name": "stdout",
          "output_type": "stream",
          "text": [
            "Validation Loss: 0.3288421411067247\n",
            "Validation Accuracy: 0.8913000226020813 (Top-1)\t  0.9965000152587891 (Top-5)\n"
          ]
        },
        {
          "name": "stderr",
          "output_type": "stream",
          "text": [
            "100%|██████████| 20/20 [00:20<00:00,  1.01s/it]\n"
          ]
        },
        {
          "name": "stdout",
          "output_type": "stream",
          "text": [
            "Epoch No: 9\n",
            "Training Loss: 0.0366427518427372\n",
            " Training Accuracy: 0.9947999715805054 (Top-1)\t  0.9998000264167786 (Top-5)\n"
          ]
        },
        {
          "name": "stderr",
          "output_type": "stream",
          "text": [
            "100%|██████████| 40/40 [00:20<00:00,  1.99it/s]\n"
          ]
        },
        {
          "name": "stdout",
          "output_type": "stream",
          "text": [
            "Validation Loss: 0.30844201166182755\n",
            "Validation Accuracy: 0.8973000049591064 (Top-1)\t  0.9975000023841858 (Top-5)\n"
          ]
        },
        {
          "name": "stderr",
          "output_type": "stream",
          "text": [
            "100%|██████████| 20/20 [00:20<00:00,  1.01s/it]\n"
          ]
        },
        {
          "name": "stdout",
          "output_type": "stream",
          "text": [
            "Epoch No: 10\n",
            "Training Loss: 0.03132599433884024\n",
            " Training Accuracy: 0.9936000108718872 (Top-1)\t  1.0 (Top-5)\n"
          ]
        },
        {
          "name": "stderr",
          "output_type": "stream",
          "text": [
            "100%|██████████| 40/40 [00:20<00:00,  2.00it/s]"
          ]
        },
        {
          "name": "stdout",
          "output_type": "stream",
          "text": [
            "Validation Loss: 0.2902513526380062\n",
            "Validation Accuracy: 0.9038000106811523 (Top-1)\t  0.9977999925613403 (Top-5)\n"
          ]
        },
        {
          "name": "stderr",
          "output_type": "stream",
          "text": [
            "\n"
          ]
        }
      ],
      "source": [
        "# This variable will be used to save the per-epoch validation accuracy\n",
        "deep_val_acc = list()\n",
        "# This variable will be used to save the per-epoch training loss\n",
        "deep_train_loss = list()\n",
        "\n",
        "# Define the model\n",
        "model = DLModel(num_classes=num_classes, pretrained=True, fine_tune_shallow=False).to(device)\n",
        "model.configure_optimizers(lr=lr, momentum=momentum, max_epochs=num_epochs)\n",
        "\n",
        "# Start the training loop\n",
        "for epoch in range(num_epochs):\n",
        "    # This is the training cycle\n",
        "    model.train()\n",
        "    avg_loss = 0\n",
        "    # Iterate over each batch and update the model\n",
        "    for x, y in tqdm(train_loader, total=len(train_loader)):\n",
        "        x, y = x.to(device), y.to(device)\n",
        "        avg_loss+= model.training_step(x, y)\n",
        "    avg_loss/=len(train_loader)\n",
        "    deep_train_loss.append(avg_loss)\n",
        "    acc1, acc5 = model.on_training_epoch_end(avg_loss, epoch)\n",
        "\n",
        "    # This is the validation cycle\n",
        "    model.eval()\n",
        "    avg_loss = 0\n",
        "    # Iterate over each batch and get the predictions\n",
        "    for x, y in tqdm(val_loader, total=len(val_loader)):\n",
        "        x, y = x.to(device), y.to(device)\n",
        "        avg_loss+= model.validation_step(x, y)\n",
        "    avg_loss/=len(val_loader)\n",
        "    acc1, acc5 = model.on_validation_epoch_end(avg_loss, epoch)\n",
        "    deep_val_acc.append(acc1)\n",
        "\n",
        "    # Finally reset the metrics before going on to the next epoch\n",
        "    model.reset_metrics()"
      ]
    },
    {
      "cell_type": "markdown",
      "metadata": {
        "id": "PgBIgKQ8rxZu"
      },
      "source": [
        "# Comparisons\n",
        "Now that we have evaluated the models for two different datasets, let us compare them\n",
        "We expect that the performance of ResNet18 on MNIST should be considerably worse than CIFAR10 due to reduced domain adaptability"
      ]
    },
    {
      "cell_type": "code",
      "execution_count": null,
      "metadata": {
        "id": "_hvYlCTrR-Xy",
        "outputId": "e11a581c-93a0-4fe1-8dd2-52e337e286ab"
      },
      "outputs": [
        {
          "data": {
            "image/png": "[encoded data removed]",
            "text/plain": [
              "<Figure size 640x480 with 1 Axes>"
            ]
          },
          "metadata": {},
          "output_type": "display_data"
        },
        {
          "data": {
            "image/png": "[encoded data removed]",
            "text/plain": [
              "<Figure size 640x480 with 1 Axes>"
            ]
          },
          "metadata": {},
          "output_type": "display_data"
        }
      ],
      "source": [
        "# Comparing the Training loss per epoch\n",
        "sns.lineplot(x=np.arange(len(shallow_train_loss)), y=shallow_train_loss, label=\"Shallow\")\n",
        "sns.lineplot(x=np.arange(len(deep_train_loss)), y=deep_train_loss, label=\"Deep\")\n",
        "plt.xlabel(\"Epochs\")\n",
        "plt.ylabel(\"Training Loss\")\n",
        "sns.despine()\n",
        "plt.title(\"Training Loss Comparison\")\n",
        "plt.show()\n",
        "plt.close()\n",
        "\n",
        "# Comparing the validation Accuracies per epoch\n",
        "sns.lineplot(x=np.arange(len(shallow_val_acc)), y=shallow_val_acc, label=\"Shallow\")\n",
        "sns.lineplot(x=np.arange(len(deep_val_acc)), y=deep_val_acc, label=\"Deep\")\n",
        "plt.xlabel(\"Epochs\")\n",
        "plt.ylabel(\"Validation Accuracy\")\n",
        "sns.despine()\n",
        "plt.title(\"Validation Accuracy Comparison\")\n",
        "plt.show()"
      ]
    },
    {
      "cell_type": "code",
      "execution_count": null,
      "metadata": {
        "id": "LgAJcQpOgszC"
      },
      "outputs": [],
      "source": []
    }
  ],
  "metadata": {
    "accelerator": "TPU",
    "colab": {
      "gpuType": "V28",
      "provenance": [],
      "include_colab_link": true
    },
    "kernelspec": {
      "display_name": "Python 3",
      "name": "python3"
    },
    "language_info": {
      "codemirror_mode": {
        "name": "ipython",
        "version": 3
      },
      "file_extension": ".py",
      "mimetype": "text/x-python",
      "name": "python",
      "nbconvert_exporter": "python",
      "pygments_lexer": "ipython3",
      "version": "3.10.13"
    }
  },
  "nbformat": 4,
  "nbformat_minor": 0
}