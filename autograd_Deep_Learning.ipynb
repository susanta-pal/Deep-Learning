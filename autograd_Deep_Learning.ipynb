{
  "cells": [
    {
      "cell_type": "markdown",
      "metadata": {
        "origin_pos": 0,
        "id": "Mn9vVHyfs_Ta"
      },
      "source": [
        "# Automatic Differentiation\n",
        "\n",
        "Differentiation is a crucial step in nearly all deep learning optimization algorithms.\n",
        "While the calculations for taking these derivatives are straightforward,\n",
        "requiring only some basic calculus,\n",
        "for complex models, working out the updates by hand\n",
        "can be a pain (and often error-prone).\n",
        "\n",
        "Deep learning frameworks expedite this work\n",
        "by automatically calculating derivatives, i.e., *automatic differentiation*.\n",
        "In practice,\n",
        "based on our designed model\n",
        "the system builds a *computational graph*,\n",
        "tracking which data combined through\n",
        "which operations to produce the output.\n",
        "Automatic differentiation enables the system to subsequently backpropagate gradients.\n",
        "Here, *backpropagate* simply means to trace through the computational graph,\n",
        "filling in the partial derivatives with respect to each parameter.\n",
        "\n",
        "\n",
        "## A Simple Example\n",
        "\n",
        "As a toy example, say that we are interested\n",
        "in (**differentiating the function\n",
        "$y = 2\\mathbf{x}^{\\top}\\mathbf{x}$\n",
        "with respect to the column vector $\\mathbf{x}$.**)\n",
        "To start, let us create the variable `x` and assign it an initial value.\n"
      ]
    },
    {
      "cell_type": "code",
      "execution_count": null,
      "metadata": {
        "origin_pos": 1,
        "tab": [
          "mxnet"
        ],
        "colab": {
          "base_uri": "https://localhost:8080/"
        },
        "id": "LjQrpfWes_Te",
        "outputId": "c1f198b7-3ae9-4d6a-aeab-e0ba78b3dfe1"
      },
      "outputs": [
        {
          "output_type": "stream",
          "name": "stdout",
          "text": [
            "Collecting mxnet\n",
            "  Downloading mxnet-1.9.0-py3-none-manylinux2014_x86_64.whl (47.3 MB)\n",
            "\u001b[K     |████████████████████████████████| 47.3 MB 1.0 MB/s \n",
            "\u001b[?25hCollecting graphviz<0.9.0,>=0.8.1\n",
            "  Downloading graphviz-0.8.4-py2.py3-none-any.whl (16 kB)\n",
            "Requirement already satisfied: requests<3,>=2.20.0 in /usr/local/lib/python3.7/dist-packages (from mxnet) (2.23.0)\n",
            "Requirement already satisfied: numpy<2.0.0,>1.16.0 in /usr/local/lib/python3.7/dist-packages (from mxnet) (1.19.5)\n",
            "Requirement already satisfied: idna<3,>=2.5 in /usr/local/lib/python3.7/dist-packages (from requests<3,>=2.20.0->mxnet) (2.10)\n",
            "Requirement already satisfied: chardet<4,>=3.0.2 in /usr/local/lib/python3.7/dist-packages (from requests<3,>=2.20.0->mxnet) (3.0.4)\n",
            "Requirement already satisfied: certifi>=2017.4.17 in /usr/local/lib/python3.7/dist-packages (from requests<3,>=2.20.0->mxnet) (2021.10.8)\n",
            "Requirement already satisfied: urllib3!=1.25.0,!=1.25.1,<1.26,>=1.21.1 in /usr/local/lib/python3.7/dist-packages (from requests<3,>=2.20.0->mxnet) (1.24.3)\n",
            "Installing collected packages: graphviz, mxnet\n",
            "  Attempting uninstall: graphviz\n",
            "    Found existing installation: graphviz 0.10.1\n",
            "    Uninstalling graphviz-0.10.1:\n",
            "      Successfully uninstalled graphviz-0.10.1\n",
            "Successfully installed graphviz-0.8.4 mxnet-1.9.0\n"
          ]
        },
        {
          "output_type": "execute_result",
          "data": {
            "text/plain": [
              "array([0., 1., 2., 3.])"
            ]
          },
          "metadata": {},
          "execution_count": 1
        }
      ],
      "source": [
        "!pip install mxnet\n",
        "from mxnet import autograd, np, npx\n",
        "\n",
        "npx.set_np()\n",
        "\n",
        "x = np.arange(4.0)\n",
        "x"
      ]
    },
    {
      "cell_type": "markdown",
      "metadata": {
        "origin_pos": 4,
        "id": "yyOxsYZ9s_Tg"
      },
      "source": [
        "[**Before we even calculate the gradient\n",
        "of $y$ with respect to $\\mathbf{x}$,\n",
        "we will need a place to store it.**]\n",
        "It is important that we do not allocate new memory\n",
        "every time we take a derivative with respect to a parameter\n",
        "because we will often update the same parameters\n",
        "thousands or millions of times\n",
        "and could quickly run out of memory.\n",
        "Note that a gradient of a scalar-valued function\n",
        "with respect to a vector $\\mathbf{x}$\n",
        "is itself vector-valued and has the same shape as $\\mathbf{x}$.\n"
      ]
    },
    {
      "cell_type": "code",
      "execution_count": null,
      "metadata": {
        "origin_pos": 5,
        "tab": [
          "mxnet"
        ],
        "colab": {
          "base_uri": "https://localhost:8080/"
        },
        "id": "UlaesrXPs_Th",
        "outputId": "e85911cf-a89d-4001-f85f-f9a5e2cd2909"
      },
      "outputs": [
        {
          "output_type": "execute_result",
          "data": {
            "text/plain": [
              "array([0., 0., 0., 0.])"
            ]
          },
          "metadata": {},
          "execution_count": 2
        }
      ],
      "source": [
        "# We allocate memory for a tensor's gradient by invoking `attach_grad`\n",
        "x.attach_grad()\n",
        "# After we calculate a gradient taken with respect to `x`, we will be able to\n",
        "# access it via the `grad` attribute, whose values are initialized with 0s\n",
        "x.grad"
      ]
    },
    {
      "cell_type": "markdown",
      "metadata": {
        "origin_pos": 8,
        "id": "V9aXz73es_Th"
      },
      "source": [
        "(**Now let us calculate $y$.**)\n"
      ]
    },
    {
      "cell_type": "code",
      "execution_count": null,
      "metadata": {
        "origin_pos": 9,
        "tab": [
          "mxnet"
        ],
        "colab": {
          "base_uri": "https://localhost:8080/"
        },
        "id": "DAttwUW6s_Ti",
        "outputId": "e187586c-d5c4-4973-a9d2-f2b413238af6"
      },
      "outputs": [
        {
          "output_type": "execute_result",
          "data": {
            "text/plain": [
              "array(28.)"
            ]
          },
          "metadata": {},
          "execution_count": 3
        }
      ],
      "source": [
        "# Place our code inside an `autograd.record` scope to build the computational\n",
        "# graph\n",
        "with autograd.record():\n",
        "    y = 2 * np.dot(x, x)\n",
        "y"
      ]
    },
    {
      "cell_type": "markdown",
      "metadata": {
        "origin_pos": 12,
        "id": "V5xUSKsfs_Ti"
      },
      "source": [
        "Since `x` is a vector of length 4,\n",
        "an inner product of `x` and `x` is performed,\n",
        "yielding the scalar output that we assign to `y`.\n",
        "Next, [**we can automatically calculate the gradient of `y`\n",
        "with respect to each component of `x`**]\n",
        "by calling the function for backpropagation and printing the gradient.\n"
      ]
    },
    {
      "cell_type": "code",
      "execution_count": null,
      "metadata": {
        "origin_pos": 13,
        "tab": [
          "mxnet"
        ],
        "colab": {
          "base_uri": "https://localhost:8080/"
        },
        "id": "IAEFQl_vs_Tj",
        "outputId": "eea0b560-f4cb-4d38-90cb-6f2f98f4667b"
      },
      "outputs": [
        {
          "output_type": "execute_result",
          "data": {
            "text/plain": [
              "array([ 0.,  4.,  8., 12.])"
            ]
          },
          "metadata": {},
          "execution_count": 4
        }
      ],
      "source": [
        "y.backward()\n",
        "x.grad"
      ]
    },
    {
      "cell_type": "markdown",
      "metadata": {
        "origin_pos": 16,
        "id": "U-DTQh3Gs_Tj"
      },
      "source": [
        "(**The gradient of the function $y = 2\\mathbf{x}^{\\top}\\mathbf{x}$\n",
        "with respect to $\\mathbf{x}$ should be $4\\mathbf{x}$.**)\n",
        "Let us quickly verify that our desired gradient was calculated correctly.\n"
      ]
    },
    {
      "cell_type": "code",
      "execution_count": null,
      "metadata": {
        "origin_pos": 17,
        "tab": [
          "mxnet"
        ],
        "colab": {
          "base_uri": "https://localhost:8080/"
        },
        "id": "ZsxZCHHUs_Tk",
        "outputId": "ccca6ed8-3303-4495-c57d-311c2cf259fd"
      },
      "outputs": [
        {
          "output_type": "execute_result",
          "data": {
            "text/plain": [
              "array([ True,  True,  True,  True])"
            ]
          },
          "metadata": {},
          "execution_count": 5
        }
      ],
      "source": [
        "x.grad == 4 * x"
      ]
    },
    {
      "cell_type": "markdown",
      "metadata": {
        "origin_pos": 20,
        "id": "BEfJNX6ls_Tk"
      },
      "source": [
        "[**Now let us calculate another function of `x`.**]\n"
      ]
    },
    {
      "cell_type": "code",
      "execution_count": null,
      "metadata": {
        "origin_pos": 21,
        "tab": [
          "mxnet"
        ],
        "colab": {
          "base_uri": "https://localhost:8080/"
        },
        "id": "knMKjQ7Ks_Tl",
        "outputId": "a0d5a0a3-e36c-4b38-ffc6-448ed944d49c"
      },
      "outputs": [
        {
          "output_type": "execute_result",
          "data": {
            "text/plain": [
              "array([1., 1., 1., 1.])"
            ]
          },
          "metadata": {},
          "execution_count": 6
        }
      ],
      "source": [
        "with autograd.record():\n",
        "    y = x.sum()\n",
        "y.backward()\n",
        "x.grad  # Overwritten by the newly calculated gradient"
      ]
    },
    {
      "cell_type": "markdown",
      "metadata": {
        "origin_pos": 24,
        "id": "yWt0Z2_ns_Tl"
      },
      "source": [
        "## Backward for Non-Scalar Variables\n",
        "\n",
        "Technically, when `y` is not a scalar,\n",
        "the most natural interpretation of the differentiation of a vector `y`\n",
        "with respect to a vector `x` is a matrix.\n",
        "For higher-order and higher-dimensional `y` and `x`,\n",
        "the differentiation result could be a high-order tensor.\n",
        "\n",
        "However, while these more exotic objects do show up\n",
        "in advanced machine learning (including [**in deep learning**]),\n",
        "more often (**when we are calling backward on a vector,**)\n",
        "we are trying to calculate the derivatives of the loss functions\n",
        "for each constituent of a *batch* of training examples.\n",
        "Here, (**our intent is**) not to calculate the differentiation matrix\n",
        "but rather (**the sum of the partial derivatives\n",
        "computed individually for each example**) in the batch.\n"
      ]
    },
    {
      "cell_type": "code",
      "execution_count": null,
      "metadata": {
        "origin_pos": 25,
        "tab": [
          "mxnet"
        ],
        "colab": {
          "base_uri": "https://localhost:8080/"
        },
        "id": "BHVNkm3os_Tm",
        "outputId": "c3696e1a-8c0d-4c53-a346-785beaae0c19"
      },
      "outputs": [
        {
          "output_type": "execute_result",
          "data": {
            "text/plain": [
              "array([0., 2., 4., 6.])"
            ]
          },
          "metadata": {},
          "execution_count": 7
        }
      ],
      "source": [
        "# When we invoke `backward` on a vector-valued variable `y` (function of `x`),\n",
        "# a new scalar variable is created by summing the elements in `y`. Then the\n",
        "# gradient of that scalar variable with respect to `x` is computed\n",
        "with autograd.record():\n",
        "    y = x * x  # `y` is a vector\n",
        "y.backward()\n",
        "x.grad  # Equals to y = sum(x * x)"
      ]
    },
    {
      "cell_type": "markdown",
      "metadata": {
        "origin_pos": 28,
        "id": "2_YNiuwNs_Tm"
      },
      "source": [
        "## Detaching Computation\n",
        "\n",
        "Sometimes, we wish to [**move some calculations\n",
        "outside of the recorded computational graph.**]\n",
        "For example, say that `y` was calculated as a function of `x`,\n",
        "and that subsequently `z` was calculated as a function of both `y` and `x`.\n",
        "Now, imagine that we wanted to calculate\n",
        "the gradient of `z` with respect to `x`,\n",
        "but wanted for some reason to treat `y` as a constant,\n",
        "and only take into account the role\n",
        "that `x` played after `y` was calculated.\n",
        "\n",
        "Here, we can detach `y` to return a new variable `u`\n",
        "that has the same value as `y` but discards any information\n",
        "about how `y` was computed in the computational graph.\n",
        "In other words, the gradient will not flow backwards through `u` to `x`.\n",
        "Thus, the following backpropagation function computes\n",
        "the partial derivative of `z = u * x` with respect to `x` while treating `u` as a constant,\n",
        "instead of the partial derivative of `z = x * x * x` with respect to `x`.\n"
      ]
    },
    {
      "cell_type": "code",
      "execution_count": null,
      "metadata": {
        "origin_pos": 29,
        "tab": [
          "mxnet"
        ],
        "colab": {
          "base_uri": "https://localhost:8080/"
        },
        "id": "tlHfzZdxs_Tn",
        "outputId": "abc2eff1-5676-4ec3-ea71-f20e81b088f1"
      },
      "outputs": [
        {
          "output_type": "execute_result",
          "data": {
            "text/plain": [
              "array([ True,  True,  True,  True])"
            ]
          },
          "metadata": {},
          "execution_count": 8
        }
      ],
      "source": [
        "with autograd.record():\n",
        "    y = x * x\n",
        "    u = y.detach()\n",
        "    z = u * x\n",
        "z.backward()\n",
        "x.grad == u"
      ]
    },
    {
      "cell_type": "markdown",
      "metadata": {
        "origin_pos": 32,
        "id": "BlbjGUg8s_Tn"
      },
      "source": [
        "Since the computation of `y` was recorded,\n",
        "we can subsequently invoke backpropagation on `y` to get the derivative of `y = x * x` with respect to `x`, which is `2 * x`.\n"
      ]
    },
    {
      "cell_type": "code",
      "execution_count": null,
      "metadata": {
        "origin_pos": 33,
        "tab": [
          "mxnet"
        ],
        "colab": {
          "base_uri": "https://localhost:8080/"
        },
        "id": "kgamAo0-s_Tn",
        "outputId": "8d5f9b44-af83-450e-bc7c-263c1b21b23f"
      },
      "outputs": [
        {
          "output_type": "execute_result",
          "data": {
            "text/plain": [
              "array([ True,  True,  True,  True])"
            ]
          },
          "metadata": {},
          "execution_count": 9
        }
      ],
      "source": [
        "y.backward()\n",
        "x.grad == 2 * x"
      ]
    },
    {
      "cell_type": "markdown",
      "metadata": {
        "origin_pos": 36,
        "id": "63kmqjnjs_To"
      },
      "source": [
        "## Computing the Gradient of Python Control Flow\n",
        "\n",
        "One benefit of using automatic differentiation\n",
        "is that [**even if**] building the computational graph of (**a function\n",
        "required passing through a maze of Python control flow**)\n",
        "(e.g., conditionals, loops, and arbitrary function calls),\n",
        "(**we can still calculate the gradient of the resulting variable.**)\n",
        "In the following snippet, note that\n",
        "the number of iterations of the `while` loop\n",
        "and the evaluation of the `if` statement\n",
        "both depend on the value of the input `a`.\n"
      ]
    },
    {
      "cell_type": "code",
      "execution_count": null,
      "metadata": {
        "origin_pos": 37,
        "tab": [
          "mxnet"
        ],
        "id": "KDk-YoGEs_To"
      },
      "outputs": [],
      "source": [
        "def f(a):\n",
        "    b = a * 2\n",
        "    while np.linalg.norm(b) < 1000:\n",
        "        b = b * 2\n",
        "    if b.sum() > 0:\n",
        "        c = b\n",
        "    else:\n",
        "        c = 100 * b\n",
        "    return c"
      ]
    },
    {
      "cell_type": "markdown",
      "metadata": {
        "origin_pos": 40,
        "id": "39132gcss_To"
      },
      "source": [
        "Let us compute the gradient.\n"
      ]
    },
    {
      "cell_type": "code",
      "execution_count": null,
      "metadata": {
        "origin_pos": 41,
        "tab": [
          "mxnet"
        ],
        "id": "T7epp6uXs_To"
      },
      "outputs": [],
      "source": [
        "a = np.random.normal()\n",
        "a.attach_grad()\n",
        "with autograd.record():\n",
        "    d = f(a)\n",
        "d.backward()"
      ]
    },
    {
      "cell_type": "markdown",
      "metadata": {
        "origin_pos": 44,
        "id": "CLr8SFsZs_To"
      },
      "source": [
        "We can now analyze the `f` function defined above.\n",
        "Note that it is piecewise linear in its input `a`.\n",
        "In other words, for any `a` there exists some constant scalar `k`\n",
        "such that `f(a) = k * a`, where the value of `k` depends on the input `a`.\n",
        "Consequently `d / a` allows us to verify that the gradient is correct.\n"
      ]
    },
    {
      "cell_type": "code",
      "execution_count": null,
      "metadata": {
        "origin_pos": 45,
        "tab": [
          "mxnet"
        ],
        "colab": {
          "base_uri": "https://localhost:8080/"
        },
        "id": "0cL4pVTUs_Tp",
        "outputId": "fba31ad3-b95d-41e5-ff45-4d0780e178ea"
      },
      "outputs": [
        {
          "output_type": "execute_result",
          "data": {
            "text/plain": [
              "array(True)"
            ]
          },
          "metadata": {},
          "execution_count": 12
        }
      ],
      "source": [
        "a.grad == d / a"
      ]
    },
    {
      "cell_type": "markdown",
      "metadata": {
        "origin_pos": 48,
        "id": "eD928e_-s_Tp"
      },
      "source": [
        "## Summary\n",
        "\n",
        "* Deep learning frameworks can automate the calculation of derivatives. To use it, we first attach gradients to those variables with respect to which we desire partial derivatives. We then record the computation of our target value, execute its function for backpropagation, and access the resulting gradient.\n",
        "\n"
      ]
    }
  ],
  "metadata": {
    "language_info": {
      "name": "python"
    },
    "colab": {
      "name": "autograd_Deep_Learning.ipynb",
      "provenance": []
    },
    "kernelspec": {
      "name": "python3",
      "display_name": "Python 3"
    }
  },
  "nbformat": 4,
  "nbformat_minor": 0
}