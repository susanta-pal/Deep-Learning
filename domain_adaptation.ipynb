{
  "cells": [
    {
      "cell_type": "markdown",
      "metadata": {
        "id": "view-in-github",
        "colab_type": "text"
      },
      "source": [
        "<a href=\"https://colab.research.google.com/github/susanta-pal/Deep-Learning/blob/main/domain_adaptation.ipynb\" target=\"_parent\"><img src=\"https://colab.research.google.com/assets/colab-badge.svg\" alt=\"Open In Colab\"/></a>"
      ]
    },
    {
      "cell_type": "markdown",
      "metadata": {
        "id": "rrkGKlA3h63l"
      },
      "source": [
        "# Import all the necessary libraries"
      ]
    },
    {
      "cell_type": "code",
      "execution_count": null,
      "metadata": {
        "id": "tDOqspXDgRsF"
      },
      "outputs": [],
      "source": [
        "import torch\n",
        "import torch.utils.data\n",
        "from torchvision import transforms\n",
        "from torchvision.datasets import CIFAR10, FashionMNIST\n",
        "import numpy as np\n",
        "from torchvision.models import resnet18, ResNet18_Weights\n",
        "from tqdm import tqdm\n",
        "# !pip install torchmetrics\n",
        "from torchmetrics import Accuracy\n",
        "import matplotlib.pyplot as plt\n",
        "import seaborn as sns"
      ]
    },
    {
      "cell_type": "markdown",
      "metadata": {
        "id": "5SaLVZcNiXPF"
      },
      "source": [
        "# Setup the Data Class (CIFAR10 & FashionMNIST)\n",
        "Always create classes for major modules. This will make your project modular, allowing you to switch different, in this case, datasets and test your model.\n",
        "Out of all the advantages of this coding habit, one advantage of creating multiple objecs of the data class is that it allows you to perform ensemble learning."
      ]
    },
    {
      "cell_type": "code",
      "execution_count": null,
      "metadata": {
        "id": "Og0SUbY9iW40"
      },
      "outputs": [],
      "source": [
        "class DataModule():\n",
        "    def __init__(self, batch_size, fmnist=False):\n",
        "        super().__init__()\n",
        "        self.batch_size = batch_size\n",
        "        self.fmnist = fmnist\n",
        "        # We define some augmentations that we would like to apply during training\n",
        "        self.train_transform = transforms.Compose([\n",
        "\n",
        "            transforms.Resize(256),\n",
        "            transforms.RandomCrop(224, 4),\n",
        "            transforms.RandomHorizontalFlip(),\n",
        "            transforms.ToTensor(),\n",
        "            transforms.Normalize((0.485, 0.456, 0.406), (0.229, 0.224, 0.225)),\n",
        "        ])\n",
        "        # During validation we need to only normalize and resize\n",
        "        self.val_transform = transforms.Compose([\n",
        "            transforms.Resize(224),\n",
        "            transforms.ToTensor(),\n",
        "            transforms.Normalize((0.485, 0.456, 0.406), (0.229, 0.224, 0.225)),\n",
        "        ])\n",
        "        if self.fmnist:\n",
        "            self.train_transform = transforms.Compose([\n",
        "                transforms.transforms.Grayscale(3),\n",
        "                self.train_transform\n",
        "            ])\n",
        "            self.val_transform = transforms.Compose([\n",
        "                transforms.transforms.Grayscale(3),\n",
        "                self.val_transform\n",
        "            ])\n",
        "\n",
        "    # This function sets up our datasets\n",
        "    # which includes downloading and applying the augmentations\n",
        "    def prepare_data(self):\n",
        "        if self.fmnist:\n",
        "            self.train_set = FashionMNIST(root='./data', train=True, download=True, transform=self.train_transform)\n",
        "            self.val_set = FashionMNIST(root='./data', train=False, download=True, transform=self.val_transform)\n",
        "        else:\n",
        "            self.train_set = CIFAR10(root='./data', train=True, download=True, transform=self.train_transform)\n",
        "            self.val_set = CIFAR10(root='./data', train=False, download=True, transform=self.val_transform)\n",
        "\n",
        "    # This functions sets up the data loaders\n",
        "    def setup(self):\n",
        "        self.train_data_loader = torch.utils.data.DataLoader(self.train_set, batch_size=self.batch_size, shuffle=True)\n",
        "        self.val_data_loader = torch.utils.data.DataLoader(self.val_set, batch_size=self.batch_size, shuffle=False)\n",
        "\n",
        "    # This is simply a getter function for the training data loader\n",
        "    def train_dataloader(self, prune=True):\n",
        "        return self.train_data_loader\n",
        "\n",
        "    # This is simply a getter function for the validation data loader\n",
        "    def val_dataloader(self):\n",
        "        return self.val_data_loader"
      ]
    },
    {
      "cell_type": "markdown",
      "metadata": {
        "id": "A7HcA1kVFxhv"
      },
      "source": [
        "# Setup the Model Class\n",
        "Here we will define the model, its forward pass and its behaviour during each training/validation iteration"
      ]
    },
    {
      "cell_type": "code",
      "execution_count": null,
      "metadata": {
        "id": "AePVw9KZFf_N"
      },
      "outputs": [],
      "source": [
        "class DLModel(torch.nn.Module):\n",
        "    def __init__(self, num_classes, pretrained=True, num_unfreeze_layers=0):\n",
        "        super().__init__()\n",
        "        # If you want to use the imagenet pretrained weights\n",
        "        if pretrained:\n",
        "            self.backbone = resnet18(weights=ResNet18_Weights.DEFAULT)\n",
        "            # We freeze the entire model\n",
        "            self.backbone.requires_grad_ = False\n",
        "            # If you want to unfreeze some of the layers, then\n",
        "            if num_unfreeze_layers > 0:\n",
        "                # First find number of layers\n",
        "                num_layers = 0\n",
        "                for name, module in self.named_modules():\n",
        "                    if isinstance(module, torch.nn.Conv2d) or isinstance(module, torch.nn.Linear) or isinstance(module, torch.nn.BatchNorm2d):\n",
        "                        num_layers+=1\n",
        "                # Following which unfreeze the last set of layers\n",
        "                start_unfreezing_counter, counter = num_layers - num_unfreeze_layers, 0\n",
        "                for name, module in self.named_modules():\n",
        "                    if isinstance(module, torch.nn.Conv2d) or isinstance(module, torch.nn.Linear) or isinstance(module, torch.nn.BatchNorm2d):\n",
        "                        counter+=1\n",
        "                    if counter >= start_unfreezing_counter:\n",
        "                        module.requires_grad_ = True\n",
        "        # Otherwise just initialize the network from scratch\n",
        "        else:\n",
        "            self.backbone = resnet18(weights=None)\n",
        "            self.backbone.requires_grad_ = True\n",
        "        # The resnet model comes with a 1000 neuron final layer for the imagenet dataset\n",
        "        self.backbone.fc = torch.nn.Sequential(\n",
        "            torch.nn.Linear(512, num_classes)\n",
        "        )\n",
        "        self.backbone.fc.requires_grad_ = True\n",
        "        # Define the objective function\n",
        "        self.criterion = torch.nn.CrossEntropyLoss()\n",
        "        # Define the metrics\n",
        "        self.train_acc1, self.val_acc1 = Accuracy(task=\"multiclass\", num_classes=num_classes), Accuracy(task=\"multiclass\", num_classes=num_classes)\n",
        "        self.train_acc5, self.val_acc5 = Accuracy(task=\"multiclass\", num_classes=num_classes, top_k=5), Accuracy(task=\"multiclass\", num_classes=num_classes, top_k=5)\n",
        "\n",
        "    # This function sets up the optimizer and scheduler that we will use\n",
        "    def configure_optimizers(self, lr, momentum, max_epochs):\n",
        "        self.optimizer = torch.optim.SGD(self.parameters(), lr=lr, momentum=momentum)\n",
        "        self.scheduler = torch.optim.lr_scheduler.CosineAnnealingLR(self.optimizer, T_max=max_epochs)\n",
        "\n",
        "    # This defines the behaviour of our model during the forward pass\n",
        "    # Based on the defined behaviour, PyTorch sets up the backward pass\n",
        "    def forward(self, x):\n",
        "        out = self.backbone(x)\n",
        "        return out\n",
        "\n",
        "    # This function describes model behaviour per iteration during training\n",
        "    def training_step(self, x, y):\n",
        "        self.optimizer.zero_grad()\n",
        "        preds = self.forward(x)\n",
        "        self.train_acc1.update(preds, y)\n",
        "        self.train_acc5.update(preds, y)\n",
        "        loss = self.criterion(preds, y)\n",
        "        loss.backward()\n",
        "        self.optimizer.step()\n",
        "        return loss.item()\n",
        "\n",
        "    # Once the epoch is complete, we can call this function for inspecting the model's performance\n",
        "    def on_training_epoch_end(self, loss, epoch):\n",
        "        acc1, acc5 = self.train_acc1.compute().item(), self.train_acc5.compute().item()\n",
        "        print(f\"Epoch No: {epoch+1}\\nTraining Loss: {loss}\\n Training Accuracy: {acc1} (Top-1)\\t  {acc5} (Top-5)\")\n",
        "        return acc1, acc5\n",
        "\n",
        "    # This function describes model behaviour per iteration during validation\n",
        "    def validation_step(self, x, y):\n",
        "        preds = self.forward(x)\n",
        "        self.val_acc1.update(preds, y)\n",
        "        self.val_acc5.update(preds, y)\n",
        "        loss = self.criterion(preds, y)\n",
        "        return loss.item()\n",
        "\n",
        "    # Once the validation iterations are complete, we can call this function for inspecting the model's performance\n",
        "    def on_validation_epoch_end(self, loss, epoch):\n",
        "        acc1, acc5 = self.val_acc1.compute().item(), self.val_acc5.compute().item()\n",
        "        print(f\"Validation Loss: {loss}\\nValidation Accuracy: {acc1} (Top-1)\\t  {acc5} (Top-5)\")\n",
        "        return acc1, acc5\n",
        "\n",
        "    # This function resets the metrics so that new results can be calculated for the next epoch\n",
        "    def reset_metrics(self):\n",
        "        self.train_acc1.reset(), self.train_acc5.reset()\n",
        "        self.val_acc1.reset(), self.val_acc5.reset()"
      ]
    },
    {
      "cell_type": "markdown",
      "metadata": {
        "id": "VaPzMZOIebux"
      },
      "source": [
        "# Putting it all together for CIFAR10\n",
        "We first define some static and global variables"
      ]
    },
    {
      "cell_type": "code",
      "execution_count": null,
      "metadata": {
        "colab": {
          "base_uri": "https://localhost:8080/"
        },
        "id": "wnWYGv5BeYkj",
        "outputId": "bfb0ece4-e83d-4b1a-93a7-e5220f3dda07"
      },
      "outputs": [
        {
          "name": "stdout",
          "output_type": "stream",
          "text": [
            "Files already downloaded and verified\n",
            "Files already downloaded and verified\n"
          ]
        },
        {
          "name": "stderr",
          "output_type": "stream",
          "text": [
            "100%|██████████| 391/391 [03:40<00:00,  1.77it/s]\n"
          ]
        },
        {
          "name": "stdout",
          "output_type": "stream",
          "text": [
            "Epoch No: 1\n",
            "Training Loss: 0.720007896042236\n",
            " Training Accuracy: 0.7735999822616577 (Top-1)\t  0.9698600172996521 (Top-5)\n"
          ]
        },
        {
          "name": "stderr",
          "output_type": "stream",
          "text": [
            "100%|██████████| 79/79 [00:20<00:00,  3.85it/s]\n"
          ]
        },
        {
          "name": "stdout",
          "output_type": "stream",
          "text": [
            "Validation Loss: 0.3301464526713649\n",
            "Validation Accuracy: 0.8934999704360962 (Top-1)\t  0.9975000023841858 (Top-5)\n"
          ]
        },
        {
          "name": "stderr",
          "output_type": "stream",
          "text": [
            "100%|██████████| 391/391 [03:53<00:00,  1.68it/s]\n"
          ]
        },
        {
          "name": "stdout",
          "output_type": "stream",
          "text": [
            "Epoch No: 2\n",
            "Training Loss: 0.2836257130898478\n",
            " Training Accuracy: 0.907039999961853 (Top-1)\t  0.9981799721717834 (Top-5)\n"
          ]
        },
        {
          "name": "stderr",
          "output_type": "stream",
          "text": [
            "100%|██████████| 79/79 [00:20<00:00,  3.93it/s]\n"
          ]
        },
        {
          "name": "stdout",
          "output_type": "stream",
          "text": [
            "Validation Loss: 0.23044113795968552\n",
            "Validation Accuracy: 0.9229000210762024 (Top-1)\t  0.9987000226974487 (Top-5)\n"
          ]
        },
        {
          "name": "stderr",
          "output_type": "stream",
          "text": [
            "100%|██████████| 391/391 [03:54<00:00,  1.67it/s]\n"
          ]
        },
        {
          "name": "stdout",
          "output_type": "stream",
          "text": [
            "Epoch No: 3\n",
            "Training Loss: 0.21565367353846654\n",
            " Training Accuracy: 0.929099977016449 (Top-1)\t  0.9988800287246704 (Top-5)\n"
          ]
        },
        {
          "name": "stderr",
          "output_type": "stream",
          "text": [
            "100%|██████████| 79/79 [00:20<00:00,  3.93it/s]\n"
          ]
        },
        {
          "name": "stdout",
          "output_type": "stream",
          "text": [
            "Validation Loss: 0.20475289961205254\n",
            "Validation Accuracy: 0.9304999709129333 (Top-1)\t  0.9990000128746033 (Top-5)\n"
          ]
        },
        {
          "name": "stderr",
          "output_type": "stream",
          "text": [
            "100%|██████████| 391/391 [03:53<00:00,  1.68it/s]\n"
          ]
        },
        {
          "name": "stdout",
          "output_type": "stream",
          "text": [
            "Epoch No: 4\n",
            "Training Loss: 0.17834352667603043\n",
            " Training Accuracy: 0.940559983253479 (Top-1)\t  0.9993000030517578 (Top-5)\n"
          ]
        },
        {
          "name": "stderr",
          "output_type": "stream",
          "text": [
            "100%|██████████| 79/79 [00:19<00:00,  3.96it/s]\n"
          ]
        },
        {
          "name": "stdout",
          "output_type": "stream",
          "text": [
            "Validation Loss: 0.1771709782696223\n",
            "Validation Accuracy: 0.9399999976158142 (Top-1)\t  0.9997000098228455 (Top-5)\n"
          ]
        },
        {
          "name": "stderr",
          "output_type": "stream",
          "text": [
            "100%|██████████| 391/391 [03:52<00:00,  1.68it/s]\n"
          ]
        },
        {
          "name": "stdout",
          "output_type": "stream",
          "text": [
            "Epoch No: 5\n",
            "Training Loss: 0.1537219980717315\n",
            " Training Accuracy: 0.9490200281143188 (Top-1)\t  0.9994199872016907 (Top-5)\n"
          ]
        },
        {
          "name": "stderr",
          "output_type": "stream",
          "text": [
            "100%|██████████| 79/79 [00:20<00:00,  3.92it/s]\n"
          ]
        },
        {
          "name": "stdout",
          "output_type": "stream",
          "text": [
            "Validation Loss: 0.17271177253768413\n",
            "Validation Accuracy: 0.9394000172615051 (Top-1)\t  0.9991999864578247 (Top-5)\n"
          ]
        },
        {
          "name": "stderr",
          "output_type": "stream",
          "text": [
            "100%|██████████| 391/391 [03:53<00:00,  1.67it/s]\n"
          ]
        },
        {
          "name": "stdout",
          "output_type": "stream",
          "text": [
            "Epoch No: 6\n",
            "Training Loss: 0.13692348439941932\n",
            " Training Accuracy: 0.9545199871063232 (Top-1)\t  0.9994999766349792 (Top-5)\n"
          ]
        },
        {
          "name": "stderr",
          "output_type": "stream",
          "text": [
            "100%|██████████| 79/79 [00:19<00:00,  3.98it/s]\n"
          ]
        },
        {
          "name": "stdout",
          "output_type": "stream",
          "text": [
            "Validation Loss: 0.16431478990972798\n",
            "Validation Accuracy: 0.942799985408783 (Top-1)\t  0.9997000098228455 (Top-5)\n"
          ]
        },
        {
          "name": "stderr",
          "output_type": "stream",
          "text": [
            "100%|██████████| 391/391 [03:52<00:00,  1.68it/s]\n"
          ]
        },
        {
          "name": "stdout",
          "output_type": "stream",
          "text": [
            "Epoch No: 7\n",
            "Training Loss: 0.11769590747859472\n",
            " Training Accuracy: 0.9614199995994568 (Top-1)\t  0.9997400045394897 (Top-5)\n"
          ]
        },
        {
          "name": "stderr",
          "output_type": "stream",
          "text": [
            "100%|██████████| 79/79 [00:19<00:00,  3.97it/s]\n"
          ]
        },
        {
          "name": "stdout",
          "output_type": "stream",
          "text": [
            "Validation Loss: 0.15577758990133864\n",
            "Validation Accuracy: 0.9466999769210815 (Top-1)\t  0.9995999932289124 (Top-5)\n"
          ]
        },
        {
          "name": "stderr",
          "output_type": "stream",
          "text": [
            "100%|██████████| 391/391 [03:28<00:00,  1.88it/s]\n"
          ]
        },
        {
          "name": "stdout",
          "output_type": "stream",
          "text": [
            "Epoch No: 8\n",
            "Training Loss: 0.10708374928806902\n",
            " Training Accuracy: 0.9646199941635132 (Top-1)\t  0.9997000098228455 (Top-5)\n"
          ]
        },
        {
          "name": "stderr",
          "output_type": "stream",
          "text": [
            "100%|██████████| 79/79 [00:18<00:00,  4.26it/s]\n"
          ]
        },
        {
          "name": "stdout",
          "output_type": "stream",
          "text": [
            "Validation Loss: 0.14634851724663867\n",
            "Validation Accuracy: 0.9495999813079834 (Top-1)\t  0.9995999932289124 (Top-5)\n"
          ]
        },
        {
          "name": "stderr",
          "output_type": "stream",
          "text": [
            "100%|██████████| 391/391 [04:30<00:00,  1.45it/s]\n"
          ]
        },
        {
          "name": "stdout",
          "output_type": "stream",
          "text": [
            "Epoch No: 9\n",
            "Training Loss: 0.09339188563797023\n",
            " Training Accuracy: 0.9692800045013428 (Top-1)\t  0.9998000264167786 (Top-5)\n"
          ]
        },
        {
          "name": "stderr",
          "output_type": "stream",
          "text": [
            "100%|██████████| 79/79 [01:01<00:00,  1.28it/s]\n"
          ]
        },
        {
          "name": "stdout",
          "output_type": "stream",
          "text": [
            "Validation Loss: 0.14621011695907085\n",
            "Validation Accuracy: 0.9513999819755554 (Top-1)\t  0.9997000098228455 (Top-5)\n"
          ]
        },
        {
          "name": "stderr",
          "output_type": "stream",
          "text": [
            "100%|██████████| 391/391 [7:03:01<00:00, 64.91s/it]      \n"
          ]
        },
        {
          "name": "stdout",
          "output_type": "stream",
          "text": [
            "Epoch No: 10\n",
            "Training Loss: 0.0839331375001489\n",
            " Training Accuracy: 0.9729999899864197 (Top-1)\t  0.9998599886894226 (Top-5)\n"
          ]
        },
        {
          "name": "stderr",
          "output_type": "stream",
          "text": [
            "100%|██████████| 79/79 [00:18<00:00,  4.23it/s]"
          ]
        },
        {
          "name": "stdout",
          "output_type": "stream",
          "text": [
            "Validation Loss: 0.14245389293454871\n",
            "Validation Accuracy: 0.9506999850273132 (Top-1)\t  0.9997000098228455 (Top-5)\n"
          ]
        },
        {
          "name": "stderr",
          "output_type": "stream",
          "text": [
            "\n"
          ]
        }
      ],
      "source": [
        "# First define some static variables\n",
        "num_classes = 10\n",
        "num_epochs = 10\n",
        "batch_size = 128\n",
        "# Fine-tuning and training from scratch require different sets of learning rates\n",
        "lr = 0.001\n",
        "momentum = 0.9\n",
        "device = torch.device(\"cuda\")\n",
        "\n",
        "\n",
        "# Define the data\n",
        "data_module = DataModule(batch_size=batch_size)\n",
        "data_module.prepare_data()\n",
        "data_module.setup()\n",
        "train_loader, val_loader = data_module.train_dataloader(), data_module.val_dataloader()\n",
        "\n",
        "# This variable will be used to save the per-epoch validation accuracy\n",
        "cifar10_val_acc = list()\n",
        "# This variable will be used to save the per-epoch training loss\n",
        "cifar10_train_loss = list()\n",
        "\n",
        "# Define the model\n",
        "model = DLModel(num_classes=num_classes, pretrained=True, num_unfreeze_layers=0).to(device)\n",
        "model.configure_optimizers(lr=lr, momentum=momentum, max_epochs=num_epochs)\n",
        "\n",
        "# Start the training loop\n",
        "for epoch in range(num_epochs):\n",
        "    # This is the training cycle\n",
        "    model.train()\n",
        "    avg_loss = 0\n",
        "    # Iterate over each batch and update the model\n",
        "    for x, y in tqdm(train_loader, total=len(train_loader)):\n",
        "        x, y = x.to(device), y.to(device)\n",
        "        avg_loss+= model.training_step(x, y)\n",
        "    avg_loss/=len(train_loader)\n",
        "    cifar10_train_loss.append(avg_loss)\n",
        "    acc1, acc5 = model.on_training_epoch_end(avg_loss, epoch)\n",
        "\n",
        "    # This is the validation cycle\n",
        "    model.eval()\n",
        "    avg_loss = 0\n",
        "    # Iterate over each batch and get the predictions\n",
        "    for x, y in tqdm(val_loader, total=len(val_loader)):\n",
        "        x, y = x.to(device), y.to(device)\n",
        "        avg_loss+= model.validation_step(x, y)\n",
        "    avg_loss/=len(val_loader)\n",
        "    acc1, acc5 = model.on_validation_epoch_end(avg_loss, epoch)\n",
        "    cifar10_val_acc.append(acc1)\n",
        "\n",
        "    # Finally reset the metrics before going on to the next epoch\n",
        "    model.reset_metrics()"
      ]
    },
    {
      "cell_type": "markdown",
      "metadata": {
        "id": "bYdejdsKq9-9"
      },
      "source": [
        "# Putting it all together for FashionMNIST\n",
        "We first define some static and global variables"
      ]
    },
    {
      "cell_type": "code",
      "execution_count": null,
      "metadata": {
        "id": "p41s7jFhxvYV",
        "outputId": "d4f26ae3-c289-44a4-98e9-ca046027479f"
      },
      "outputs": [
        {
          "name": "stdout",
          "output_type": "stream",
          "text": [
            "Downloading http://fashion-mnist.s3-website.eu-central-1.amazonaws.com/train-images-idx3-ubyte.gz\n",
            "Downloading http://fashion-mnist.s3-website.eu-central-1.amazonaws.com/train-images-idx3-ubyte.gz to ./data\\FashionMNIST\\raw\\train-images-idx3-ubyte.gz\n"
          ]
        },
        {
          "name": "stderr",
          "output_type": "stream",
          "text": [
            "100%|██████████| 26421880/26421880 [00:09<00:00, 2731805.77it/s]\n"
          ]
        },
        {
          "name": "stdout",
          "output_type": "stream",
          "text": [
            "Extracting ./data\\FashionMNIST\\raw\\train-images-idx3-ubyte.gz to ./data\\FashionMNIST\\raw\n",
            "\n",
            "Downloading http://fashion-mnist.s3-website.eu-central-1.amazonaws.com/train-labels-idx1-ubyte.gz\n",
            "Downloading http://fashion-mnist.s3-website.eu-central-1.amazonaws.com/train-labels-idx1-ubyte.gz to ./data\\FashionMNIST\\raw\\train-labels-idx1-ubyte.gz\n"
          ]
        },
        {
          "name": "stderr",
          "output_type": "stream",
          "text": [
            "100%|██████████| 29515/29515 [00:00<00:00, 196882.64it/s]\n"
          ]
        },
        {
          "name": "stdout",
          "output_type": "stream",
          "text": [
            "Extracting ./data\\FashionMNIST\\raw\\train-labels-idx1-ubyte.gz to ./data\\FashionMNIST\\raw\n",
            "\n",
            "Downloading http://fashion-mnist.s3-website.eu-central-1.amazonaws.com/t10k-images-idx3-ubyte.gz\n",
            "Downloading http://fashion-mnist.s3-website.eu-central-1.amazonaws.com/t10k-images-idx3-ubyte.gz to ./data\\FashionMNIST\\raw\\t10k-images-idx3-ubyte.gz\n"
          ]
        },
        {
          "name": "stderr",
          "output_type": "stream",
          "text": [
            "100%|██████████| 4422102/4422102 [00:01<00:00, 3225742.18it/s]\n"
          ]
        },
        {
          "name": "stdout",
          "output_type": "stream",
          "text": [
            "Extracting ./data\\FashionMNIST\\raw\\t10k-images-idx3-ubyte.gz to ./data\\FashionMNIST\\raw\n",
            "\n",
            "Downloading http://fashion-mnist.s3-website.eu-central-1.amazonaws.com/t10k-labels-idx1-ubyte.gz\n",
            "Downloading http://fashion-mnist.s3-website.eu-central-1.amazonaws.com/t10k-labels-idx1-ubyte.gz to ./data\\FashionMNIST\\raw\\t10k-labels-idx1-ubyte.gz\n"
          ]
        },
        {
          "name": "stderr",
          "output_type": "stream",
          "text": [
            "100%|██████████| 5148/5148 [00:00<00:00, 5154518.26it/s]\n"
          ]
        },
        {
          "name": "stdout",
          "output_type": "stream",
          "text": [
            "Extracting ./data\\FashionMNIST\\raw\\t10k-labels-idx1-ubyte.gz to ./data\\FashionMNIST\\raw\n",
            "\n"
          ]
        },
        {
          "name": "stderr",
          "output_type": "stream",
          "text": [
            "100%|██████████| 469/469 [04:15<00:00,  1.83it/s]\n"
          ]
        },
        {
          "name": "stdout",
          "output_type": "stream",
          "text": [
            "Epoch No: 1\n",
            "Training Loss: 0.5466303225201584\n",
            " Training Accuracy: 0.8179333209991455 (Top-1)\t  0.9843833446502686 (Top-5)\n"
          ]
        },
        {
          "name": "stderr",
          "output_type": "stream",
          "text": [
            "100%|██████████| 79/79 [00:20<00:00,  3.83it/s]\n"
          ]
        },
        {
          "name": "stdout",
          "output_type": "stream",
          "text": [
            "Validation Loss: 0.3509441169002388\n",
            "Validation Accuracy: 0.8772000074386597 (Top-1)\t  0.9983999729156494 (Top-5)\n"
          ]
        },
        {
          "name": "stderr",
          "output_type": "stream",
          "text": [
            "100%|██████████| 469/469 [04:10<00:00,  1.87it/s]\n"
          ]
        },
        {
          "name": "stdout",
          "output_type": "stream",
          "text": [
            "Epoch No: 2\n",
            "Training Loss: 0.2902119063428724\n",
            " Training Accuracy: 0.8976500034332275 (Top-1)\t  0.9985499978065491 (Top-5)\n"
          ]
        },
        {
          "name": "stderr",
          "output_type": "stream",
          "text": [
            "100%|██████████| 79/79 [00:20<00:00,  3.85it/s]\n"
          ]
        },
        {
          "name": "stdout",
          "output_type": "stream",
          "text": [
            "Validation Loss: 0.3185345604072643\n",
            "Validation Accuracy: 0.8855999708175659 (Top-1)\t  0.9988999962806702 (Top-5)\n"
          ]
        },
        {
          "name": "stderr",
          "output_type": "stream",
          "text": [
            "100%|██████████| 469/469 [04:10<00:00,  1.87it/s]\n"
          ]
        },
        {
          "name": "stdout",
          "output_type": "stream",
          "text": [
            "Epoch No: 3\n",
            "Training Loss: 0.2436713809048189\n",
            " Training Accuracy: 0.913183331489563 (Top-1)\t  0.9987833499908447 (Top-5)\n"
          ]
        },
        {
          "name": "stderr",
          "output_type": "stream",
          "text": [
            "100%|██████████| 79/79 [00:18<00:00,  4.18it/s]\n"
          ]
        },
        {
          "name": "stdout",
          "output_type": "stream",
          "text": [
            "Validation Loss: 0.27538530905789965\n",
            "Validation Accuracy: 0.902899980545044 (Top-1)\t  0.9988999962806702 (Top-5)\n"
          ]
        },
        {
          "name": "stderr",
          "output_type": "stream",
          "text": [
            "100%|██████████| 469/469 [04:00<00:00,  1.95it/s]\n"
          ]
        },
        {
          "name": "stdout",
          "output_type": "stream",
          "text": [
            "Epoch No: 4\n",
            "Training Loss: 0.2159558549237404\n",
            " Training Accuracy: 0.9224833250045776 (Top-1)\t  0.9991666674613953 (Top-5)\n"
          ]
        },
        {
          "name": "stderr",
          "output_type": "stream",
          "text": [
            "100%|██████████| 79/79 [00:20<00:00,  3.94it/s]\n"
          ]
        },
        {
          "name": "stdout",
          "output_type": "stream",
          "text": [
            "Validation Loss: 0.26192916514752784\n",
            "Validation Accuracy: 0.9067999720573425 (Top-1)\t  0.9991000294685364 (Top-5)\n"
          ]
        },
        {
          "name": "stderr",
          "output_type": "stream",
          "text": [
            "100%|██████████| 469/469 [04:03<00:00,  1.92it/s]\n"
          ]
        },
        {
          "name": "stdout",
          "output_type": "stream",
          "text": [
            "Epoch No: 5\n",
            "Training Loss: 0.2006581279673556\n",
            " Training Accuracy: 0.928516685962677 (Top-1)\t  0.9993500113487244 (Top-5)\n"
          ]
        },
        {
          "name": "stderr",
          "output_type": "stream",
          "text": [
            "100%|██████████| 79/79 [00:19<00:00,  3.95it/s]\n"
          ]
        },
        {
          "name": "stdout",
          "output_type": "stream",
          "text": [
            "Validation Loss: 0.2693555153246167\n",
            "Validation Accuracy: 0.9031000137329102 (Top-1)\t  0.9987999796867371 (Top-5)\n"
          ]
        },
        {
          "name": "stderr",
          "output_type": "stream",
          "text": [
            "100%|██████████| 469/469 [04:06<00:00,  1.90it/s]\n"
          ]
        },
        {
          "name": "stdout",
          "output_type": "stream",
          "text": [
            "Epoch No: 6\n",
            "Training Loss: 0.18597634516354564\n",
            " Training Accuracy: 0.9337833523750305 (Top-1)\t  0.9995166659355164 (Top-5)\n"
          ]
        },
        {
          "name": "stderr",
          "output_type": "stream",
          "text": [
            "100%|██████████| 79/79 [00:20<00:00,  3.92it/s]\n"
          ]
        },
        {
          "name": "stdout",
          "output_type": "stream",
          "text": [
            "Validation Loss: 0.2419285778003403\n",
            "Validation Accuracy: 0.9138000011444092 (Top-1)\t  0.9990000128746033 (Top-5)\n"
          ]
        },
        {
          "name": "stderr",
          "output_type": "stream",
          "text": [
            "100%|██████████| 469/469 [04:02<00:00,  1.93it/s]\n"
          ]
        },
        {
          "name": "stdout",
          "output_type": "stream",
          "text": [
            "Epoch No: 7\n",
            "Training Loss: 0.17610192673801106\n",
            " Training Accuracy: 0.9374833106994629 (Top-1)\t  0.9995999932289124 (Top-5)\n"
          ]
        },
        {
          "name": "stderr",
          "output_type": "stream",
          "text": [
            "100%|██████████| 79/79 [00:19<00:00,  3.96it/s]\n"
          ]
        },
        {
          "name": "stdout",
          "output_type": "stream",
          "text": [
            "Validation Loss: 0.24860934422740452\n",
            "Validation Accuracy: 0.9111999869346619 (Top-1)\t  0.9994000196456909 (Top-5)\n"
          ]
        },
        {
          "name": "stderr",
          "output_type": "stream",
          "text": [
            "100%|██████████| 469/469 [04:01<00:00,  1.95it/s]\n"
          ]
        },
        {
          "name": "stdout",
          "output_type": "stream",
          "text": [
            "Epoch No: 8\n",
            "Training Loss: 0.16527478234060028\n",
            " Training Accuracy: 0.9409666657447815 (Top-1)\t  0.9995666742324829 (Top-5)\n"
          ]
        },
        {
          "name": "stderr",
          "output_type": "stream",
          "text": [
            "100%|██████████| 79/79 [00:19<00:00,  3.98it/s]\n"
          ]
        },
        {
          "name": "stdout",
          "output_type": "stream",
          "text": [
            "Validation Loss: 0.2231006420488599\n",
            "Validation Accuracy: 0.9222999811172485 (Top-1)\t  0.9994000196456909 (Top-5)\n"
          ]
        },
        {
          "name": "stderr",
          "output_type": "stream",
          "text": [
            "100%|██████████| 469/469 [04:04<00:00,  1.92it/s]\n"
          ]
        },
        {
          "name": "stdout",
          "output_type": "stream",
          "text": [
            "Epoch No: 9\n",
            "Training Loss: 0.15564770628013083\n",
            " Training Accuracy: 0.9453333616256714 (Top-1)\t  0.9996333122253418 (Top-5)\n"
          ]
        },
        {
          "name": "stderr",
          "output_type": "stream",
          "text": [
            "100%|██████████| 79/79 [00:20<00:00,  3.81it/s]\n"
          ]
        },
        {
          "name": "stdout",
          "output_type": "stream",
          "text": [
            "Validation Loss: 0.216572385988658\n",
            "Validation Accuracy: 0.9247999787330627 (Top-1)\t  0.9993000030517578 (Top-5)\n"
          ]
        },
        {
          "name": "stderr",
          "output_type": "stream",
          "text": [
            "100%|██████████| 469/469 [04:13<00:00,  1.85it/s]\n"
          ]
        },
        {
          "name": "stdout",
          "output_type": "stream",
          "text": [
            "Epoch No: 10\n",
            "Training Loss: 0.14974255422984106\n",
            " Training Accuracy: 0.9468166828155518 (Top-1)\t  0.9997666478157043 (Top-5)\n"
          ]
        },
        {
          "name": "stderr",
          "output_type": "stream",
          "text": [
            "100%|██████████| 79/79 [00:21<00:00,  3.69it/s]"
          ]
        },
        {
          "name": "stdout",
          "output_type": "stream",
          "text": [
            "Validation Loss: 0.22030502435150026\n",
            "Validation Accuracy: 0.9211999773979187 (Top-1)\t  0.9994999766349792 (Top-5)\n"
          ]
        },
        {
          "name": "stderr",
          "output_type": "stream",
          "text": [
            "\n"
          ]
        }
      ],
      "source": [
        "# First define some static variables\n",
        "num_classes = 10\n",
        "num_epochs = 10\n",
        "batch_size = 128\n",
        "# Fine-tuning and training from scratch require different sets of learning rates\n",
        "lr = 0.001\n",
        "momentum = 0.9\n",
        "device = torch.device(\"cuda\")\n",
        "\n",
        "\n",
        "# Define the data\n",
        "data_module = DataModule(batch_size=batch_size, fmnist=True)\n",
        "data_module.prepare_data()\n",
        "data_module.setup()\n",
        "train_loader, val_loader = data_module.train_dataloader(), data_module.val_dataloader()\n",
        "\n",
        "# This variable will be used to save the per-epoch validation accuracy\n",
        "mnist_val_acc = list()\n",
        "# This variable will be used to save the per-epoch training loss\n",
        "mnist_train_loss = list()\n",
        "\n",
        "# Define the model\n",
        "model = DLModel(num_classes=num_classes, pretrained=True, num_unfreeze_layers=0).to(device)\n",
        "model.configure_optimizers(lr=lr, momentum=momentum, max_epochs=num_epochs)\n",
        "\n",
        "# Start the training loop\n",
        "for epoch in range(num_epochs):\n",
        "    # This is the training cycle\n",
        "    model.train()\n",
        "    avg_loss = 0\n",
        "    # Iterate over each batch and update the model\n",
        "    for x, y in tqdm(train_loader, total=len(train_loader)):\n",
        "        x, y = x.to(device), y.to(device)\n",
        "        avg_loss+= model.training_step(x, y)\n",
        "    avg_loss/=len(train_loader)\n",
        "    mnist_train_loss.append(avg_loss)\n",
        "    acc1, acc5 = model.on_training_epoch_end(avg_loss, epoch)\n",
        "\n",
        "    # This is the validation cycle\n",
        "    model.eval()\n",
        "    avg_loss = 0\n",
        "    # Iterate over each batch and get the predictions\n",
        "    for x, y in tqdm(val_loader, total=len(val_loader)):\n",
        "        x, y = x.to(device), y.to(device)\n",
        "        avg_loss+= model.validation_step(x, y)\n",
        "    avg_loss/=len(val_loader)\n",
        "    acc1, acc5 = model.on_validation_epoch_end(avg_loss, epoch)\n",
        "    mnist_val_acc.append(acc1)\n",
        "\n",
        "    # Finally reset the metrics before going on to the next epoch\n",
        "    model.reset_metrics()"
      ]
    },
    {
      "cell_type": "markdown",
      "metadata": {
        "id": "PgBIgKQ8rxZu"
      },
      "source": [
        "# Comparisons\n",
        "Now that we have evaluated the models for two different datasets, let us compare them\n",
        "We expect that the performance of ResNet18 on MNIST should be considerably worse than CIFAR10 due to reduced domain adaptability"
      ]
    },
    {
      "cell_type": "code",
      "execution_count": null,
      "metadata": {
        "id": "_hvYlCTrR-Xy",
        "outputId": "ed87c508-dd65-4a5f-a469-870f97941d60"
      },
      "outputs": [
        {
          "data": {
            "image/png": "[encoded data removed]",
            "text/plain": [
              "<Figure size 640x480 with 1 Axes>"
            ]
          },
          "metadata": {},
          "output_type": "display_data"
        },
        {
          "data": {
            "image/png": "[encoded data removed]",
            "text/plain": [
              "<Figure size 640x480 with 1 Axes>"
            ]
          },
          "metadata": {},
          "output_type": "display_data"
        }
      ],
      "source": [
        "# Comparing the Training loss per epoch\n",
        "sns.lineplot(x=np.arange(len(cifar10_train_loss)), y=cifar10_train_loss, label=\"CIFAR10\")\n",
        "sns.lineplot(x=np.arange(len(mnist_train_loss)), y=mnist_train_loss, label=\"MNIST\")\n",
        "plt.xlabel(\"Epochs\")\n",
        "plt.ylabel(\"Training Loss\")\n",
        "sns.despine()\n",
        "plt.title(\"Training Loss Comparison\")\n",
        "plt.show()\n",
        "plt.close()\n",
        "\n",
        "# Comparing the validation Accuracies per epoch\n",
        "sns.lineplot(x=np.arange(len(cifar10_val_acc)), y=cifar10_val_acc, label=\"CIFAR10\")\n",
        "sns.lineplot(x=np.arange(len(mnist_val_acc)), y=mnist_val_acc, label=\"MNIST\")\n",
        "plt.xlabel(\"Epochs\")\n",
        "plt.ylabel(\"Validation Accuracy\")\n",
        "sns.despine()\n",
        "plt.title(\"Validation Accuracy Comparison\")\n",
        "plt.show()"
      ]
    },
    {
      "cell_type": "code",
      "execution_count": null,
      "metadata": {
        "id": "OmLKEWUVdmB8"
      },
      "outputs": [],
      "source": []
    }
  ],
  "metadata": {
    "accelerator": "TPU",
    "colab": {
      "gpuType": "V28",
      "provenance": [],
      "include_colab_link": true
    },
    "kernelspec": {
      "display_name": "Python 3",
      "name": "python3"
    },
    "language_info": {
      "codemirror_mode": {
        "name": "ipython",
        "version": 3
      },
      "file_extension": ".py",
      "mimetype": "text/x-python",
      "name": "python",
      "nbconvert_exporter": "python",
      "pygments_lexer": "ipython3",
      "version": "3.10.13"
    }
  },
  "nbformat": 4,
  "nbformat_minor": 0
}